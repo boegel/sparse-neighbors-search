{
 "cells": [
  {
   "cell_type": "code",
   "execution_count": 7,
   "metadata": {
    "collapsed": false
   },
   "outputs": [
    {
     "name": "stdout",
     "output_type": "stream",
     "text": [
      "The memory_profiler extension is already loaded. To reload it, use:\n",
      "  %reload_ext memory_profiler\n"
     ]
    }
   ],
   "source": [
    "%matplotlib inline\n",
    "%load_ext memory_profiler\n",
    "from sklearn.neighbors import NearestNeighbors\n",
    "from sklearn.random_projection import SparseRandomProjection\n",
    "from bioinf_learn.util import neighborhood_accuracy\n",
    "from bioinf_learn.util import measureRandomProjection\n",
    "from eden.converter.graph.gspan import gspan_to_eden\n",
    "from eden.graph import Vectorizer\n",
    "import time \n",
    "from sklearn.random_projection import GaussianRandomProjection\n",
    "from bioinf_learn.util import plotData"
   ]
  },
  {
   "cell_type": "code",
   "execution_count": 2,
   "metadata": {
    "collapsed": false
   },
   "outputs": [
    {
     "name": "stdout",
     "output_type": "stream",
     "text": [
      "peak memory: 483.93 MiB, increment: 387.93 MiB\n",
      "CPU times: user 22.4 s, sys: 100 ms, total: 22.5 s\n",
      "Wall time: 23.5 s\n"
     ]
    }
   ],
   "source": [
    "graphs = gspan_to_eden( 'http://www.bioinf.uni-freiburg.de/~costa/bursi.gspan' )\n",
    "vectorizer = Vectorizer( r=2,d=5 )\n",
    "%time %memit datasetBursi = vectorizer.transform( graphs )"
   ]
  },
  {
   "cell_type": "code",
   "execution_count": 3,
   "metadata": {
    "collapsed": true
   },
   "outputs": [],
   "source": [
    "time_list = []\n",
    "accuracy_list = []"
   ]
  },
  {
   "cell_type": "code",
   "execution_count": 4,
   "metadata": {
    "collapsed": false
   },
   "outputs": [
    {
     "name": "stdout",
     "output_type": "stream",
     "text": [
      "Shape:  (4337, 1048577)\n",
      "Approximate number of non-zero features:  373.168549689\n",
      "Sparsity:  0.000355880922134\n"
     ]
    }
   ],
   "source": [
    "print \"Shape: \", datasetBursi.shape\n",
    "print \"Approximate number of non-zero features: \", datasetBursi.nnz / float(datasetBursi.shape[0])\n",
    "print \"Sparsity: \", datasetBursi.nnz / float(datasetBursi.shape[0]) / datasetBursi.shape[1]"
   ]
  },
  {
   "cell_type": "code",
   "execution_count": 5,
   "metadata": {
    "collapsed": true
   },
   "outputs": [],
   "source": [
    "data_projection = SparseRandomProjection(n_components=10000, random_state=1)\n",
    "dataset_dense_10000 = data_projection.fit_transform(datasetBursi)\n",
    "\n",
    "data_projection = SparseRandomProjection(n_components=1000, random_state=1)\n",
    "dataset_dense_1000 = data_projection.fit_transform(datasetBursi)\n",
    "\n",
    "data_projection = SparseRandomProjection(n_components=800, random_state=1)\n",
    "dataset_dense_800 = data_projection.fit_transform(datasetBursi)\n",
    "\n",
    "data_projection = SparseRandomProjection(n_components=600, random_state=1)\n",
    "dataset_dense_600 = data_projection.fit_transform(datasetBursi)\n",
    "\n",
    "data_projection = SparseRandomProjection(n_components=400, random_state=1)\n",
    "dataset_dense_400 = data_projection.fit_transform(datasetBursi)\n",
    "\n",
    "data_projection = SparseRandomProjection(n_components=100, random_state=1)\n",
    "dataset_dense_100 = data_projection.fit_transform(datasetBursi)\n"
   ]
  },
  {
   "cell_type": "code",
   "execution_count": 7,
   "metadata": {
    "collapsed": false
   },
   "outputs": [
    {
     "name": "stdout",
     "output_type": "stream",
     "text": [
      "Projeted to 10000 dimensions:\n",
      "\n",
      "Shape:  (4337, 10000)\n",
      "Approximate number of non-zero features:  2913.90246714\n",
      "Sparsity:  0.291390246714\n",
      "\n",
      "\n",
      "Projeted to 1000 dimensions:\n",
      "\n",
      "Shape:  (4337, 1000)\n",
      "Approximate number of non-zero features:  286.160018446\n",
      "Sparsity:  0.286160018446\n",
      "\n",
      "\n",
      "Projeted to 800 dimensions:\n",
      "\n",
      "Shape:  (4337, 800)\n",
      "Approximate number of non-zero features:  229.502190454\n",
      "Sparsity:  0.286877738068\n",
      "\n",
      "\n",
      "Projeted to 600 dimensions:\n",
      "\n",
      "Shape:  (4337, 600)\n",
      "Approximate number of non-zero features:  175.481438783\n",
      "Sparsity:  0.292469064638\n",
      "\n",
      "\n",
      "Projeted to 400 dimensions:\n",
      "\n",
      "Shape:  (4337, 400)\n",
      "Approximate number of non-zero features:  119.386903389\n",
      "Sparsity:  0.298467258474\n",
      "\n",
      "\n",
      "Projeted to 100 dimensions:\n",
      "\n",
      "Shape:  (4337, 100)\n",
      "Approximate number of non-zero features:  29.6795019599\n",
      "Sparsity:  0.296795019599\n"
     ]
    }
   ],
   "source": [
    "print \"Projeted to 10000 dimensions:\\n\"\n",
    "print \"Shape: \", dataset_dense_10000.shape\n",
    "print \"Approximate number of non-zero features: \", dataset_dense_10000.nnz / float(dataset_dense_10000.shape[0])\n",
    "print \"Sparsity: \", dataset_dense_10000.nnz / float(dataset_dense_10000.shape[0]) / dataset_dense_10000.shape[1]\n",
    "print \"\\n\"\n",
    "\n",
    "print \"Projeted to 1000 dimensions:\\n\"\n",
    "print \"Shape: \", dataset_dense_1000.shape\n",
    "print \"Approximate number of non-zero features: \", dataset_dense_1000.nnz / float(dataset_dense_1000.shape[0])\n",
    "print \"Sparsity: \", dataset_dense_1000.nnz / float(dataset_dense_1000.shape[0]) / dataset_dense_1000.shape[1]\n",
    "print \"\\n\"\n",
    "\n",
    "print \"Projeted to 800 dimensions:\\n\"\n",
    "print \"Shape: \", dataset_dense_800.shape\n",
    "print \"Approximate number of non-zero features: \", dataset_dense_800.nnz / float(dataset_dense_800.shape[0])\n",
    "print \"Sparsity: \", dataset_dense_800.nnz / float(dataset_dense_800.shape[0]) / dataset_dense_800.shape[1]\n",
    "print \"\\n\"\n",
    "\n",
    "print \"Projeted to 600 dimensions:\\n\"\n",
    "print \"Shape: \", dataset_dense_600.shape\n",
    "print \"Approximate number of non-zero features: \", dataset_dense_600.nnz / float(dataset_dense_600.shape[0])\n",
    "print \"Sparsity: \", dataset_dense_600.nnz / float(dataset_dense_600.shape[0]) / dataset_dense_600.shape[1]\n",
    "print \"\\n\"\n",
    "\n",
    "print \"Projeted to 400 dimensions:\\n\"\n",
    "print \"Shape: \", dataset_dense_400.shape\n",
    "print \"Approximate number of non-zero features: \", dataset_dense_400.nnz / float(dataset_dense_400.shape[0])\n",
    "print \"Sparsity: \", dataset_dense_400.nnz / float(dataset_dense_400.shape[0]) / dataset_dense_400.shape[1]\n",
    "print \"\\n\"\n",
    "\n",
    "print \"Projeted to 100 dimensions:\\n\"\n",
    "print \"Shape: \", dataset_dense_100.shape\n",
    "print \"Approximate number of non-zero features: \", dataset_dense_100.nnz / float(dataset_dense_100.shape[0])\n",
    "print \"Sparsity: \", dataset_dense_100.nnz / float(dataset_dense_100.shape[0]) / dataset_dense_100.shape[1]"
   ]
  },
  {
   "cell_type": "code",
   "execution_count": 8,
   "metadata": {
    "collapsed": false
   },
   "outputs": [],
   "source": [
    "exact = NearestNeighbors()\n",
    "exact.fit(datasetBursi)\n",
    "time_start = time.time()\n",
    "exactNeighbors = exact.kneighbors(return_distance=False)\n",
    "time_list.append(time.time() - time_start)"
   ]
  },
  {
   "cell_type": "code",
   "execution_count": 9,
   "metadata": {
    "collapsed": false
   },
   "outputs": [
    {
     "name": "stdout",
     "output_type": "stream",
     "text": [
      "Accuracy with projection to 10000 dimensions:  0.903020521098\n"
     ]
    }
   ],
   "source": [
    "randomProjection = NearestNeighbors()\n",
    "\n",
    "randomProjection.fit(dataset_dense_10000)\n",
    "time_start = time.time()\n",
    "randomNeighbors = randomProjection.kneighbors(return_distance=False)\n",
    "time_list.append(time.time() - time_start)\n",
    "print \"Accuracy with projection to 10000 dimensions: \",neighborhood_accuracy(exactNeighbors, randomNeighbors)\n",
    "\n",
    "accuracy_list.append(neighborhood_accuracy(exactNeighbors, randomNeighbors))"
   ]
  },
  {
   "cell_type": "code",
   "execution_count": 10,
   "metadata": {
    "collapsed": false
   },
   "outputs": [
    {
     "name": "stdout",
     "output_type": "stream",
     "text": [
      "Accuracy with projection to 1000 dimensions:  0.753792944432\n"
     ]
    }
   ],
   "source": [
    "randomProjection = NearestNeighbors()\n",
    "randomProjection.fit(dataset_dense_1000)\n",
    "time_start = time.time()\n",
    "randomNeighbors = randomProjection.kneighbors(return_distance=False)\n",
    "time_list.append(time.time() - time_start)\n",
    "print \"Accuracy with projection to 1000 dimensions: \",neighborhood_accuracy(exactNeighbors, randomNeighbors)\n",
    "accuracy_list.append(neighborhood_accuracy(exactNeighbors, randomNeighbors))"
   ]
  },
  {
   "cell_type": "code",
   "execution_count": 11,
   "metadata": {
    "collapsed": false
   },
   "outputs": [
    {
     "name": "stdout",
     "output_type": "stream",
     "text": [
      "Accuracy with projection to 800 dimensions:  0.731657827992\n"
     ]
    }
   ],
   "source": [
    "randomProjection = NearestNeighbors()\n",
    "randomProjection.fit(dataset_dense_800)\n",
    "time_start = time.time()\n",
    "randomNeighbors = randomProjection.kneighbors(return_distance=False)\n",
    "time_list.append(time.time() - time_start)\n",
    "print \"Accuracy with projection to 800 dimensions: \",neighborhood_accuracy(exactNeighbors, randomNeighbors)\n",
    "accuracy_list.append(neighborhood_accuracy(exactNeighbors, randomNeighbors))"
   ]
  },
  {
   "cell_type": "code",
   "execution_count": 12,
   "metadata": {
    "collapsed": false
   },
   "outputs": [
    {
     "name": "stdout",
     "output_type": "stream",
     "text": [
      "Accuracy with projection to 600 dimensions:  0.697855660595\n"
     ]
    }
   ],
   "source": [
    "randomProjection = NearestNeighbors()\n",
    "randomProjection.fit(dataset_dense_600)\n",
    "time_start = time.time()\n",
    "randomNeighbors = randomProjection.kneighbors(return_distance=False)\n",
    "time_list.append(time.time() - time_start)\n",
    "print \"Accuracy with projection to 600 dimensions: \",neighborhood_accuracy(exactNeighbors, randomNeighbors)\n",
    "accuracy_list.append(neighborhood_accuracy(exactNeighbors, randomNeighbors))"
   ]
  },
  {
   "cell_type": "code",
   "execution_count": 13,
   "metadata": {
    "collapsed": false
   },
   "outputs": [
    {
     "name": "stdout",
     "output_type": "stream",
     "text": [
      "Accuracy with projection to 400 dimensions:  0.646253170394\n"
     ]
    }
   ],
   "source": [
    "randomProjection = NearestNeighbors()\n",
    "randomProjection.fit(dataset_dense_400)\n",
    "time_start = time.time()\n",
    "randomNeighbors = randomProjection.kneighbors(return_distance=False)\n",
    "time_list.append(time.time() - time_start)\n",
    "print \"Accuracy with projection to 400 dimensions: \",neighborhood_accuracy(exactNeighbors, randomNeighbors)\n",
    "accuracy_list.append(neighborhood_accuracy(exactNeighbors, randomNeighbors))"
   ]
  },
  {
   "cell_type": "code",
   "execution_count": 14,
   "metadata": {
    "collapsed": false
   },
   "outputs": [
    {
     "name": "stdout",
     "output_type": "stream",
     "text": [
      "Accuracy with projection to 100 dimensions:  0.438044731381\n"
     ]
    }
   ],
   "source": [
    "randomProjection = NearestNeighbors()\n",
    "randomProjection.fit(dataset_dense_100)\n",
    "time_start = time.time()\n",
    "randomNeighbors = randomProjection.kneighbors(return_distance=False)\n",
    "time_list.append(time.time() - time_start)\n",
    "print \"Accuracy with projection to 100 dimensions: \", neighborhood_accuracy(exactNeighbors, randomNeighbors)\n",
    "accuracy_list.append(neighborhood_accuracy(exactNeighbors, randomNeighbors))"
   ]
  },
  {
   "cell_type": "code",
   "execution_count": 25,
   "metadata": {
    "collapsed": false
   },
   "outputs": [
    {
     "name": "stdout",
     "output_type": "stream",
     "text": [
      "7\n"
     ]
    },
    {
     "data": {
      "image/png": "[encoded data removed]",
      "text/plain": [
       "<matplotlib.figure.Figure at 0x7f4b57e461d0>"
      ]
     },
     "metadata": {},
     "output_type": "display_data"
    }
   ],
   "source": [
    "import matplotlib.pyplot as plt\n",
    "import numpy as np\n",
    "%matplotlib inline\n",
    "ind = np.arange(7)\n",
    "print len(time_list)\n",
    "plt.bar(ind, time_list, color='r')\n",
    "plt.yscale('log')\n",
    "\n",
    "plt.ylabel(\"Seconds\")\n",
    "plt.xlabel(\"Projected dimensions\")\n",
    "\n",
    "plt.xticks(ind+0.35, (\"original\", \"10000\",\"1000\",\"800\",\"600\",\"400\",\"100\"))\n",
    "plt.title(\"Runtime of sklearns nearest neighor with random projected dataset\")\n",
    "plt.show()\n",
    "    "
   ]
  },
  {
   "cell_type": "code",
   "execution_count": 26,
   "metadata": {
    "collapsed": false
   },
   "outputs": [
    {
     "name": "stdout",
     "output_type": "stream",
     "text": [
      "7\n"
     ]
    },
    {
     "data": {
      "image/png": "[encoded data removed]",
      "text/plain": [
       "<matplotlib.figure.Figure at 0x7f4b53dab650>"
      ]
     },
     "metadata": {},
     "output_type": "display_data"
    }
   ],
   "source": [
    "ind = np.arange(6)\n",
    "print len(time_list)\n",
    "plt.bar(ind, accuracy_list, color='r')\n",
    "\n",
    "plt.ylabel(\"accuracy\")\n",
    "plt.xlabel(\"Projected dimensions\")\n",
    "\n",
    "plt.xticks(ind+0.35, (\"10000\",\"1000\",\"800\",\"600\",\"400\",\"100\"))\n",
    "plt.title(\"Accuracy of sklearns nearest neighor with random projected dataset\")\n",
    "plt.show()"
   ]
  },
  {
   "cell_type": "code",
   "execution_count": 27,
   "metadata": {
    "collapsed": false
   },
   "outputs": [
    {
     "name": "stdout",
     "output_type": "stream",
     "text": [
      "[4.720416069030762, 63.306145906448364, 6.829099893569946, 6.4139769077301025, 4.526046991348267, 3.450144052505493, 1.5602428913116455]\n"
     ]
    }
   ],
   "source": [
    "print time_list"
   ]
  },
  {
   "cell_type": "markdown",
   "metadata": {},
   "source": [
    "### random projection"
   ]
  },
  {
   "cell_type": "code",
   "execution_count": 29,
   "metadata": {
    "collapsed": false
   },
   "outputs": [
    {
     "ename": "MemoryError",
     "evalue": "",
     "output_type": "error",
     "traceback": [
      "\u001b[1;31m---------------------------------------------------------------------------\u001b[0m",
      "\u001b[1;31mMemoryError\u001b[0m                               Traceback (most recent call last)",
      "\u001b[1;32m<ipython-input-29-a5ecc5c23b6b>\u001b[0m in \u001b[0;36m<module>\u001b[1;34m()\u001b[0m\n\u001b[0;32m      1\u001b[0m \u001b[0mdata_projection\u001b[0m \u001b[1;33m=\u001b[0m \u001b[0mGaussianRandomProjection\u001b[0m\u001b[1;33m(\u001b[0m\u001b[0mn_components\u001b[0m\u001b[1;33m=\u001b[0m\u001b[1;36m10000\u001b[0m\u001b[1;33m,\u001b[0m \u001b[0mrandom_state\u001b[0m\u001b[1;33m=\u001b[0m\u001b[1;36m1\u001b[0m\u001b[1;33m)\u001b[0m\u001b[1;33m\u001b[0m\u001b[0m\n\u001b[1;32m----> 2\u001b[1;33m \u001b[0mdataset_dense_10000\u001b[0m \u001b[1;33m=\u001b[0m \u001b[0mdata_projection\u001b[0m\u001b[1;33m.\u001b[0m\u001b[0mfit_transform\u001b[0m\u001b[1;33m(\u001b[0m\u001b[0mdatasetBursi\u001b[0m\u001b[1;33m)\u001b[0m\u001b[1;33m\u001b[0m\u001b[0m\n\u001b[0m\u001b[0;32m      3\u001b[0m \u001b[1;33m\u001b[0m\u001b[0m\n\u001b[0;32m      4\u001b[0m \u001b[0mdata_projection\u001b[0m \u001b[1;33m=\u001b[0m \u001b[0mGaussianRandomProjection\u001b[0m\u001b[1;33m(\u001b[0m\u001b[0mn_components\u001b[0m\u001b[1;33m=\u001b[0m\u001b[1;36m1000\u001b[0m\u001b[1;33m,\u001b[0m \u001b[0mrandom_state\u001b[0m\u001b[1;33m=\u001b[0m\u001b[1;36m1\u001b[0m\u001b[1;33m)\u001b[0m\u001b[1;33m\u001b[0m\u001b[0m\n\u001b[0;32m      5\u001b[0m \u001b[0mdataset_dense_1000\u001b[0m \u001b[1;33m=\u001b[0m \u001b[0mdata_projection\u001b[0m\u001b[1;33m.\u001b[0m\u001b[0mfit_transform\u001b[0m\u001b[1;33m(\u001b[0m\u001b[0mdatasetBursi\u001b[0m\u001b[1;33m)\u001b[0m\u001b[1;33m\u001b[0m\u001b[0m\n",
      "\u001b[1;32m/home/joachim/.local/lib/python2.7/site-packages/sklearn/base.pyc\u001b[0m in \u001b[0;36mfit_transform\u001b[1;34m(self, X, y, **fit_params)\u001b[0m\n\u001b[0;32m    453\u001b[0m         \u001b[1;32mif\u001b[0m \u001b[0my\u001b[0m \u001b[1;32mis\u001b[0m \u001b[0mNone\u001b[0m\u001b[1;33m:\u001b[0m\u001b[1;33m\u001b[0m\u001b[0m\n\u001b[0;32m    454\u001b[0m             \u001b[1;31m# fit method of arity 1 (unsupervised transformation)\u001b[0m\u001b[1;33m\u001b[0m\u001b[1;33m\u001b[0m\u001b[0m\n\u001b[1;32m--> 455\u001b[1;33m             \u001b[1;32mreturn\u001b[0m \u001b[0mself\u001b[0m\u001b[1;33m.\u001b[0m\u001b[0mfit\u001b[0m\u001b[1;33m(\u001b[0m\u001b[0mX\u001b[0m\u001b[1;33m,\u001b[0m \u001b[1;33m**\u001b[0m\u001b[0mfit_params\u001b[0m\u001b[1;33m)\u001b[0m\u001b[1;33m.\u001b[0m\u001b[0mtransform\u001b[0m\u001b[1;33m(\u001b[0m\u001b[0mX\u001b[0m\u001b[1;33m)\u001b[0m\u001b[1;33m\u001b[0m\u001b[0m\n\u001b[0m\u001b[0;32m    456\u001b[0m         \u001b[1;32melse\u001b[0m\u001b[1;33m:\u001b[0m\u001b[1;33m\u001b[0m\u001b[0m\n\u001b[0;32m    457\u001b[0m             \u001b[1;31m# fit method of arity 2 (supervised transformation)\u001b[0m\u001b[1;33m\u001b[0m\u001b[1;33m\u001b[0m\u001b[0m\n",
      "\u001b[1;32m/home/joachim/.local/lib/python2.7/site-packages/sklearn/random_projection.pyc\u001b[0m in \u001b[0;36mfit\u001b[1;34m(self, X, y)\u001b[0m\n\u001b[0;32m    379\u001b[0m         \u001b[1;31m# Generate a projection matrix of size [n_components, n_features]\u001b[0m\u001b[1;33m\u001b[0m\u001b[1;33m\u001b[0m\u001b[0m\n\u001b[0;32m    380\u001b[0m         self.components_ = self._make_random_matrix(self.n_components_,\n\u001b[1;32m--> 381\u001b[1;33m                                                     n_features)\n\u001b[0m\u001b[0;32m    382\u001b[0m \u001b[1;33m\u001b[0m\u001b[0m\n\u001b[0;32m    383\u001b[0m         \u001b[1;31m# Check contract\u001b[0m\u001b[1;33m\u001b[0m\u001b[1;33m\u001b[0m\u001b[0m\n",
      "\u001b[1;32m/home/joachim/.local/lib/python2.7/site-packages/sklearn/random_projection.pyc\u001b[0m in \u001b[0;36m_make_random_matrix\u001b[1;34m(self, n_components, n_features)\u001b[0m\n\u001b[0;32m    495\u001b[0m         return gaussian_random_matrix(n_components,\n\u001b[0;32m    496\u001b[0m                                       \u001b[0mn_features\u001b[0m\u001b[1;33m,\u001b[0m\u001b[1;33m\u001b[0m\u001b[0m\n\u001b[1;32m--> 497\u001b[1;33m                                       random_state=random_state)\n\u001b[0m\u001b[0;32m    498\u001b[0m \u001b[1;33m\u001b[0m\u001b[0m\n\u001b[0;32m    499\u001b[0m \u001b[1;33m\u001b[0m\u001b[0m\n",
      "\u001b[1;32m/home/joachim/.local/lib/python2.7/site-packages/sklearn/random_projection.pyc\u001b[0m in \u001b[0;36mgaussian_random_matrix\u001b[1;34m(n_components, n_features, random_state)\u001b[0m\n\u001b[0;32m    189\u001b[0m     components = rng.normal(loc=0.0,\n\u001b[0;32m    190\u001b[0m                             \u001b[0mscale\u001b[0m\u001b[1;33m=\u001b[0m\u001b[1;36m1.0\u001b[0m \u001b[1;33m/\u001b[0m \u001b[0mnp\u001b[0m\u001b[1;33m.\u001b[0m\u001b[0msqrt\u001b[0m\u001b[1;33m(\u001b[0m\u001b[0mn_components\u001b[0m\u001b[1;33m)\u001b[0m\u001b[1;33m,\u001b[0m\u001b[1;33m\u001b[0m\u001b[0m\n\u001b[1;32m--> 191\u001b[1;33m                             size=(n_components, n_features))\n\u001b[0m\u001b[0;32m    192\u001b[0m     \u001b[1;32mreturn\u001b[0m \u001b[0mcomponents\u001b[0m\u001b[1;33m\u001b[0m\u001b[0m\n\u001b[0;32m    193\u001b[0m \u001b[1;33m\u001b[0m\u001b[0m\n",
      "\u001b[1;32mmtrand.pyx\u001b[0m in \u001b[0;36mmtrand.RandomState.normal (numpy/random/mtrand/mtrand.c:14564)\u001b[1;34m()\u001b[0m\n",
      "\u001b[1;32mmtrand.pyx\u001b[0m in \u001b[0;36mmtrand.cont2_array_sc (numpy/random/mtrand/mtrand.c:2902)\u001b[1;34m()\u001b[0m\n",
      "\u001b[1;31mMemoryError\u001b[0m: "
     ]
    }
   ],
   "source": [
    "data_projection = GaussianRandomProjection(n_components=10000, random_state=1)\n",
    "dataset_dense_10000 = data_projection.fit_transform(datasetBursi)\n",
    "\n",
    "data_projection = GaussianRandomProjection(n_components=1000, random_state=1)\n",
    "dataset_dense_1000 = data_projection.fit_transform(datasetBursi)\n",
    "\n",
    "data_projection = GaussianRandomProjection(n_components=800, random_state=1)\n",
    "dataset_dense_800 = data_projection.fit_transform(datasetBursi)\n",
    "\n",
    "data_projection = GaussianRandomProjection(n_components=600, random_state=1)\n",
    "dataset_dense_600 = data_projection.fit_transform(datasetBursi)\n",
    "\n",
    "data_projection = GaussianRandomProjection(n_components=400, random_state=1)\n",
    "dataset_dense_400 = data_projection.fit_transform(datasetBursi)\n",
    "\n",
    "data_projection = GaussianRandomProjection(n_components=100, random_state=1)\n",
    "dataset_dense_100 = data_projection.fit_transform(datasetBursi)"
   ]
  },
  {
   "cell_type": "code",
   "execution_count": null,
   "metadata": {
    "collapsed": true
   },
   "outputs": [],
   "source": [
    "print \"Projeted to 10000 dimensions:\\n\"\n",
    "print \"Shape: \", dataset_dense_10000.shape\n",
    "print \"Approximate number of non-zero features: \", dataset_dense_10000.nnz / float(dataset_dense_10000.shape[0])\n",
    "print \"Sparsity: \", dataset_dense_10000.nnz / float(dataset_dense_10000.shape[0]) / dataset_dense_10000.shape[1]\n",
    "print \"\\n\"\n",
    "\n",
    "print \"Projeted to 1000 dimensions:\\n\"\n",
    "print \"Shape: \", dataset_dense_1000.shape\n",
    "print \"Approximate number of non-zero features: \", dataset_dense_1000.nnz / float(dataset_dense_1000.shape[0])\n",
    "print \"Sparsity: \", dataset_dense_1000.nnz / float(dataset_dense_1000.shape[0]) / dataset_dense_1000.shape[1]\n",
    "print \"\\n\"\n",
    "\n",
    "print \"Projeted to 800 dimensions:\\n\"\n",
    "print \"Shape: \", dataset_dense_800.shape\n",
    "print \"Approximate number of non-zero features: \", dataset_dense_800.nnz / float(dataset_dense_800.shape[0])\n",
    "print \"Sparsity: \", dataset_dense_800.nnz / float(dataset_dense_800.shape[0]) / dataset_dense_800.shape[1]\n",
    "print \"\\n\"\n",
    "\n",
    "print \"Projeted to 600 dimensions:\\n\"\n",
    "print \"Shape: \", dataset_dense_600.shape\n",
    "print \"Approximate number of non-zero features: \", dataset_dense_600.nnz / float(dataset_dense_600.shape[0])\n",
    "print \"Sparsity: \", dataset_dense_600.nnz / float(dataset_dense_600.shape[0]) / dataset_dense_600.shape[1]\n",
    "print \"\\n\"\n",
    "\n",
    "print \"Projeted to 400 dimensions:\\n\"\n",
    "print \"Shape: \", dataset_dense_400.shape\n",
    "print \"Approximate number of non-zero features: \", dataset_dense_400.nnz / float(dataset_dense_400.shape[0])\n",
    "print \"Sparsity: \", dataset_dense_400.nnz / float(dataset_dense_400.shape[0]) / dataset_dense_400.shape[1]\n",
    "print \"\\n\"\n",
    "\n",
    "print \"Projeted to 100 dimensions:\\n\"\n",
    "print \"Shape: \", dataset_dense_100.shape\n",
    "print \"Approximate number of non-zero features: \", dataset_dense_100.nnz / float(dataset_dense_100.shape[0])\n",
    "print \"Sparsity: \", dataset_dense_100.nnz / float(dataset_dense_100.shape[0]) / dataset_dense_100.shape[1]"
   ]
  },
  {
   "cell_type": "code",
   "execution_count": null,
   "metadata": {
    "collapsed": true
   },
   "outputs": [],
   "source": [
    "exact = NearestNeighbors()\n",
    "exact.fit(datasetBursi)\n",
    "time_start = time.time()\n",
    "exactNeighbors = exact.kneighbors(return_distance=False)\n",
    "time_list.append(time.time() - time_start)"
   ]
  },
  {
   "cell_type": "code",
   "execution_count": null,
   "metadata": {
    "collapsed": true
   },
   "outputs": [],
   "source": [
    "randomProjection = NearestNeighbors()\n",
    "\n",
    "randomProjection.fit(dataset_dense_10000)\n",
    "time_start = time.time()\n",
    "randomNeighbors = randomProjection.kneighbors(return_distance=False)\n",
    "time_list.append(time.time() - time_start)\n",
    "print \"Accuracy with projection to 10000 dimensions: \",neighborhood_accuracy(exactNeighbors, randomNeighbors)\n",
    "\n",
    "accuracy_list.append(neighborhood_accuracy(exactNeighbors, randomNeighbors))"
   ]
  },
  {
   "cell_type": "code",
   "execution_count": null,
   "metadata": {
    "collapsed": true
   },
   "outputs": [],
   "source": [
    "randomProjection = NearestNeighbors()\n",
    "randomProjection.fit(dataset_dense_1000)\n",
    "time_start = time.time()\n",
    "randomNeighbors = randomProjection.kneighbors(return_distance=False)\n",
    "time_list.append(time.time() - time_start)\n",
    "print \"Accuracy with projection to 1000 dimensions: \",neighborhood_accuracy(exactNeighbors, randomNeighbors)\n",
    "accuracy_list.append(neighborhood_accuracy(exactNeighbors, randomNeighbors))"
   ]
  },
  {
   "cell_type": "code",
   "execution_count": null,
   "metadata": {
    "collapsed": true
   },
   "outputs": [],
   "source": [
    "randomProjection = NearestNeighbors()\n",
    "randomProjection.fit(dataset_dense_800)\n",
    "time_start = time.time()\n",
    "randomNeighbors = randomProjection.kneighbors(return_distance=False)\n",
    "time_list.append(time.time() - time_start)\n",
    "print \"Accuracy with projection to 800 dimensions: \",neighborhood_accuracy(exactNeighbors, randomNeighbors)\n",
    "accuracy_list.append(neighborhood_accuracy(exactNeighbors, randomNeighbors))"
   ]
  },
  {
   "cell_type": "code",
   "execution_count": null,
   "metadata": {
    "collapsed": true
   },
   "outputs": [],
   "source": [
    "randomProjection = NearestNeighbors()\n",
    "randomProjection.fit(dataset_dense_600)\n",
    "time_start = time.time()\n",
    "randomNeighbors = randomProjection.kneighbors(return_distance=False)\n",
    "time_list.append(time.time() - time_start)\n",
    "print \"Accuracy with projection to 600 dimensions: \",neighborhood_accuracy(exactNeighbors, randomNeighbors)\n",
    "accuracy_list.append(neighborhood_accuracy(exactNeighbors, randomNeighbors))"
   ]
  },
  {
   "cell_type": "code",
   "execution_count": null,
   "metadata": {
    "collapsed": true
   },
   "outputs": [],
   "source": [
    "randomProjection = NearestNeighbors()\n",
    "randomProjection.fit(dataset_dense_400)\n",
    "time_start = time.time()\n",
    "randomNeighbors = randomProjection.kneighbors(return_distance=False)\n",
    "time_list.append(time.time() - time_start)\n",
    "print \"Accuracy with projection to 400 dimensions: \",neighborhood_accuracy(exactNeighbors, randomNeighbors)\n",
    "accuracy_list.append(neighborhood_accuracy(exactNeighbors, randomNeighbors))"
   ]
  },
  {
   "cell_type": "code",
   "execution_count": null,
   "metadata": {
    "collapsed": true
   },
   "outputs": [],
   "source": [
    "randomProjection = NearestNeighbors()\n",
    "randomProjection.fit(dataset_dense_100)\n",
    "time_start = time.time()\n",
    "randomNeighbors = randomProjection.kneighbors(return_distance=False)\n",
    "time_list.append(time.time() - time_start)\n",
    "print \"Accuracy with projection to 100 dimensions: \", neighborhood_accuracy(exactNeighbors, randomNeighbors)\n",
    "accuracy_list.append(neighborhood_accuracy(exactNeighbors, randomNeighbors))"
   ]
  },
  {
   "cell_type": "code",
   "execution_count": null,
   "metadata": {
    "collapsed": true
   },
   "outputs": [],
   "source": [
    "import matplotlib.pyplot as plt\n",
    "import numpy as np\n",
    "%matplotlib inline\n",
    "ind = np.arange(7)\n",
    "print len(time_list)\n",
    "plt.bar(ind, time_list, color='r')\n",
    "plt.yscale('log')\n",
    "\n",
    "plt.ylabel(\"Seconds\")\n",
    "plt.xlabel(\"Projected dimensions\")\n",
    "\n",
    "plt.xticks(ind+0.35, (\"original\", \"10000\",\"1000\",\"800\",\"600\",\"400\",\"100\"))\n",
    "plt.title(\"Runtime of sklearns nearest neighor with random projected dataset\")\n",
    "plt.show()\n",
    "    "
   ]
  },
  {
   "cell_type": "code",
   "execution_count": null,
   "metadata": {
    "collapsed": true
   },
   "outputs": [],
   "source": [
    "ind = np.arange(6)\n",
    "print len(time_list)\n",
    "plt.bar(ind, accuracy_list, color='r')\n",
    "\n",
    "plt.ylabel(\"accuracy\")\n",
    "plt.xlabel(\"Projected dimensions\")\n",
    "\n",
    "plt.xticks(ind+0.35, (\"10000\",\"1000\",\"800\",\"600\",\"400\",\"100\"))\n",
    "plt.title(\"Accuracy of sklearns nearest neighor with random projected dataset\")\n",
    "plt.show()"
   ]
  },
  {
   "cell_type": "code",
   "execution_count": 3,
   "metadata": {
    "collapsed": true
   },
   "outputs": [],
   "source": [
    "from bioinf_learn.util import measureRandomProjection\n",
    "max_bin_size = 49\n",
    "shingle_size = 2\n",
    "minimal_blocks_in_common= 1\n",
    "prune_inverse_index= 11\n",
    "store_value_with_least_sigificant_bit=3\n",
    "excess_factor= 11\n",
    "prune_inverse_index_after_instance= 0.5\n",
    "remove_hash_function_with_less_entries_as= 0\n",
    "shingle= 0\n",
    "block_size= 4\n",
    "hash_functions = 596\n",
    "minHash = [max_bin_size, shingle_size, minimal_blocks_in_common, prune_inverse_index, \n",
    "            store_value_with_least_sigificant_bit, excess_factor,\n",
    "            prune_inverse_index_after_instance, remove_hash_function_with_less_entries_as,\n",
    "            shingle, block_size, hash_functions]\n",
    "max_bin_size = 87\n",
    "shingle_size = 4\n",
    "minimal_blocks_in_common= 1\n",
    "prune_inverse_index= 6\n",
    "store_value_with_least_sigificant_bit=1\n",
    "excess_factor= 11\n",
    "prune_inverse_index_after_instance= 0.0\n",
    "remove_hash_function_with_less_entries_as= 0\n",
    "shingle= 0\n",
    "block_size=2\n",
    "rangeK_wta = 17\n",
    "hash_functions=186\n",
    "wtaHash = [max_bin_size, shingle_size, rangeK_wta, minimal_blocks_in_common, prune_inverse_index, \n",
    "            store_value_with_least_sigificant_bit, excess_factor,\n",
    "            prune_inverse_index_after_instance, remove_hash_function_with_less_entries_as,\n",
    "            shingle, block_size, hash_functions]"
   ]
  },
  {
   "cell_type": "code",
   "execution_count": 4,
   "metadata": {
    "collapsed": false
   },
   "outputs": [],
   "source": [
    "random_projection = measureRandomProjection(datasetBursi,minHash, wtaHash )"
   ]
  },
  {
   "cell_type": "code",
   "execution_count": 10,
   "metadata": {
    "collapsed": false
   },
   "outputs": [
    {
     "name": "stdout",
     "output_type": "stream",
     "text": [
      "[[0.8766708374023438, 0.8719961643218994, 1.047490119934082, 1.3958981037139893, 1.6795580387115479, 2.0099260807037354], [0.644575834274292, 0.8188910484313965, 1.1070690155029297, 1.2057950496673584, 1.328564167022705, 1.2999939918518066], [1.2944371700286865, 1.3877489566802979, 1.2650749683380127, 1.381619930267334, 1.267786979675293, 1.2949581146240234]]\n"
     ]
    }
   ],
   "source": [
    "print random_projection[:3]\n",
    "from bioinf_learn.util import plotData"
   ]
  },
  {
   "cell_type": "code",
   "execution_count": 18,
   "metadata": {
    "collapsed": false
   },
   "outputs": [
    {
     "data": {
      "image/png": "[encoded data removed]",
      "text/plain": [
       "<matplotlib.figure.Figure at 0x7f15df69c150>"
      ]
     },
     "metadata": {},
     "output_type": "display_data"
    }
   ],
   "source": [
    "plotData(data=random_projection[:3], color=[\"r\", \"b\", \"m\"], label=[\"sklearn\", \"minHash\", \"wtaHash\"],\n",
    "        xticks=[\"100\", \"200\", \"400\", \"600\", \"800\", \"1000\"], ylabel=\"Time in seconds\", number_of_instances=6,\n",
    "        xlabel=\"Number of projected dimensions.\",\n",
    "         number_of_features=1, title='Query time for random projection and bf vs MinHash vs WtaHash')"
   ]
  },
  {
   "cell_type": "code",
   "execution_count": 19,
   "metadata": {
    "collapsed": false
   },
   "outputs": [
    {
     "data": {
      "image/png": "[encoded data removed]",
      "text/plain": [
       "<matplotlib.figure.Figure at 0x7f15df4c54d0>"
      ]
     },
     "metadata": {},
     "output_type": "display_data"
    }
   ],
   "source": [
    "plotData(data=random_projection[3:], color=[\"r\", \"b\", \"m\"], label=[\"sklearn\", \"minHash\", \"wtaHash\"],\n",
    "        xticks=[\"100\", \"200\", \"400\", \"600\", \"800\", \"1000\"], ylabel=\"Accuracy\", number_of_instances=6,\n",
    "        xlabel=\"Number of projected dimensions.\",\n",
    "         number_of_features=1, title='Accuracy for random projection and bf vs MinHash vs WtaHash', log=False)"
   ]
  },
  {
   "cell_type": "code",
   "execution_count": 1,
   "metadata": {
    "collapsed": true
   },
   "outputs": [],
   "source": [
    "from eden.converter.rna.rnafold import rnafold_to_eden\n",
    "from eden.converter.fasta import fasta_to_sequence\n",
    "from eden.graph import Vectorizer\n",
    "from itertools import islice\n",
    "import numpy as np\n",
    "from scipy.sparse import vstack\n",
    "%matplotlib inline\n",
    "%load_ext memory_profiler\n",
    "from bioinf_learn.util import measure_performance\n",
    "from bioinf_learn.util import plotData\n",
    "\n",
    "import time\n",
    "import numpy as np\n",
    "\n",
    "def rfam_uri(family_id):\n",
    "    return 'http://rfam.xfam.org/family/%s/alignment?acc=%s&format=fastau&download=0'%(family_id,family_id)\n",
    "\n",
    "def rfam_to_matrix(rfam_id, n_max=50, complexity=2, nbits=10):\n",
    "    seqs = fasta_to_sequence(rfam_uri(rfam_id))\n",
    "    seqs = islice(seqs,n_max)\n",
    "    seqs = list(seqs)\n",
    "    graphs = rnafold_to_eden(seqs)\n",
    "    vectorizer = Vectorizer(complexity=complexity, nbits=nbits, positional=True)\n",
    "    X = vectorizer.transform(graphs)\n",
    "    return X\n",
    "\n",
    "def rfam_data(rfam_ids, n_max=300, complexity=3, nbits=13):\n",
    "    Xs = []\n",
    "    targets = []\n",
    "    for i,rfam_id in enumerate(rfam_ids):\n",
    "        X=rfam_to_matrix(rfam_id, n_max=n_max, complexity=complexity, nbits=nbits)\n",
    "        Xs.append(X)\n",
    "        targets += [i] * X.shape[0]\n",
    "    data_matrix = vstack(Xs, format=\"csr\")\n",
    "    targets = np.array(targets)    \n",
    "    return data_matrix, targets"
   ]
  },
  {
   "cell_type": "code",
   "execution_count": 2,
   "metadata": {
    "collapsed": true
   },
   "outputs": [],
   "source": [
    "rfam_ids=['RF00004','RF00005','RF00015','RF00020','RF00026','RF00169',\n",
    "          'RF00380','RF00386','RF01051','RF01055','RF01234','RF01699',\n",
    "          'RF01701','RF01705','RF01731','RF01734','RF01745','RF01750',\n",
    "          'RF01942','RF01998','RF02005','RF02012','RF02034']"
   ]
  },
  {
   "cell_type": "code",
   "execution_count": 3,
   "metadata": {
    "collapsed": false
   },
   "outputs": [
    {
     "name": "stdout",
     "output_type": "stream",
     "text": [
      "Instances: 2300 Features: 65537 with an avg of 3676 features per instance\n",
      "Sparsity:  0.0560959059967\n",
      "CPU times: user 1min 8s, sys: 10.3 s, total: 1min 18s\n",
      "Wall time: 1min 45s\n"
     ]
    }
   ],
   "source": [
    "%%time\n",
    "X, y = rfam_data(rfam_ids, n_max=100, complexity=3, nbits=16)\n",
    "print 'Instances: %d Features: %d with an avg of %d features per instance' % (X.shape[0], X.shape[1],  X.getnnz()/X.shape[0])\n",
    "print \"Sparsity: \", X.nnz / float(X.shape[0]) / X.shape[1]"
   ]
  },
  {
   "cell_type": "code",
   "execution_count": 9,
   "metadata": {
    "collapsed": true
   },
   "outputs": [],
   "source": [
    "from bioinf_learn.util import measureRandomProjection\n",
    "max_bin_size = 51\n",
    "shingle_size = 2\n",
    "minimal_blocks_in_common= 1\n",
    "prune_inverse_index= 0\n",
    "store_value_with_least_sigificant_bit=1\n",
    "excess_factor= 11\n",
    "prune_inverse_index_after_instance= 0.0\n",
    "remove_hash_function_with_less_entries_as= 0\n",
    "shingle= 1\n",
    "block_size= 4\n",
    "hash_functions = 828\n",
    "minHash = [max_bin_size, shingle_size, minimal_blocks_in_common, prune_inverse_index, \n",
    "            store_value_with_least_sigificant_bit, excess_factor,\n",
    "            prune_inverse_index_after_instance, remove_hash_function_with_less_entries_as,\n",
    "            shingle, block_size, hash_functions]\n",
    "max_bin_size = 30\n",
    "shingle_size = 3\n",
    "minimal_blocks_in_common= 1\n",
    "prune_inverse_index= 1\n",
    "store_value_with_least_sigificant_bit=2\n",
    "excess_factor= 14\n",
    "prune_inverse_index_after_instance= 0.5\n",
    "remove_hash_function_with_less_entries_as= 0\n",
    "shingle= 0\n",
    "block_size=1\n",
    "rangeK_wta = 23\n",
    "hash_functions = 739\n",
    "wtaHash = [max_bin_size, shingle_size, rangeK_wta, minimal_blocks_in_common, prune_inverse_index, \n",
    "            store_value_with_least_sigificant_bit, excess_factor,\n",
    "            prune_inverse_index_after_instance, remove_hash_function_with_less_entries_as,\n",
    "            shingle, block_size, hash_functions]"
   ]
  },
  {
   "cell_type": "code",
   "execution_count": 10,
   "metadata": {
    "collapsed": false
   },
   "outputs": [],
   "source": [
    "random_projection_rna = measureRandomProjection(X, minHash, wtaHash )"
   ]
  },
  {
   "cell_type": "code",
   "execution_count": 11,
   "metadata": {
    "collapsed": false
   },
   "outputs": [
    {
     "data": {
      "image/png": "[encoded data removed]",
      "text/plain": [
       "<matplotlib.figure.Figure at 0x7f2680b1aa90>"
      ]
     },
     "metadata": {},
     "output_type": "display_data"
    }
   ],
   "source": [
    "plotData(data=random_projection_rna[:3], color=[\"r\", \"b\", \"m\"], label=[\"sklearn\", \"minHash\", \"wtaHash\"],\n",
    "        xticks=[\"100\", \"200\", \"400\", \"600\", \"800\", \"1000\"], ylabel=\"Time in seconds\", number_of_instances=6,\n",
    "        xlabel=\"Number of projected dimensions.\",\n",
    "         number_of_features=1, title='Query time for random projection and bf vs MinHash vs WtaHash on RNA')"
   ]
  },
  {
   "cell_type": "code",
   "execution_count": 12,
   "metadata": {
    "collapsed": false
   },
   "outputs": [
    {
     "data": {
      "image/png": "[encoded data removed]",
      "text/plain": [
       "<matplotlib.figure.Figure at 0x7f2674f2aed0>"
      ]
     },
     "metadata": {},
     "output_type": "display_data"
    }
   ],
   "source": [
    "plotData(data=random_projection_rna[3:], color=[\"r\", \"b\", \"m\"], label=[\"sklearn\", \"minHash\", \"wtaHash\"],\n",
    "        xticks=[\"100\", \"200\", \"400\", \"600\", \"800\", \"1000\"], ylabel=\"Accuracy\", number_of_instances=6,\n",
    "        xlabel=\"Number of projected dimensions.\",\n",
    "         number_of_features=1, title='Accuracy for random projection and bf vs MinHash vs WtaHash on RNA', log=False)"
   ]
  },
  {
   "cell_type": "code",
   "execution_count": null,
   "metadata": {
    "collapsed": true
   },
   "outputs": [],
   "source": []
  }
 ],
 "metadata": {
  "kernelspec": {
   "display_name": "Python 2",
   "language": "python",
   "name": "python2"
  },
  "language_info": {
   "codemirror_mode": {
    "name": "ipython",
    "version": 2
   },
   "file_extension": ".py",
   "mimetype": "text/x-python",
   "name": "python",
   "nbconvert_exporter": "python",
   "pygments_lexer": "ipython2",
   "version": "2.7.6"
  }
 },
 "nbformat": 4,
 "nbformat_minor": 0
}
