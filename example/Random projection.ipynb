{
 "cells": [
  {
   "cell_type": "code",
   "execution_count": 1,
   "metadata": {
    "collapsed": true
   },
   "outputs": [],
   "source": [
    "%matplotlib inline\n",
    "%load_ext memory_profiler\n",
    "from sklearn.neighbors import NearestNeighbors\n",
    "from sklearn.random_projection import SparseRandomProjection\n",
    "from bioinf_learn.util import neighborhood_accuracy\n",
    "from eden.converter.graph.gspan import gspan_to_eden\n",
    "from eden.graph import Vectorizer"
   ]
  },
  {
   "cell_type": "code",
   "execution_count": 2,
   "metadata": {
    "collapsed": false
   },
   "outputs": [
    {
     "name": "stdout",
     "output_type": "stream",
     "text": [
      "peak memory: 482.49 MiB, increment: 388.84 MiB\n",
      "CPU times: user 35.4 s, sys: 220 ms, total: 35.6 s\n",
      "Wall time: 36.4 s\n"
     ]
    }
   ],
   "source": [
    "graphs = gspan_to_eden( 'http://www.bioinf.uni-freiburg.de/~costa/bursi.gspan' )\n",
    "vectorizer = Vectorizer( r=2,d=5 )\n",
    "%time %memit datasetBursi = vectorizer.transform( graphs )"
   ]
  },
  {
   "cell_type": "code",
   "execution_count": 3,
   "metadata": {
    "collapsed": false
   },
   "outputs": [
    {
     "name": "stdout",
     "output_type": "stream",
     "text": [
      "Shape:  (4337, 1048577)\n",
      "Approximate number of non-zero features:  373.168549689\n",
      "Sparsity:  0.000355880922134\n"
     ]
    }
   ],
   "source": [
    "print \"Shape: \", datasetBursi.shape\n",
    "print \"Approximate number of non-zero features: \", datasetBursi.nnz / float(datasetBursi.shape[0])\n",
    "print \"Sparsity: \", datasetBursi.nnz / float(datasetBursi.shape[0]) / datasetBursi.shape[1]"
   ]
  },
  {
   "cell_type": "code",
   "execution_count": 7,
   "metadata": {
    "collapsed": true
   },
   "outputs": [],
   "source": [
    "data_projection = SparseRandomProjection(n_components=10000, random_state=1)\n",
    "dataset_dense_10000 = data_projection.fit_transform(datasetBursi)\n",
    "\n",
    "data_projection = SparseRandomProjection(n_components=1000, random_state=1)\n",
    "dataset_dense_1000 = data_projection.fit_transform(datasetBursi)\n",
    "\n",
    "data_projection = SparseRandomProjection(n_components=800, random_state=1)\n",
    "dataset_dense_800 = data_projection.fit_transform(datasetBursi)\n",
    "\n",
    "data_projection = SparseRandomProjection(n_components=600, random_state=1)\n",
    "dataset_dense_600 = data_projection.fit_transform(datasetBursi)\n",
    "\n",
    "data_projection = SparseRandomProjection(n_components=400, random_state=1)\n",
    "dataset_dense_400 = data_projection.fit_transform(datasetBursi)\n",
    "\n",
    "data_projection = SparseRandomProjection(n_components=100, random_state=1)\n",
    "dataset_dense_100 = data_projection.fit_transform(datasetBursi)\n"
   ]
  },
  {
   "cell_type": "code",
   "execution_count": 13,
   "metadata": {
    "collapsed": false
   },
   "outputs": [
    {
     "name": "stdout",
     "output_type": "stream",
     "text": [
      "Projeted to 10000 dimensions:\n",
      "\n",
      "Shape:  (4337, 10000)\n",
      "Approximate number of non-zero features:  2913.90246714\n",
      "Sparsity:  0.291390246714\n",
      "\n",
      "\n",
      "Projeted to 1000 dimensions:\n",
      "\n",
      "Shape:  (4337, 1000)\n",
      "Approximate number of non-zero features:  286.160018446\n",
      "Sparsity:  0.286160018446\n",
      "\n",
      "\n",
      "Projeted to 800 dimensions:\n",
      "\n",
      "Shape:  (4337, 800)\n",
      "Approximate number of non-zero features:  229.502190454\n",
      "Sparsity:  0.286877738068\n",
      "\n",
      "\n",
      "Projeted to 600 dimensions:\n",
      "\n",
      "Shape:  (4337, 600)\n",
      "Approximate number of non-zero features:  175.481438783\n",
      "Sparsity:  0.292469064638\n",
      "\n",
      "\n",
      "Projeted to 400 dimensions:\n",
      "\n",
      "Shape:  (4337, 400)\n",
      "Approximate number of non-zero features:  119.386903389\n",
      "Sparsity:  0.298467258474\n",
      "\n",
      "\n",
      "Projeted to 100 dimensions:\n",
      "\n",
      "Shape:  (4337, 100)\n",
      "Approximate number of non-zero features:  29.6795019599\n",
      "Sparsity:  0.296795019599\n"
     ]
    }
   ],
   "source": [
    "print \"Projeted to 10000 dimensions:\\n\"\n",
    "print \"Shape: \", dataset_dense_10000.shape\n",
    "print \"Approximate number of non-zero features: \", dataset_dense_10000.nnz / float(dataset_dense_10000.shape[0])\n",
    "print \"Sparsity: \", dataset_dense_10000.nnz / float(dataset_dense_10000.shape[0]) / dataset_dense_10000.shape[1]\n",
    "print \"\\n\"\n",
    "\n",
    "print \"Projeted to 1000 dimensions:\\n\"\n",
    "print \"Shape: \", dataset_dense_1000.shape\n",
    "print \"Approximate number of non-zero features: \", dataset_dense_1000.nnz / float(dataset_dense_1000.shape[0])\n",
    "print \"Sparsity: \", dataset_dense_1000.nnz / float(dataset_dense_1000.shape[0]) / dataset_dense_1000.shape[1]\n",
    "print \"\\n\"\n",
    "\n",
    "print \"Projeted to 800 dimensions:\\n\"\n",
    "print \"Shape: \", dataset_dense_800.shape\n",
    "print \"Approximate number of non-zero features: \", dataset_dense_800.nnz / float(dataset_dense_800.shape[0])\n",
    "print \"Sparsity: \", dataset_dense_800.nnz / float(dataset_dense_800.shape[0]) / dataset_dense_800.shape[1]\n",
    "print \"\\n\"\n",
    "\n",
    "print \"Projeted to 600 dimensions:\\n\"\n",
    "print \"Shape: \", dataset_dense_600.shape\n",
    "print \"Approximate number of non-zero features: \", dataset_dense_600.nnz / float(dataset_dense_600.shape[0])\n",
    "print \"Sparsity: \", dataset_dense_600.nnz / float(dataset_dense_600.shape[0]) / dataset_dense_600.shape[1]\n",
    "print \"\\n\"\n",
    "\n",
    "print \"Projeted to 400 dimensions:\\n\"\n",
    "print \"Shape: \", dataset_dense_400.shape\n",
    "print \"Approximate number of non-zero features: \", dataset_dense_400.nnz / float(dataset_dense_400.shape[0])\n",
    "print \"Sparsity: \", dataset_dense_400.nnz / float(dataset_dense_400.shape[0]) / dataset_dense_400.shape[1]\n",
    "print \"\\n\"\n",
    "\n",
    "print \"Projeted to 100 dimensions:\\n\"\n",
    "print \"Shape: \", dataset_dense_100.shape\n",
    "print \"Approximate number of non-zero features: \", dataset_dense_100.nnz / float(dataset_dense_100.shape[0])\n",
    "print \"Sparsity: \", dataset_dense_100.nnz / float(dataset_dense_100.shape[0]) / dataset_dense_100.shape[1]"
   ]
  },
  {
   "cell_type": "code",
   "execution_count": 5,
   "metadata": {
    "collapsed": false
   },
   "outputs": [
    {
     "name": "stdout",
     "output_type": "stream",
     "text": [
      "peak memory: 857.61 MiB, increment: 436.17 MiB\n",
      "CPU times: user 4.45 s, sys: 148 ms, total: 4.6 s\n",
      "Wall time: 4.71 s\n"
     ]
    }
   ],
   "source": [
    "exact = NearestNeighbors()\n",
    "exact.fit(datasetBursi)\n",
    "%time %memit exactNeighbors = exact.kneighbors(return_distance=False)"
   ]
  },
  {
   "cell_type": "code",
   "execution_count": 6,
   "metadata": {
    "collapsed": false
   },
   "outputs": [
    {
     "name": "stdout",
     "output_type": "stream",
     "text": [
      "peak memory: 955.72 MiB, increment: 390.56 MiB\n",
      "CPU times: user 1min 6s, sys: 152 ms, total: 1min 6s\n",
      "Wall time: 1min 6s\n",
      "Accuracy with projection to 10000 dimensions:  0.903020521098\n"
     ]
    }
   ],
   "source": [
    "randomProjection = NearestNeighbors()\n",
    "randomProjection.fit(dataset_dense_10000)\n",
    "%time %memit randomNeighbors = randomProjection.kneighbors(return_distance=False)\n",
    "\n",
    "print \"Accuracy with projection to 10000 dimensions: \", neighborhood_accuracy(exactNeighbors, randomNeighbors)"
   ]
  },
  {
   "cell_type": "code",
   "execution_count": 8,
   "metadata": {
    "collapsed": false
   },
   "outputs": [
    {
     "name": "stdout",
     "output_type": "stream",
     "text": [
      "peak memory: 852.28 MiB, increment: 419.16 MiB\n",
      "CPU times: user 6.85 s, sys: 88 ms, total: 6.94 s\n",
      "Wall time: 7.05 s\n",
      "Accuracy with projection to 1000 dimensions:  0.753792944432\n"
     ]
    }
   ],
   "source": [
    "randomProjection = NearestNeighbors()\n",
    "randomProjection.fit(dataset_dense_1000)\n",
    "%time %memit randomNeighbors = randomProjection.kneighbors(return_distance=False)\n",
    "\n",
    "print \"Accuracy with projection to 1000 dimensions: \",neighborhood_accuracy(exactNeighbors, randomNeighbors)"
   ]
  },
  {
   "cell_type": "code",
   "execution_count": 9,
   "metadata": {
    "collapsed": false
   },
   "outputs": [
    {
     "name": "stdout",
     "output_type": "stream",
     "text": [
      "peak memory: 866.98 MiB, increment: 433.84 MiB\n",
      "CPU times: user 5.6 s, sys: 120 ms, total: 5.72 s\n",
      "Wall time: 5.83 s\n",
      "Accuracy with projection to 800 dimensions:  0.731657827992\n"
     ]
    }
   ],
   "source": [
    "randomProjection = NearestNeighbors()\n",
    "randomProjection.fit(dataset_dense_800)\n",
    "%time %memit randomNeighbors = randomProjection.kneighbors(return_distance=False)\n",
    "\n",
    "print \"Accuracy with projection to 800 dimensions: \",neighborhood_accuracy(exactNeighbors, randomNeighbors)"
   ]
  },
  {
   "cell_type": "code",
   "execution_count": 10,
   "metadata": {
    "collapsed": false
   },
   "outputs": [
    {
     "name": "stdout",
     "output_type": "stream",
     "text": [
      "peak memory: 800.81 MiB, increment: 367.67 MiB\n",
      "CPU times: user 4.56 s, sys: 84 ms, total: 4.65 s\n",
      "Wall time: 4.76 s\n",
      "Accuracy with projection to 600 dimensions:  0.697855660595\n"
     ]
    }
   ],
   "source": [
    "randomProjection = NearestNeighbors()\n",
    "randomProjection.fit(dataset_dense_600)\n",
    "%time %memit randomNeighbors = randomProjection.kneighbors(return_distance=False)\n",
    "\n",
    "print \"Accuracy with projection to 600 dimensions: \",neighborhood_accuracy(exactNeighbors, randomNeighbors)"
   ]
  },
  {
   "cell_type": "code",
   "execution_count": 11,
   "metadata": {
    "collapsed": false
   },
   "outputs": [
    {
     "name": "stdout",
     "output_type": "stream",
     "text": [
      "peak memory: 834.54 MiB, increment: 401.39 MiB\n",
      "CPU times: user 3.38 s, sys: 116 ms, total: 3.49 s\n",
      "Wall time: 3.61 s\n",
      "Accuracy with projection to 400 dimensions:  0.646253170394\n"
     ]
    }
   ],
   "source": [
    "randomProjection = NearestNeighbors()\n",
    "randomProjection.fit(dataset_dense_400)\n",
    "%time %memit randomNeighbors = randomProjection.kneighbors(return_distance=False)\n",
    "\n",
    "print \"Accuracy with projection to 400 dimensions: \",neighborhood_accuracy(exactNeighbors, randomNeighbors)"
   ]
  },
  {
   "cell_type": "code",
   "execution_count": 12,
   "metadata": {
    "collapsed": false
   },
   "outputs": [
    {
     "name": "stdout",
     "output_type": "stream",
     "text": [
      "peak memory: 855.54 MiB, increment: 422.39 MiB\n",
      "CPU times: user 1.58 s, sys: 72 ms, total: 1.65 s\n",
      "Wall time: 1.76 s\n",
      "Accuracy with projection to 100 dimensions:  0.438044731381\n"
     ]
    }
   ],
   "source": [
    "randomProjection = NearestNeighbors()\n",
    "randomProjection.fit(dataset_dense_100)\n",
    "%time %memit randomNeighbors = randomProjection.kneighbors(return_distance=False)\n",
    "\n",
    "print \"Accuracy with projection to 100 dimensions: \", neighborhood_accuracy(exactNeighbors, randomNeighbors)"
   ]
  },
  {
   "cell_type": "code",
   "execution_count": null,
   "metadata": {
    "collapsed": true
   },
   "outputs": [],
   "source": []
  }
 ],
 "metadata": {
  "kernelspec": {
   "display_name": "Python 2",
   "language": "python",
   "name": "python2"
  },
  "language_info": {
   "codemirror_mode": {
    "name": "ipython",
    "version": 2
   },
   "file_extension": ".py",
   "mimetype": "text/x-python",
   "name": "python",
   "nbconvert_exporter": "python",
   "pygments_lexer": "ipython2",
   "version": "2.7.6"
  }
 },
 "nbformat": 4,
 "nbformat_minor": 0
}
