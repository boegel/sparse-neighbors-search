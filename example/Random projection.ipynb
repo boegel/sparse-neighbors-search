{
 "cells": [
  {
   "cell_type": "code",
   "execution_count": 28,
   "metadata": {
    "collapsed": false
   },
   "outputs": [
    {
     "name": "stdout",
     "output_type": "stream",
     "text": [
      "The memory_profiler extension is already loaded. To reload it, use:\n",
      "  %reload_ext memory_profiler\n"
     ]
    }
   ],
   "source": [
    "%matplotlib inline\n",
    "%load_ext memory_profiler\n",
    "from sklearn.neighbors import NearestNeighbors\n",
    "from sklearn.random_projection import SparseRandomProjection\n",
    "from bioinf_learn.util import neighborhood_accuracy\n",
    "from eden.converter.graph.gspan import gspan_to_eden\n",
    "from eden.graph import Vectorizer\n",
    "import time \n",
    "from sklearn.random_projection import GaussianRandomProjection"
   ]
  },
  {
   "cell_type": "code",
   "execution_count": 2,
   "metadata": {
    "collapsed": false
   },
   "outputs": [
    {
     "name": "stdout",
     "output_type": "stream",
     "text": [
      "peak memory: 482.80 MiB, increment: 388.90 MiB\n",
      "CPU times: user 35.3 s, sys: 156 ms, total: 35.4 s\n",
      "Wall time: 36.3 s\n"
     ]
    }
   ],
   "source": [
    "graphs = gspan_to_eden( 'http://www.bioinf.uni-freiburg.de/~costa/bursi.gspan' )\n",
    "vectorizer = Vectorizer( r=2,d=5 )\n",
    "%time %memit datasetBursi = vectorizer.transform( graphs )"
   ]
  },
  {
   "cell_type": "code",
   "execution_count": 3,
   "metadata": {
    "collapsed": true
   },
   "outputs": [],
   "source": [
    "time_list = []\n",
    "accuracy_list = []"
   ]
  },
  {
   "cell_type": "code",
   "execution_count": 4,
   "metadata": {
    "collapsed": false
   },
   "outputs": [
    {
     "name": "stdout",
     "output_type": "stream",
     "text": [
      "Shape:  (4337, 1048577)\n",
      "Approximate number of non-zero features:  373.168549689\n",
      "Sparsity:  0.000355880922134\n"
     ]
    }
   ],
   "source": [
    "print \"Shape: \", datasetBursi.shape\n",
    "print \"Approximate number of non-zero features: \", datasetBursi.nnz / float(datasetBursi.shape[0])\n",
    "print \"Sparsity: \", datasetBursi.nnz / float(datasetBursi.shape[0]) / datasetBursi.shape[1]"
   ]
  },
  {
   "cell_type": "code",
   "execution_count": 5,
   "metadata": {
    "collapsed": true
   },
   "outputs": [],
   "source": [
    "data_projection = SparseRandomProjection(n_components=10000, random_state=1)\n",
    "dataset_dense_10000 = data_projection.fit_transform(datasetBursi)\n",
    "\n",
    "data_projection = SparseRandomProjection(n_components=1000, random_state=1)\n",
    "dataset_dense_1000 = data_projection.fit_transform(datasetBursi)\n",
    "\n",
    "data_projection = SparseRandomProjection(n_components=800, random_state=1)\n",
    "dataset_dense_800 = data_projection.fit_transform(datasetBursi)\n",
    "\n",
    "data_projection = SparseRandomProjection(n_components=600, random_state=1)\n",
    "dataset_dense_600 = data_projection.fit_transform(datasetBursi)\n",
    "\n",
    "data_projection = SparseRandomProjection(n_components=400, random_state=1)\n",
    "dataset_dense_400 = data_projection.fit_transform(datasetBursi)\n",
    "\n",
    "data_projection = SparseRandomProjection(n_components=100, random_state=1)\n",
    "dataset_dense_100 = data_projection.fit_transform(datasetBursi)\n"
   ]
  },
  {
   "cell_type": "code",
   "execution_count": 7,
   "metadata": {
    "collapsed": false
   },
   "outputs": [
    {
     "name": "stdout",
     "output_type": "stream",
     "text": [
      "Projeted to 10000 dimensions:\n",
      "\n",
      "Shape:  (4337, 10000)\n",
      "Approximate number of non-zero features:  2913.90246714\n",
      "Sparsity:  0.291390246714\n",
      "\n",
      "\n",
      "Projeted to 1000 dimensions:\n",
      "\n",
      "Shape:  (4337, 1000)\n",
      "Approximate number of non-zero features:  286.160018446\n",
      "Sparsity:  0.286160018446\n",
      "\n",
      "\n",
      "Projeted to 800 dimensions:\n",
      "\n",
      "Shape:  (4337, 800)\n",
      "Approximate number of non-zero features:  229.502190454\n",
      "Sparsity:  0.286877738068\n",
      "\n",
      "\n",
      "Projeted to 600 dimensions:\n",
      "\n",
      "Shape:  (4337, 600)\n",
      "Approximate number of non-zero features:  175.481438783\n",
      "Sparsity:  0.292469064638\n",
      "\n",
      "\n",
      "Projeted to 400 dimensions:\n",
      "\n",
      "Shape:  (4337, 400)\n",
      "Approximate number of non-zero features:  119.386903389\n",
      "Sparsity:  0.298467258474\n",
      "\n",
      "\n",
      "Projeted to 100 dimensions:\n",
      "\n",
      "Shape:  (4337, 100)\n",
      "Approximate number of non-zero features:  29.6795019599\n",
      "Sparsity:  0.296795019599\n"
     ]
    }
   ],
   "source": [
    "print \"Projeted to 10000 dimensions:\\n\"\n",
    "print \"Shape: \", dataset_dense_10000.shape\n",
    "print \"Approximate number of non-zero features: \", dataset_dense_10000.nnz / float(dataset_dense_10000.shape[0])\n",
    "print \"Sparsity: \", dataset_dense_10000.nnz / float(dataset_dense_10000.shape[0]) / dataset_dense_10000.shape[1]\n",
    "print \"\\n\"\n",
    "\n",
    "print \"Projeted to 1000 dimensions:\\n\"\n",
    "print \"Shape: \", dataset_dense_1000.shape\n",
    "print \"Approximate number of non-zero features: \", dataset_dense_1000.nnz / float(dataset_dense_1000.shape[0])\n",
    "print \"Sparsity: \", dataset_dense_1000.nnz / float(dataset_dense_1000.shape[0]) / dataset_dense_1000.shape[1]\n",
    "print \"\\n\"\n",
    "\n",
    "print \"Projeted to 800 dimensions:\\n\"\n",
    "print \"Shape: \", dataset_dense_800.shape\n",
    "print \"Approximate number of non-zero features: \", dataset_dense_800.nnz / float(dataset_dense_800.shape[0])\n",
    "print \"Sparsity: \", dataset_dense_800.nnz / float(dataset_dense_800.shape[0]) / dataset_dense_800.shape[1]\n",
    "print \"\\n\"\n",
    "\n",
    "print \"Projeted to 600 dimensions:\\n\"\n",
    "print \"Shape: \", dataset_dense_600.shape\n",
    "print \"Approximate number of non-zero features: \", dataset_dense_600.nnz / float(dataset_dense_600.shape[0])\n",
    "print \"Sparsity: \", dataset_dense_600.nnz / float(dataset_dense_600.shape[0]) / dataset_dense_600.shape[1]\n",
    "print \"\\n\"\n",
    "\n",
    "print \"Projeted to 400 dimensions:\\n\"\n",
    "print \"Shape: \", dataset_dense_400.shape\n",
    "print \"Approximate number of non-zero features: \", dataset_dense_400.nnz / float(dataset_dense_400.shape[0])\n",
    "print \"Sparsity: \", dataset_dense_400.nnz / float(dataset_dense_400.shape[0]) / dataset_dense_400.shape[1]\n",
    "print \"\\n\"\n",
    "\n",
    "print \"Projeted to 100 dimensions:\\n\"\n",
    "print \"Shape: \", dataset_dense_100.shape\n",
    "print \"Approximate number of non-zero features: \", dataset_dense_100.nnz / float(dataset_dense_100.shape[0])\n",
    "print \"Sparsity: \", dataset_dense_100.nnz / float(dataset_dense_100.shape[0]) / dataset_dense_100.shape[1]"
   ]
  },
  {
   "cell_type": "code",
   "execution_count": 8,
   "metadata": {
    "collapsed": false
   },
   "outputs": [],
   "source": [
    "exact = NearestNeighbors()\n",
    "exact.fit(datasetBursi)\n",
    "time_start = time.time()\n",
    "exactNeighbors = exact.kneighbors(return_distance=False)\n",
    "time_list.append(time.time() - time_start)"
   ]
  },
  {
   "cell_type": "code",
   "execution_count": 9,
   "metadata": {
    "collapsed": false
   },
   "outputs": [
    {
     "name": "stdout",
     "output_type": "stream",
     "text": [
      "Accuracy with projection to 10000 dimensions:  0.903020521098\n"
     ]
    }
   ],
   "source": [
    "randomProjection = NearestNeighbors()\n",
    "\n",
    "randomProjection.fit(dataset_dense_10000)\n",
    "time_start = time.time()\n",
    "randomNeighbors = randomProjection.kneighbors(return_distance=False)\n",
    "time_list.append(time.time() - time_start)\n",
    "print \"Accuracy with projection to 10000 dimensions: \",neighborhood_accuracy(exactNeighbors, randomNeighbors)\n",
    "\n",
    "accuracy_list.append(neighborhood_accuracy(exactNeighbors, randomNeighbors))"
   ]
  },
  {
   "cell_type": "code",
   "execution_count": 10,
   "metadata": {
    "collapsed": false
   },
   "outputs": [
    {
     "name": "stdout",
     "output_type": "stream",
     "text": [
      "Accuracy with projection to 1000 dimensions:  0.753792944432\n"
     ]
    }
   ],
   "source": [
    "randomProjection = NearestNeighbors()\n",
    "randomProjection.fit(dataset_dense_1000)\n",
    "time_start = time.time()\n",
    "randomNeighbors = randomProjection.kneighbors(return_distance=False)\n",
    "time_list.append(time.time() - time_start)\n",
    "print \"Accuracy with projection to 1000 dimensions: \",neighborhood_accuracy(exactNeighbors, randomNeighbors)\n",
    "accuracy_list.append(neighborhood_accuracy(exactNeighbors, randomNeighbors))"
   ]
  },
  {
   "cell_type": "code",
   "execution_count": 11,
   "metadata": {
    "collapsed": false
   },
   "outputs": [
    {
     "name": "stdout",
     "output_type": "stream",
     "text": [
      "Accuracy with projection to 800 dimensions:  0.731657827992\n"
     ]
    }
   ],
   "source": [
    "randomProjection = NearestNeighbors()\n",
    "randomProjection.fit(dataset_dense_800)\n",
    "time_start = time.time()\n",
    "randomNeighbors = randomProjection.kneighbors(return_distance=False)\n",
    "time_list.append(time.time() - time_start)\n",
    "print \"Accuracy with projection to 800 dimensions: \",neighborhood_accuracy(exactNeighbors, randomNeighbors)\n",
    "accuracy_list.append(neighborhood_accuracy(exactNeighbors, randomNeighbors))"
   ]
  },
  {
   "cell_type": "code",
   "execution_count": 12,
   "metadata": {
    "collapsed": false
   },
   "outputs": [
    {
     "name": "stdout",
     "output_type": "stream",
     "text": [
      "Accuracy with projection to 600 dimensions:  0.697855660595\n"
     ]
    }
   ],
   "source": [
    "randomProjection = NearestNeighbors()\n",
    "randomProjection.fit(dataset_dense_600)\n",
    "time_start = time.time()\n",
    "randomNeighbors = randomProjection.kneighbors(return_distance=False)\n",
    "time_list.append(time.time() - time_start)\n",
    "print \"Accuracy with projection to 600 dimensions: \",neighborhood_accuracy(exactNeighbors, randomNeighbors)\n",
    "accuracy_list.append(neighborhood_accuracy(exactNeighbors, randomNeighbors))"
   ]
  },
  {
   "cell_type": "code",
   "execution_count": 13,
   "metadata": {
    "collapsed": false
   },
   "outputs": [
    {
     "name": "stdout",
     "output_type": "stream",
     "text": [
      "Accuracy with projection to 400 dimensions:  0.646253170394\n"
     ]
    }
   ],
   "source": [
    "randomProjection = NearestNeighbors()\n",
    "randomProjection.fit(dataset_dense_400)\n",
    "time_start = time.time()\n",
    "randomNeighbors = randomProjection.kneighbors(return_distance=False)\n",
    "time_list.append(time.time() - time_start)\n",
    "print \"Accuracy with projection to 400 dimensions: \",neighborhood_accuracy(exactNeighbors, randomNeighbors)\n",
    "accuracy_list.append(neighborhood_accuracy(exactNeighbors, randomNeighbors))"
   ]
  },
  {
   "cell_type": "code",
   "execution_count": 14,
   "metadata": {
    "collapsed": false
   },
   "outputs": [
    {
     "name": "stdout",
     "output_type": "stream",
     "text": [
      "Accuracy with projection to 100 dimensions:  0.438044731381\n"
     ]
    }
   ],
   "source": [
    "randomProjection = NearestNeighbors()\n",
    "randomProjection.fit(dataset_dense_100)\n",
    "time_start = time.time()\n",
    "randomNeighbors = randomProjection.kneighbors(return_distance=False)\n",
    "time_list.append(time.time() - time_start)\n",
    "print \"Accuracy with projection to 100 dimensions: \", neighborhood_accuracy(exactNeighbors, randomNeighbors)\n",
    "accuracy_list.append(neighborhood_accuracy(exactNeighbors, randomNeighbors))"
   ]
  },
  {
   "cell_type": "code",
   "execution_count": 25,
   "metadata": {
    "collapsed": false
   },
   "outputs": [
    {
     "name": "stdout",
     "output_type": "stream",
     "text": [
      "7\n"
     ]
    },
    {
     "data": {
      "image/png": "[encoded data removed]",
      "text/plain": [
       "<matplotlib.figure.Figure at 0x7f4b57e461d0>"
      ]
     },
     "metadata": {},
     "output_type": "display_data"
    }
   ],
   "source": [
    "import matplotlib.pyplot as plt\n",
    "import numpy as np\n",
    "%matplotlib inline\n",
    "ind = np.arange(7)\n",
    "print len(time_list)\n",
    "plt.bar(ind, time_list, color='r')\n",
    "plt.yscale('log')\n",
    "\n",
    "plt.ylabel(\"Seconds\")\n",
    "plt.xlabel(\"Projected dimensions\")\n",
    "\n",
    "plt.xticks(ind+0.35, (\"original\", \"10000\",\"1000\",\"800\",\"600\",\"400\",\"100\"))\n",
    "plt.title(\"Runtime of sklearns nearest neighor with random projected dataset\")\n",
    "plt.show()\n",
    "    "
   ]
  },
  {
   "cell_type": "code",
   "execution_count": 26,
   "metadata": {
    "collapsed": false
   },
   "outputs": [
    {
     "name": "stdout",
     "output_type": "stream",
     "text": [
      "7\n"
     ]
    },
    {
     "data": {
      "image/png": "[encoded data removed]",
      "text/plain": [
       "<matplotlib.figure.Figure at 0x7f4b53dab650>"
      ]
     },
     "metadata": {},
     "output_type": "display_data"
    }
   ],
   "source": [
    "ind = np.arange(6)\n",
    "print len(time_list)\n",
    "plt.bar(ind, accuracy_list, color='r')\n",
    "\n",
    "plt.ylabel(\"accuracy\")\n",
    "plt.xlabel(\"Projected dimensions\")\n",
    "\n",
    "plt.xticks(ind+0.35, (\"10000\",\"1000\",\"800\",\"600\",\"400\",\"100\"))\n",
    "plt.title(\"Accuracy of sklearns nearest neighor with random projected dataset\")\n",
    "plt.show()"
   ]
  },
  {
   "cell_type": "code",
   "execution_count": 27,
   "metadata": {
    "collapsed": false
   },
   "outputs": [
    {
     "name": "stdout",
     "output_type": "stream",
     "text": [
      "[4.720416069030762, 63.306145906448364, 6.829099893569946, 6.4139769077301025, 4.526046991348267, 3.450144052505493, 1.5602428913116455]\n"
     ]
    }
   ],
   "source": [
    "print time_list"
   ]
  },
  {
   "cell_type": "markdown",
   "metadata": {},
   "source": [
    "### random projection"
   ]
  },
  {
   "cell_type": "code",
   "execution_count": 29,
   "metadata": {
    "collapsed": false
   },
   "outputs": [
    {
     "ename": "MemoryError",
     "evalue": "",
     "output_type": "error",
     "traceback": [
      "\u001b[1;31m---------------------------------------------------------------------------\u001b[0m",
      "\u001b[1;31mMemoryError\u001b[0m                               Traceback (most recent call last)",
      "\u001b[1;32m<ipython-input-29-a5ecc5c23b6b>\u001b[0m in \u001b[0;36m<module>\u001b[1;34m()\u001b[0m\n\u001b[0;32m      1\u001b[0m \u001b[0mdata_projection\u001b[0m \u001b[1;33m=\u001b[0m \u001b[0mGaussianRandomProjection\u001b[0m\u001b[1;33m(\u001b[0m\u001b[0mn_components\u001b[0m\u001b[1;33m=\u001b[0m\u001b[1;36m10000\u001b[0m\u001b[1;33m,\u001b[0m \u001b[0mrandom_state\u001b[0m\u001b[1;33m=\u001b[0m\u001b[1;36m1\u001b[0m\u001b[1;33m)\u001b[0m\u001b[1;33m\u001b[0m\u001b[0m\n\u001b[1;32m----> 2\u001b[1;33m \u001b[0mdataset_dense_10000\u001b[0m \u001b[1;33m=\u001b[0m \u001b[0mdata_projection\u001b[0m\u001b[1;33m.\u001b[0m\u001b[0mfit_transform\u001b[0m\u001b[1;33m(\u001b[0m\u001b[0mdatasetBursi\u001b[0m\u001b[1;33m)\u001b[0m\u001b[1;33m\u001b[0m\u001b[0m\n\u001b[0m\u001b[0;32m      3\u001b[0m \u001b[1;33m\u001b[0m\u001b[0m\n\u001b[0;32m      4\u001b[0m \u001b[0mdata_projection\u001b[0m \u001b[1;33m=\u001b[0m \u001b[0mGaussianRandomProjection\u001b[0m\u001b[1;33m(\u001b[0m\u001b[0mn_components\u001b[0m\u001b[1;33m=\u001b[0m\u001b[1;36m1000\u001b[0m\u001b[1;33m,\u001b[0m \u001b[0mrandom_state\u001b[0m\u001b[1;33m=\u001b[0m\u001b[1;36m1\u001b[0m\u001b[1;33m)\u001b[0m\u001b[1;33m\u001b[0m\u001b[0m\n\u001b[0;32m      5\u001b[0m \u001b[0mdataset_dense_1000\u001b[0m \u001b[1;33m=\u001b[0m \u001b[0mdata_projection\u001b[0m\u001b[1;33m.\u001b[0m\u001b[0mfit_transform\u001b[0m\u001b[1;33m(\u001b[0m\u001b[0mdatasetBursi\u001b[0m\u001b[1;33m)\u001b[0m\u001b[1;33m\u001b[0m\u001b[0m\n",
      "\u001b[1;32m/home/joachim/.local/lib/python2.7/site-packages/sklearn/base.pyc\u001b[0m in \u001b[0;36mfit_transform\u001b[1;34m(self, X, y, **fit_params)\u001b[0m\n\u001b[0;32m    453\u001b[0m         \u001b[1;32mif\u001b[0m \u001b[0my\u001b[0m \u001b[1;32mis\u001b[0m \u001b[0mNone\u001b[0m\u001b[1;33m:\u001b[0m\u001b[1;33m\u001b[0m\u001b[0m\n\u001b[0;32m    454\u001b[0m             \u001b[1;31m# fit method of arity 1 (unsupervised transformation)\u001b[0m\u001b[1;33m\u001b[0m\u001b[1;33m\u001b[0m\u001b[0m\n\u001b[1;32m--> 455\u001b[1;33m             \u001b[1;32mreturn\u001b[0m \u001b[0mself\u001b[0m\u001b[1;33m.\u001b[0m\u001b[0mfit\u001b[0m\u001b[1;33m(\u001b[0m\u001b[0mX\u001b[0m\u001b[1;33m,\u001b[0m \u001b[1;33m**\u001b[0m\u001b[0mfit_params\u001b[0m\u001b[1;33m)\u001b[0m\u001b[1;33m.\u001b[0m\u001b[0mtransform\u001b[0m\u001b[1;33m(\u001b[0m\u001b[0mX\u001b[0m\u001b[1;33m)\u001b[0m\u001b[1;33m\u001b[0m\u001b[0m\n\u001b[0m\u001b[0;32m    456\u001b[0m         \u001b[1;32melse\u001b[0m\u001b[1;33m:\u001b[0m\u001b[1;33m\u001b[0m\u001b[0m\n\u001b[0;32m    457\u001b[0m             \u001b[1;31m# fit method of arity 2 (supervised transformation)\u001b[0m\u001b[1;33m\u001b[0m\u001b[1;33m\u001b[0m\u001b[0m\n",
      "\u001b[1;32m/home/joachim/.local/lib/python2.7/site-packages/sklearn/random_projection.pyc\u001b[0m in \u001b[0;36mfit\u001b[1;34m(self, X, y)\u001b[0m\n\u001b[0;32m    379\u001b[0m         \u001b[1;31m# Generate a projection matrix of size [n_components, n_features]\u001b[0m\u001b[1;33m\u001b[0m\u001b[1;33m\u001b[0m\u001b[0m\n\u001b[0;32m    380\u001b[0m         self.components_ = self._make_random_matrix(self.n_components_,\n\u001b[1;32m--> 381\u001b[1;33m                                                     n_features)\n\u001b[0m\u001b[0;32m    382\u001b[0m \u001b[1;33m\u001b[0m\u001b[0m\n\u001b[0;32m    383\u001b[0m         \u001b[1;31m# Check contract\u001b[0m\u001b[1;33m\u001b[0m\u001b[1;33m\u001b[0m\u001b[0m\n",
      "\u001b[1;32m/home/joachim/.local/lib/python2.7/site-packages/sklearn/random_projection.pyc\u001b[0m in \u001b[0;36m_make_random_matrix\u001b[1;34m(self, n_components, n_features)\u001b[0m\n\u001b[0;32m    495\u001b[0m         return gaussian_random_matrix(n_components,\n\u001b[0;32m    496\u001b[0m                                       \u001b[0mn_features\u001b[0m\u001b[1;33m,\u001b[0m\u001b[1;33m\u001b[0m\u001b[0m\n\u001b[1;32m--> 497\u001b[1;33m                                       random_state=random_state)\n\u001b[0m\u001b[0;32m    498\u001b[0m \u001b[1;33m\u001b[0m\u001b[0m\n\u001b[0;32m    499\u001b[0m \u001b[1;33m\u001b[0m\u001b[0m\n",
      "\u001b[1;32m/home/joachim/.local/lib/python2.7/site-packages/sklearn/random_projection.pyc\u001b[0m in \u001b[0;36mgaussian_random_matrix\u001b[1;34m(n_components, n_features, random_state)\u001b[0m\n\u001b[0;32m    189\u001b[0m     components = rng.normal(loc=0.0,\n\u001b[0;32m    190\u001b[0m                             \u001b[0mscale\u001b[0m\u001b[1;33m=\u001b[0m\u001b[1;36m1.0\u001b[0m \u001b[1;33m/\u001b[0m \u001b[0mnp\u001b[0m\u001b[1;33m.\u001b[0m\u001b[0msqrt\u001b[0m\u001b[1;33m(\u001b[0m\u001b[0mn_components\u001b[0m\u001b[1;33m)\u001b[0m\u001b[1;33m,\u001b[0m\u001b[1;33m\u001b[0m\u001b[0m\n\u001b[1;32m--> 191\u001b[1;33m                             size=(n_components, n_features))\n\u001b[0m\u001b[0;32m    192\u001b[0m     \u001b[1;32mreturn\u001b[0m \u001b[0mcomponents\u001b[0m\u001b[1;33m\u001b[0m\u001b[0m\n\u001b[0;32m    193\u001b[0m \u001b[1;33m\u001b[0m\u001b[0m\n",
      "\u001b[1;32mmtrand.pyx\u001b[0m in \u001b[0;36mmtrand.RandomState.normal (numpy/random/mtrand/mtrand.c:14564)\u001b[1;34m()\u001b[0m\n",
      "\u001b[1;32mmtrand.pyx\u001b[0m in \u001b[0;36mmtrand.cont2_array_sc (numpy/random/mtrand/mtrand.c:2902)\u001b[1;34m()\u001b[0m\n",
      "\u001b[1;31mMemoryError\u001b[0m: "
     ]
    }
   ],
   "source": [
    "data_projection = GaussianRandomProjection(n_components=10000, random_state=1)\n",
    "dataset_dense_10000 = data_projection.fit_transform(datasetBursi)\n",
    "\n",
    "data_projection = GaussianRandomProjection(n_components=1000, random_state=1)\n",
    "dataset_dense_1000 = data_projection.fit_transform(datasetBursi)\n",
    "\n",
    "data_projection = GaussianRandomProjection(n_components=800, random_state=1)\n",
    "dataset_dense_800 = data_projection.fit_transform(datasetBursi)\n",
    "\n",
    "data_projection = GaussianRandomProjection(n_components=600, random_state=1)\n",
    "dataset_dense_600 = data_projection.fit_transform(datasetBursi)\n",
    "\n",
    "data_projection = GaussianRandomProjection(n_components=400, random_state=1)\n",
    "dataset_dense_400 = data_projection.fit_transform(datasetBursi)\n",
    "\n",
    "data_projection = GaussianRandomProjection(n_components=100, random_state=1)\n",
    "dataset_dense_100 = data_projection.fit_transform(datasetBursi)"
   ]
  },
  {
   "cell_type": "code",
   "execution_count": null,
   "metadata": {
    "collapsed": true
   },
   "outputs": [],
   "source": [
    "print \"Projeted to 10000 dimensions:\\n\"\n",
    "print \"Shape: \", dataset_dense_10000.shape\n",
    "print \"Approximate number of non-zero features: \", dataset_dense_10000.nnz / float(dataset_dense_10000.shape[0])\n",
    "print \"Sparsity: \", dataset_dense_10000.nnz / float(dataset_dense_10000.shape[0]) / dataset_dense_10000.shape[1]\n",
    "print \"\\n\"\n",
    "\n",
    "print \"Projeted to 1000 dimensions:\\n\"\n",
    "print \"Shape: \", dataset_dense_1000.shape\n",
    "print \"Approximate number of non-zero features: \", dataset_dense_1000.nnz / float(dataset_dense_1000.shape[0])\n",
    "print \"Sparsity: \", dataset_dense_1000.nnz / float(dataset_dense_1000.shape[0]) / dataset_dense_1000.shape[1]\n",
    "print \"\\n\"\n",
    "\n",
    "print \"Projeted to 800 dimensions:\\n\"\n",
    "print \"Shape: \", dataset_dense_800.shape\n",
    "print \"Approximate number of non-zero features: \", dataset_dense_800.nnz / float(dataset_dense_800.shape[0])\n",
    "print \"Sparsity: \", dataset_dense_800.nnz / float(dataset_dense_800.shape[0]) / dataset_dense_800.shape[1]\n",
    "print \"\\n\"\n",
    "\n",
    "print \"Projeted to 600 dimensions:\\n\"\n",
    "print \"Shape: \", dataset_dense_600.shape\n",
    "print \"Approximate number of non-zero features: \", dataset_dense_600.nnz / float(dataset_dense_600.shape[0])\n",
    "print \"Sparsity: \", dataset_dense_600.nnz / float(dataset_dense_600.shape[0]) / dataset_dense_600.shape[1]\n",
    "print \"\\n\"\n",
    "\n",
    "print \"Projeted to 400 dimensions:\\n\"\n",
    "print \"Shape: \", dataset_dense_400.shape\n",
    "print \"Approximate number of non-zero features: \", dataset_dense_400.nnz / float(dataset_dense_400.shape[0])\n",
    "print \"Sparsity: \", dataset_dense_400.nnz / float(dataset_dense_400.shape[0]) / dataset_dense_400.shape[1]\n",
    "print \"\\n\"\n",
    "\n",
    "print \"Projeted to 100 dimensions:\\n\"\n",
    "print \"Shape: \", dataset_dense_100.shape\n",
    "print \"Approximate number of non-zero features: \", dataset_dense_100.nnz / float(dataset_dense_100.shape[0])\n",
    "print \"Sparsity: \", dataset_dense_100.nnz / float(dataset_dense_100.shape[0]) / dataset_dense_100.shape[1]"
   ]
  },
  {
   "cell_type": "code",
   "execution_count": null,
   "metadata": {
    "collapsed": true
   },
   "outputs": [],
   "source": [
    "exact = NearestNeighbors()\n",
    "exact.fit(datasetBursi)\n",
    "time_start = time.time()\n",
    "exactNeighbors = exact.kneighbors(return_distance=False)\n",
    "time_list.append(time.time() - time_start)"
   ]
  },
  {
   "cell_type": "code",
   "execution_count": null,
   "metadata": {
    "collapsed": true
   },
   "outputs": [],
   "source": [
    "randomProjection = NearestNeighbors()\n",
    "\n",
    "randomProjection.fit(dataset_dense_10000)\n",
    "time_start = time.time()\n",
    "randomNeighbors = randomProjection.kneighbors(return_distance=False)\n",
    "time_list.append(time.time() - time_start)\n",
    "print \"Accuracy with projection to 10000 dimensions: \",neighborhood_accuracy(exactNeighbors, randomNeighbors)\n",
    "\n",
    "accuracy_list.append(neighborhood_accuracy(exactNeighbors, randomNeighbors))"
   ]
  },
  {
   "cell_type": "code",
   "execution_count": null,
   "metadata": {
    "collapsed": true
   },
   "outputs": [],
   "source": [
    "randomProjection = NearestNeighbors()\n",
    "randomProjection.fit(dataset_dense_1000)\n",
    "time_start = time.time()\n",
    "randomNeighbors = randomProjection.kneighbors(return_distance=False)\n",
    "time_list.append(time.time() - time_start)\n",
    "print \"Accuracy with projection to 1000 dimensions: \",neighborhood_accuracy(exactNeighbors, randomNeighbors)\n",
    "accuracy_list.append(neighborhood_accuracy(exactNeighbors, randomNeighbors))"
   ]
  },
  {
   "cell_type": "code",
   "execution_count": null,
   "metadata": {
    "collapsed": true
   },
   "outputs": [],
   "source": [
    "randomProjection = NearestNeighbors()\n",
    "randomProjection.fit(dataset_dense_800)\n",
    "time_start = time.time()\n",
    "randomNeighbors = randomProjection.kneighbors(return_distance=False)\n",
    "time_list.append(time.time() - time_start)\n",
    "print \"Accuracy with projection to 800 dimensions: \",neighborhood_accuracy(exactNeighbors, randomNeighbors)\n",
    "accuracy_list.append(neighborhood_accuracy(exactNeighbors, randomNeighbors))"
   ]
  },
  {
   "cell_type": "code",
   "execution_count": null,
   "metadata": {
    "collapsed": true
   },
   "outputs": [],
   "source": [
    "randomProjection = NearestNeighbors()\n",
    "randomProjection.fit(dataset_dense_600)\n",
    "time_start = time.time()\n",
    "randomNeighbors = randomProjection.kneighbors(return_distance=False)\n",
    "time_list.append(time.time() - time_start)\n",
    "print \"Accuracy with projection to 600 dimensions: \",neighborhood_accuracy(exactNeighbors, randomNeighbors)\n",
    "accuracy_list.append(neighborhood_accuracy(exactNeighbors, randomNeighbors))"
   ]
  },
  {
   "cell_type": "code",
   "execution_count": null,
   "metadata": {
    "collapsed": true
   },
   "outputs": [],
   "source": [
    "randomProjection = NearestNeighbors()\n",
    "randomProjection.fit(dataset_dense_400)\n",
    "time_start = time.time()\n",
    "randomNeighbors = randomProjection.kneighbors(return_distance=False)\n",
    "time_list.append(time.time() - time_start)\n",
    "print \"Accuracy with projection to 400 dimensions: \",neighborhood_accuracy(exactNeighbors, randomNeighbors)\n",
    "accuracy_list.append(neighborhood_accuracy(exactNeighbors, randomNeighbors))"
   ]
  },
  {
   "cell_type": "code",
   "execution_count": null,
   "metadata": {
    "collapsed": true
   },
   "outputs": [],
   "source": [
    "randomProjection = NearestNeighbors()\n",
    "randomProjection.fit(dataset_dense_100)\n",
    "time_start = time.time()\n",
    "randomNeighbors = randomProjection.kneighbors(return_distance=False)\n",
    "time_list.append(time.time() - time_start)\n",
    "print \"Accuracy with projection to 100 dimensions: \", neighborhood_accuracy(exactNeighbors, randomNeighbors)\n",
    "accuracy_list.append(neighborhood_accuracy(exactNeighbors, randomNeighbors))"
   ]
  },
  {
   "cell_type": "code",
   "execution_count": null,
   "metadata": {
    "collapsed": true
   },
   "outputs": [],
   "source": [
    "import matplotlib.pyplot as plt\n",
    "import numpy as np\n",
    "%matplotlib inline\n",
    "ind = np.arange(7)\n",
    "print len(time_list)\n",
    "plt.bar(ind, time_list, color='r')\n",
    "plt.yscale('log')\n",
    "\n",
    "plt.ylabel(\"Seconds\")\n",
    "plt.xlabel(\"Projected dimensions\")\n",
    "\n",
    "plt.xticks(ind+0.35, (\"original\", \"10000\",\"1000\",\"800\",\"600\",\"400\",\"100\"))\n",
    "plt.title(\"Runtime of sklearns nearest neighor with random projected dataset\")\n",
    "plt.show()\n",
    "    "
   ]
  },
  {
   "cell_type": "code",
   "execution_count": null,
   "metadata": {
    "collapsed": true
   },
   "outputs": [],
   "source": [
    "ind = np.arange(6)\n",
    "print len(time_list)\n",
    "plt.bar(ind, accuracy_list, color='r')\n",
    "\n",
    "plt.ylabel(\"accuracy\")\n",
    "plt.xlabel(\"Projected dimensions\")\n",
    "\n",
    "plt.xticks(ind+0.35, (\"10000\",\"1000\",\"800\",\"600\",\"400\",\"100\"))\n",
    "plt.title(\"Accuracy of sklearns nearest neighor with random projected dataset\")\n",
    "plt.show()"
   ]
  }
 ],
 "metadata": {
  "kernelspec": {
   "display_name": "Python 2",
   "language": "python",
   "name": "python2"
  },
  "language_info": {
   "codemirror_mode": {
    "name": "ipython",
    "version": 2
   },
   "file_extension": ".py",
   "mimetype": "text/x-python",
   "name": "python",
   "nbconvert_exporter": "python",
   "pygments_lexer": "ipython2",
   "version": "2.7.6"
  }
 },
 "nbformat": 4,
 "nbformat_minor": 0
}
