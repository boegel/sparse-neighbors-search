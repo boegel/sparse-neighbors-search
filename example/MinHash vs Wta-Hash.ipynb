{
 "cells": [
  {
   "cell_type": "code",
   "execution_count": 1,
   "metadata": {
    "collapsed": false
   },
   "outputs": [],
   "source": [
    "from bioinf_learn import MinHash\n",
    "from bioinf_learn import WtaHash\n",
    "\n",
    "%matplotlib inline\n",
    "%load_ext memory_profiler\n",
    "from bioinf_learn.util import measure_performance\n",
    "from bioinf_learn.util import plotData\n",
    "from bioinf_learn.util import measureMinHashWtaHash\n",
    "import time\n",
    "import numpy as np\n",
    "\n",
    "from eden.converter.graph.gspan import gspan_to_eden\n",
    "from eden.graph import Vectorizer"
   ]
  },
  {
   "cell_type": "code",
   "execution_count": 2,
   "metadata": {
    "collapsed": false
   },
   "outputs": [
    {
     "name": "stdout",
     "output_type": "stream",
     "text": [
      "peak memory: 496.12 MiB, increment: 389.52 MiB\n",
      "CPU times: user 22.6 s, sys: 208 ms, total: 22.8 s\n",
      "Wall time: 23.9 s\n"
     ]
    }
   ],
   "source": [
    "graphs = gspan_to_eden( 'http://www.bioinf.uni-freiburg.de/~costa/bursi.gspan' )\n",
    "vectorizer = Vectorizer( r=2,d=5 )\n",
    "%time %memit datasetBursi = vectorizer.transform( graphs )"
   ]
  },
  {
   "cell_type": "markdown",
   "metadata": {},
   "source": [
    "### Bursi: best accuracy"
   ]
  },
  {
   "cell_type": "code",
   "execution_count": 3,
   "metadata": {
    "collapsed": true
   },
   "outputs": [],
   "source": [
    "max_bin_size = 49\n",
    "shingle_size = 2\n",
    "minimal_blocks_in_common= 1\n",
    "prune_inverse_index= 1\n",
    "store_value_with_least_sigificant_bit=2\n",
    "excess_factor= 14\n",
    "prune_inverse_index_after_instance= 0.0\n",
    "remove_hash_function_with_less_entries_as= 0\n",
    "shingle= 1\n",
    "block_size= 4\n",
    "minHash = [max_bin_size, shingle_size, minimal_blocks_in_common, prune_inverse_index, \n",
    "            store_value_with_least_sigificant_bit, excess_factor,\n",
    "            prune_inverse_index_after_instance, remove_hash_function_with_less_entries_as,\n",
    "            shingle, block_size]\n",
    "max_bin_size = 46\n",
    "shingle_size = 1\n",
    "minimal_blocks_in_common= 1\n",
    "prune_inverse_index= 0\n",
    "store_value_with_least_sigificant_bit=1\n",
    "excess_factor= 14\n",
    "prune_inverse_index_after_instance= 0.5\n",
    "remove_hash_function_with_less_entries_as= 0\n",
    "shingle= 1\n",
    "block_size=3\n",
    "rangeK_wta = 16\n",
    "wtaHash = [max_bin_size, shingle_size, rangeK_wta, minimal_blocks_in_common, prune_inverse_index, \n",
    "            store_value_with_least_sigificant_bit, excess_factor,\n",
    "            prune_inverse_index_after_instance, remove_hash_function_with_less_entries_as,\n",
    "            shingle, block_size]"
   ]
  },
  {
   "cell_type": "code",
   "execution_count": null,
   "metadata": {
    "collapsed": false
   },
   "outputs": [],
   "source": [
    "best_accuracy_6600 = measureMinHashWtaHash(datasetBursi, minHash, wtaHash)"
   ]
  },
  {
   "cell_type": "code",
   "execution_count": 4,
   "metadata": {
    "collapsed": false
   },
   "outputs": [
    {
     "name": "stdout",
     "output_type": "stream",
     "text": [
      "[[0.0031180381774902344, 0.5193259716033936, 0.3563249111175537, 3.820866107940674, 3.825695037841797, 0.10108399391174316, 0.9525752067565918, 0.8814809322357178, 0.45787811279296875, 7.617111921310425, 7.776746034622192, 0.13220000267028809, 0.9372308254241943, 1.6162819862365723, 0.7659809589385986, 15.014462947845459, 14.75042986869812, 0.19054007530212402, 0.7962291240692139, 2.437915802001953, 1.1861851215362549, 22.665796041488647, 22.965058088302612, 0.2692689895629883, 0.8814330101013184, 3.2922561168670654, 1.5668249130249023, 30.028411865234375, 30.23060703277588, 0.36638498306274414, 0.9356889724731445], [1.578265905380249, 0.09536600112915039, 0.08664393424987793, 0.07380008697509766, 0.8167979717254639, 0.6175069808959961, 0.6127719879150391, 0.13828182220458984, 0.15618395805358887, 0.1049041748046875, 0.7412059307098389, 0.7589008808135986, 0.6859819889068604, 0.18415093421936035, 0.16263985633850098, 0.144395112991333, 0.7316391468048096, 0.8213369846343994, 0.742516040802002, 0.2351980209350586, 0.23344111442565918, 0.21416306495666504, 0.805833101272583, 0.8404140472412109, 0.793712854385376, 0.28569793701171875, 0.3053460121154785, 0.2650139331817627, 0.849388837814331, 0.8584480285644531, 0.8252460956573486], [0.4700714779801706, 0.4735762047498271, 0.27678118515102607, 0.27678118515102607, 0.9065252478671894, 0.935093382522481, 0.6765275536084852, 0.6765275536084852, 0.5015679040811621, 0.5052340327415265, 0.3026516024902006, 0.3026516024902006, 0.9119667973253401, 0.9381830758588886, 0.7437860272077473, 0.7437629697947891, 0.5194143417108601, 0.5228268388286834, 0.3228498962416417, 0.3228498962416417, 0.9130274383214203, 0.9377910998385981, 0.777818768734148, 0.777818768734148, 0.5258012451002998, 0.5279455845054185, 0.33048189993082777, 0.33048189993082777, 0.9155176389209131, 0.9385289370532626, 0.7853354853585428, 0.7853354853585428, 0.5286603643071247, 0.5316808854046576, 0.3324187226193221, 0.3324187226193221, 0.9127046345400046, 0.9369840903850588, 0.7863500115287064, 0.7863500115287064]]\n"
     ]
    }
   ],
   "source": [
    "print foo"
   ]
  },
  {
   "cell_type": "code",
   "execution_count": null,
   "metadata": {
    "collapsed": true
   },
   "outputs": [],
   "source": [
    "best_accuracy_5200U = measureMinHashWtaHash(datasetBursi, minHash, wtaHash)"
   ]
  },
  {
   "cell_type": "markdown",
   "metadata": {},
   "source": [
    "### RNA best accuracy"
   ]
  },
  {
   "cell_type": "code",
   "execution_count": null,
   "metadata": {
    "collapsed": true
   },
   "outputs": [],
   "source": [
    "max_bin_size = 49\n",
    "shingle_size = 2\n",
    "minimal_blocks_in_common= 1\n",
    "prune_inverse_index= 1\n",
    "store_value_with_least_sigificant_bit=2\n",
    "excess_factor= 14\n",
    "prune_inverse_index_after_instance= 0.0\n",
    "remove_hash_function_with_less_entries_as= 0\n",
    "shingle= 1\n",
    "block_size= 4\n",
    "minHash = [max_bin_size, shingle_size, minimal_blocks_in_common, prune_inverse_index, \n",
    "            store_value_with_least_sigificant_bit, excess_factor,\n",
    "            prune_inverse_index_after_instance, remove_hash_function_with_less_entries_as,\n",
    "            shingle, block_size]\n",
    "max_bin_size = 46\n",
    "shingle_size = 1\n",
    "minimal_blocks_in_common= 1\n",
    "prune_inverse_index= 0\n",
    "store_value_with_least_sigificant_bit=1\n",
    "excess_factor= 14\n",
    "prune_inverse_index_after_instance= 0.5\n",
    "remove_hash_function_with_less_entries_as= 0\n",
    "shingle= 1\n",
    "block_size=3\n",
    "rangeK_wta = 16\n",
    "wtaHash = [max_bin_size, shingle_size, rangeK_wta, minimal_blocks_in_common, prune_inverse_index, \n",
    "            store_value_with_least_sigificant_bit, excess_factor,\n",
    "            prune_inverse_index_after_instance, remove_hash_function_with_less_entries_as,\n",
    "            shingle, block_size]"
   ]
  },
  {
   "cell_type": "code",
   "execution_count": null,
   "metadata": {
    "collapsed": true
   },
   "outputs": [],
   "source": [
    "best_accuracy_rna_6600 = measureMinHashWtaHash(datasetBursi, minHash, wtaHash)"
   ]
  },
  {
   "cell_type": "code",
   "execution_count": null,
   "metadata": {
    "collapsed": true
   },
   "outputs": [],
   "source": [
    "best_accuracy_rna_5200U = measureMinHashWtaHash(datasetBursi, minHash, wtaHash)"
   ]
  },
  {
   "cell_type": "markdown",
   "metadata": {},
   "source": [
    "### 20-news best accuracy"
   ]
  },
  {
   "cell_type": "code",
   "execution_count": null,
   "metadata": {
    "collapsed": true
   },
   "outputs": [],
   "source": [
    "max_bin_size = 49\n",
    "shingle_size = 2\n",
    "minimal_blocks_in_common= 1\n",
    "prune_inverse_index= 1\n",
    "store_value_with_least_sigificant_bit=2\n",
    "excess_factor= 14\n",
    "prune_inverse_index_after_instance= 0.0\n",
    "remove_hash_function_with_less_entries_as= 0\n",
    "shingle= 1\n",
    "block_size= 4\n",
    "minHash = [max_bin_size, shingle_size, minimal_blocks_in_common, prune_inverse_index, \n",
    "            store_value_with_least_sigificant_bit, excess_factor,\n",
    "            prune_inverse_index_after_instance, remove_hash_function_with_less_entries_as,\n",
    "            shingle, block_size]\n",
    "max_bin_size = 46\n",
    "shingle_size = 1\n",
    "minimal_blocks_in_common= 1\n",
    "prune_inverse_index= 0\n",
    "store_value_with_least_sigificant_bit=1\n",
    "excess_factor= 14\n",
    "prune_inverse_index_after_instance= 0.5\n",
    "remove_hash_function_with_less_entries_as= 0\n",
    "shingle= 1\n",
    "block_size=3\n",
    "rangeK_wta = 16\n",
    "wtaHash = [max_bin_size, shingle_size, rangeK_wta, minimal_blocks_in_common, prune_inverse_index, \n",
    "            store_value_with_least_sigificant_bit, excess_factor,\n",
    "            prune_inverse_index_after_instance, remove_hash_function_with_less_entries_as,\n",
    "            shingle, block_size]"
   ]
  },
  {
   "cell_type": "code",
   "execution_count": null,
   "metadata": {
    "collapsed": true
   },
   "outputs": [],
   "source": [
    "best_accuracy_20news_6600 = measureMinHashWtaHash(datasetBursi, minHash, wtaHash)"
   ]
  },
  {
   "cell_type": "code",
   "execution_count": null,
   "metadata": {
    "collapsed": true
   },
   "outputs": [],
   "source": [
    "best_accuracy_20news_5200U = measureMinHashWtaHash(datasetBursi, minHash, wtaHash)"
   ]
  },
  {
   "cell_type": "code",
   "execution_count": null,
   "metadata": {
    "collapsed": true
   },
   "outputs": [],
   "source": [
    "## Best score"
   ]
  },
  {
   "cell_type": "code",
   "execution_count": null,
   "metadata": {
    "collapsed": true
   },
   "outputs": [],
   "source": [
    "### Best score bursi"
   ]
  },
  {
   "cell_type": "code",
   "execution_count": null,
   "metadata": {
    "collapsed": true
   },
   "outputs": [],
   "source": [
    "max_bin_size = 49\n",
    "shingle_size = 2\n",
    "minimal_blocks_in_common= 1\n",
    "prune_inverse_index= 1\n",
    "store_value_with_least_sigificant_bit=2\n",
    "excess_factor= 14\n",
    "prune_inverse_index_after_instance= 0.0\n",
    "remove_hash_function_with_less_entries_as= 0\n",
    "shingle= 1\n",
    "block_size= 4\n",
    "minHash = [max_bin_size, shingle_size, minimal_blocks_in_common, prune_inverse_index, \n",
    "            store_value_with_least_sigificant_bit, excess_factor,\n",
    "            prune_inverse_index_after_instance, remove_hash_function_with_less_entries_as,\n",
    "            shingle, block_size]\n",
    "max_bin_size = 46\n",
    "shingle_size = 1\n",
    "minimal_blocks_in_common= 1\n",
    "prune_inverse_index= 0\n",
    "store_value_with_least_sigificant_bit=1\n",
    "excess_factor= 14\n",
    "prune_inverse_index_after_instance= 0.5\n",
    "remove_hash_function_with_less_entries_as= 0\n",
    "shingle= 1\n",
    "block_size=3\n",
    "rangeK_wta = 16\n",
    "wtaHash = [max_bin_size, shingle_size, rangeK_wta, minimal_blocks_in_common, prune_inverse_index, \n",
    "            store_value_with_least_sigificant_bit, excess_factor,\n",
    "            prune_inverse_index_after_instance, remove_hash_function_with_less_entries_as,\n",
    "            shingle, block_size]"
   ]
  },
  {
   "cell_type": "code",
   "execution_count": null,
   "metadata": {
    "collapsed": true
   },
   "outputs": [],
   "source": [
    "best_score_bursi_6600 = measureMinHashWtaHash(datasetBursi, minHash, wtaHash)"
   ]
  },
  {
   "cell_type": "code",
   "execution_count": null,
   "metadata": {
    "collapsed": true
   },
   "outputs": [],
   "source": [
    "best_score_bursi_5200U = measureMinHashWtaHash(datasetBursi, minHash, wtaHash)"
   ]
  },
  {
   "cell_type": "code",
   "execution_count": null,
   "metadata": {
    "collapsed": true
   },
   "outputs": [],
   "source": [
    "max_bin_size = 49\n",
    "shingle_size = 2\n",
    "minimal_blocks_in_common= 1\n",
    "prune_inverse_index= 1\n",
    "store_value_with_least_sigificant_bit=2\n",
    "excess_factor= 14\n",
    "prune_inverse_index_after_instance= 0.0\n",
    "remove_hash_function_with_less_entries_as= 0\n",
    "shingle= 1\n",
    "block_size= 4\n",
    "minHash = [max_bin_size, shingle_size, minimal_blocks_in_common, prune_inverse_index, \n",
    "            store_value_with_least_sigificant_bit, excess_factor,\n",
    "            prune_inverse_index_after_instance, remove_hash_function_with_less_entries_as,\n",
    "            shingle, block_size]\n",
    "max_bin_size = 46\n",
    "shingle_size = 1\n",
    "minimal_blocks_in_common= 1\n",
    "prune_inverse_index= 0\n",
    "store_value_with_least_sigificant_bit=1\n",
    "excess_factor= 14\n",
    "prune_inverse_index_after_instance= 0.5\n",
    "remove_hash_function_with_less_entries_as= 0\n",
    "shingle= 1\n",
    "block_size=3\n",
    "rangeK_wta = 16\n",
    "wtaHash = [max_bin_size, shingle_size, rangeK_wta, minimal_blocks_in_common, prune_inverse_index, \n",
    "            store_value_with_least_sigificant_bit, excess_factor,\n",
    "            prune_inverse_index_after_instance, remove_hash_function_with_less_entries_as,\n",
    "            shingle, block_size]"
   ]
  },
  {
   "cell_type": "code",
   "execution_count": null,
   "metadata": {
    "collapsed": true
   },
   "outputs": [],
   "source": [
    "best_score_rna_6600 = measureMinHashWtaHash(datasetBursi, minHash, wtaHash)"
   ]
  },
  {
   "cell_type": "code",
   "execution_count": null,
   "metadata": {
    "collapsed": true
   },
   "outputs": [],
   "source": [
    "best_score_rna_5200U = measureMinHashWtaHash(datasetBursi, minHash, wtaHash)"
   ]
  },
  {
   "cell_type": "code",
   "execution_count": null,
   "metadata": {
    "collapsed": true
   },
   "outputs": [],
   "source": [
    "max_bin_size = 49\n",
    "shingle_size = 2\n",
    "minimal_blocks_in_common= 1\n",
    "prune_inverse_index= 1\n",
    "store_value_with_least_sigificant_bit=2\n",
    "excess_factor= 14\n",
    "prune_inverse_index_after_instance= 0.0\n",
    "remove_hash_function_with_less_entries_as= 0\n",
    "shingle= 1\n",
    "block_size= 4\n",
    "minHash = [max_bin_size, shingle_size, minimal_blocks_in_common, prune_inverse_index, \n",
    "            store_value_with_least_sigificant_bit, excess_factor,\n",
    "            prune_inverse_index_after_instance, remove_hash_function_with_less_entries_as,\n",
    "            shingle, block_size]\n",
    "max_bin_size = 46\n",
    "shingle_size = 1\n",
    "minimal_blocks_in_common= 1\n",
    "prune_inverse_index= 0\n",
    "store_value_with_least_sigificant_bit=1\n",
    "excess_factor= 14\n",
    "prune_inverse_index_after_instance= 0.5\n",
    "remove_hash_function_with_less_entries_as= 0\n",
    "shingle= 1\n",
    "block_size=3\n",
    "rangeK_wta = 16\n",
    "wtaHash = [max_bin_size, shingle_size, rangeK_wta, minimal_blocks_in_common, prune_inverse_index, \n",
    "            store_value_with_least_sigificant_bit, excess_factor,\n",
    "            prune_inverse_index_after_instance, remove_hash_function_with_less_entries_as,\n",
    "            shingle, block_size]"
   ]
  },
  {
   "cell_type": "code",
   "execution_count": null,
   "metadata": {
    "collapsed": true
   },
   "outputs": [],
   "source": [
    "best_score_20news_6600 = measureMinHashWtaHash(datasetBursi, minHash, wtaHash)"
   ]
  },
  {
   "cell_type": "code",
   "execution_count": null,
   "metadata": {
    "collapsed": true
   },
   "outputs": [],
   "source": [
    "best_score_20news_5200U = measureMinHashWtaHash(datasetBursi, minHash, wtaHash)"
   ]
  },
  {
   "cell_type": "code",
   "execution_count": null,
   "metadata": {
    "collapsed": true
   },
   "outputs": [],
   "source": []
  }
 ],
 "metadata": {
  "kernelspec": {
   "display_name": "Python 2",
   "language": "python",
   "name": "python2"
  },
  "language_info": {
   "codemirror_mode": {
    "name": "ipython",
    "version": 2
   },
   "file_extension": ".py",
   "mimetype": "text/x-python",
   "name": "python",
   "nbconvert_exporter": "python",
   "pygments_lexer": "ipython2",
   "version": "2.7.6"
  }
 },
 "nbformat": 4,
 "nbformat_minor": 0
}
