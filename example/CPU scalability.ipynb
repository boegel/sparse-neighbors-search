{
 "cells": [
  {
   "cell_type": "code",
   "execution_count": 27,
   "metadata": {
    "collapsed": false
   },
   "outputs": [
    {
     "name": "stdout",
     "output_type": "stream",
     "text": [
      "The memory_profiler extension is already loaded. To reload it, use:\n",
      "  %reload_ext memory_profiler\n"
     ]
    }
   ],
   "source": [
    "from bioinf_learn import MinHash\n",
    "from bioinf_learn import WtaHash\n",
    "\n",
    "%matplotlib inline\n",
    "%load_ext memory_profiler\n",
    "from bioinf_learn.util import measureCpuScalability\n",
    "from bioinf_learn.util import measureCpuScalability_Gpu\n",
    "from bioinf_learn.util import plotDataBenchmark\n",
    "from bioinf_learn.util import plotData\n",
    "from bioinf_learn.util import measureMinHashWtaHash\n",
    "import time\n",
    "import numpy as np\n",
    "\n",
    "from eden.converter.graph.gspan import gspan_to_eden\n",
    "from eden.graph import Vectorizer\n",
    "\n",
    "from eden.converter.rna.rnafold import rnafold_to_eden\n",
    "from eden.converter.fasta import fasta_to_sequence\n",
    "from eden.graph import Vectorizer\n",
    "from itertools import islice\n",
    "import numpy as np\n",
    "from scipy.sparse import vstack\n",
    "\n",
    "\n",
    "import time\n",
    "import numpy as np\n",
    "def rfam_uri(family_id):\n",
    "    return 'http://rfam.xfam.org/family/%s/alignment?acc=%s&format=fastau&download=0'%(family_id,family_id)\n",
    "\n",
    "def rfam_to_matrix(rfam_id, n_max=50, complexity=2, nbits=10):\n",
    "    seqs = fasta_to_sequence(rfam_uri(rfam_id))\n",
    "    seqs = islice(seqs,n_max)\n",
    "    seqs = list(seqs)\n",
    "    graphs = rnafold_to_eden(seqs)\n",
    "    vectorizer = Vectorizer(complexity=complexity, nbits=nbits, positional=True)\n",
    "    X = vectorizer.transform(graphs)\n",
    "    return X\n",
    "\n",
    "def rfam_data(rfam_ids, n_max=300, complexity=3, nbits=13):\n",
    "    Xs = []\n",
    "    targets = []\n",
    "    for i,rfam_id in enumerate(rfam_ids):\n",
    "        X=rfam_to_matrix(rfam_id, n_max=n_max, complexity=complexity, nbits=nbits)\n",
    "        Xs.append(X)\n",
    "        targets += [i] * X.shape[0]\n",
    "    data_matrix = vstack(Xs, format=\"csr\")\n",
    "    targets = np.array(targets)    \n",
    "    return data_matrix, targets"
   ]
  },
  {
   "cell_type": "code",
   "execution_count": 2,
   "metadata": {
    "collapsed": false
   },
   "outputs": [
    {
     "name": "stdout",
     "output_type": "stream",
     "text": [
      "peak memory: 497.73 MiB, increment: 387.21 MiB\n",
      "CPU times: user 35.5 s, sys: 152 ms, total: 35.6 s\n",
      "Wall time: 36.7 s\n"
     ]
    }
   ],
   "source": [
    "graphs = gspan_to_eden( 'http://www.bioinf.uni-freiburg.de/~costa/bursi.gspan' )\n",
    "vectorizer = Vectorizer( r=2,d=5 )\n",
    "\n",
    "%time %memit datasetBursi = vectorizer.transform( graphs )"
   ]
  },
  {
   "cell_type": "code",
   "execution_count": 28,
   "metadata": {
    "collapsed": false
   },
   "outputs": [
    {
     "name": "stdout",
     "output_type": "stream",
     "text": [
      "peak memory: 665.29 MiB, increment: 129.64 MiB\n",
      "CPU times: user 1min 38s, sys: 59.3 s, total: 2min 37s\n",
      "Wall time: 3min 24s\n",
      "Instances: 2300 Features: 65537 with an avg of 3676 features per instance\n",
      "Sparsity:  0.0560959059967\n"
     ]
    }
   ],
   "source": [
    "rfam_ids=['RF00004','RF00005','RF00015','RF00020','RF00026','RF00169',\n",
    "          'RF00380','RF00386','RF01051','RF01055','RF01234','RF01699',\n",
    "          'RF01701','RF01705','RF01731','RF01734','RF01745','RF01750',\n",
    "          'RF01942','RF01998','RF02005','RF02012','RF02034']\n",
    "\n",
    "%time %memit datasetRNA, y = rfam_data(rfam_ids, n_max=100, complexity=3, nbits=16)\n",
    "print 'Instances: %d Features: %d with an avg of %d features per instance' % (datasetRNA.shape[0], datasetRNA.shape[1],  datasetRNA.getnnz()/datasetRNA.shape[0])\n",
    "print \"Sparsity: \", datasetRNA.nnz / float(datasetRNA.shape[0]) / datasetRNA.shape[1]"
   ]
  },
  {
   "cell_type": "code",
   "execution_count": 3,
   "metadata": {
    "collapsed": true
   },
   "outputs": [],
   "source": [
    "max_bin_size = 49\n",
    "shingle_size = 2\n",
    "minimal_blocks_in_common= 1\n",
    "prune_inverse_index= 11\n",
    "store_value_with_least_sigificant_bit=3\n",
    "excess_factor= 11\n",
    "prune_inverse_index_after_instance= 0.5\n",
    "remove_hash_function_with_less_entries_as= 0\n",
    "shingle= 0\n",
    "block_size= 4\n",
    "hash_functions = 596\n",
    "minHash = [max_bin_size, shingle_size, minimal_blocks_in_common, prune_inverse_index, \n",
    "            store_value_with_least_sigificant_bit, excess_factor,\n",
    "            prune_inverse_index_after_instance, remove_hash_function_with_less_entries_as,\n",
    "            shingle, block_size, hash_functions]\n",
    "cpu_cores = [1, 2, 4, 8, 12, 16, 20, 24, 28, 32]"
   ]
  },
  {
   "cell_type": "code",
   "execution_count": null,
   "metadata": {
    "collapsed": true
   },
   "outputs": [],
   "source": [
    "cpu_cores = [1, 2, 4, 8, 12, 16, 20, 24, 28, 32]\n",
    "cpu_scalability_xeon = measureCpuScalability(datasetBursi, minHash, cpu_cores)"
   ]
  },
  {
   "cell_type": "code",
   "execution_count": null,
   "metadata": {
    "collapsed": true
   },
   "outputs": [],
   "source": [
    "cpu_cores = [1, 2, 4, 8, 12, 16, 20, 24, 28, 32]\n",
    "cpu_scalability_xeon_980Ti = measureCpuScalability_Gpu(datasetBursi, minHash, cpu_cores)"
   ]
  },
  {
   "cell_type": "code",
   "execution_count": 8,
   "metadata": {
    "collapsed": false
   },
   "outputs": [],
   "source": [
    "cpu_cores = [1, 2, 4]\n",
    "cpu_scalability_i5_5200U = measureCpuScalability(datasetBursi, minHash, cpu_cores)"
   ]
  },
  {
   "cell_type": "code",
   "execution_count": 5,
   "metadata": {
    "collapsed": false
   },
   "outputs": [
    {
     "name": "stdout",
     "output_type": "stream",
     "text": [
      "[[9.228111982345581, 4.981896162033081, 4.456392049789429], [4.089432954788208, 4.870645999908447, 3.817233085632324], [5.996991872787476, 3.311551094055176, 2.3043200969696045], [0.8975328568134655, 0.8975328568134655, 0.8975328568134655]]\n"
     ]
    }
   ],
   "source": [
    "print cpu_scalability_i5_5200U"
   ]
  },
  {
   "cell_type": "code",
   "execution_count": 26,
   "metadata": {
    "collapsed": false
   },
   "outputs": [
    {
     "data": {
      "image/png": "[encoded data removed]",
      "text/plain": [
       "<matplotlib.figure.Figure at 0x7f96b90f30d0>"
      ]
     },
     "metadata": {},
     "output_type": "display_data"
    }
   ],
   "source": [
    "\n",
    "plotData(data=cpu_scalability_i5_5200U[1:3], color=[\"r\", \"b\"], label=[\"sklearn\", \"MinHash\"],\n",
    "        xticks=[\"1\", \"2\", \"4\"], ylabel=\"Time in seconds\", number_of_instances=3,\n",
    "        xlabel=\"Used threads\", log = False, figure_size=(5, 3),\n",
    "         number_of_features=1, title='Query time on bursi. CPU: i5-5200U')"
   ]
  },
  {
   "cell_type": "code",
   "execution_count": 25,
   "metadata": {
    "collapsed": false
   },
   "outputs": [
    {
     "data": {
      "image/png": "[encoded data removed]",
      "text/plain": [
       "<matplotlib.figure.Figure at 0x7f96b6540410>"
      ]
     },
     "metadata": {},
     "output_type": "display_data"
    }
   ],
   "source": [
    "plotDataBenchmark(data=cpu_scalability_i5_5200U[0], color=[\"r\"], \n",
    "         label=[],\n",
    "        xticks=[\"1\", \"2\", \"4\"],\n",
    "         ylabel=\"Time in seconds\", number_of_instances=3, bar_width=0.35, figure_size=(5, 3),\n",
    "        xlabel=\"Used threads\", log = False,\n",
    "         number_of_features=1, title='Fitting time on bursi. CPU: i5-5200U')"
   ]
  },
  {
   "cell_type": "code",
   "execution_count": 4,
   "metadata": {
    "collapsed": false
   },
   "outputs": [],
   "source": [
    "cpu_cores = [1, 2, 4]\n",
    "cpu_gpu_scalability_i5_5200U = measureCpuScalability_Gpu(datasetBursi, minHash, cpu_cores)"
   ]
  },
  {
   "cell_type": "code",
   "execution_count": 24,
   "metadata": {
    "collapsed": false
   },
   "outputs": [
    {
     "data": {
      "image/png": "[encoded data removed]",
      "text/plain": [
       "<matplotlib.figure.Figure at 0x7f96b5886490>"
      ]
     },
     "metadata": {},
     "output_type": "display_data"
    }
   ],
   "source": [
    "from bioinf_learn.util import plotData\n",
    "plotData(data=cpu_gpu_scalability_i5_5200U[1:3], color=[\"r\", \"b\"], label=[\"sklearn\", \"MinHash\"],\n",
    "        xticks=[\"1\", \"2\", \"4\"], ylabel=\"Time in seconds\", number_of_instances=3,\n",
    "        xlabel=\"Used threads\", log = False, figure_size=(5, 3),\n",
    "         number_of_features=1, title='Query time on bursi. CPU: i5-5200U, GPU: 920M')"
   ]
  },
  {
   "cell_type": "code",
   "execution_count": 23,
   "metadata": {
    "collapsed": false
   },
   "outputs": [
    {
     "data": {
      "image/png": "[encoded data removed]",
      "text/plain": [
       "<matplotlib.figure.Figure at 0x7f96bcaff150>"
      ]
     },
     "metadata": {},
     "output_type": "display_data"
    }
   ],
   "source": [
    "plotDataBenchmark(data=cpu_gpu_scalability_i5_5200U[0], color=[\"r\"], \n",
    "         label=[],\n",
    "        xticks=[\"1\", \"2\", \"4\"],\n",
    "         ylabel=\"Time in seconds\", number_of_instances=3, bar_width=0.35, figure_size=(5, 3),\n",
    "        xlabel=\"Used threads\", log = False,\n",
    "         number_of_features=1, title='Fitting time on bursi. CPU: i5-5200U')"
   ]
  },
  {
   "cell_type": "markdown",
   "metadata": {},
   "source": [
    "### RNA dataset"
   ]
  },
  {
   "cell_type": "code",
   "execution_count": 36,
   "metadata": {
    "collapsed": true
   },
   "outputs": [],
   "source": [
    "max_bin_size = 89\n",
    "shingle_size = 2\n",
    "minimal_blocks_in_common= 1\n",
    "prune_inverse_index= 8\n",
    "store_value_with_least_sigificant_bit=3\n",
    "excess_factor= 14\n",
    "prune_inverse_index_after_instance= 0.5\n",
    "remove_hash_function_with_less_entries_as= 0\n",
    "shingle= 0\n",
    "block_size= 4\n",
    "hash_function = 660\n",
    "minHash = [max_bin_size, shingle_size, minimal_blocks_in_common, prune_inverse_index, \n",
    "            store_value_with_least_sigificant_bit, excess_factor,\n",
    "            prune_inverse_index_after_instance, remove_hash_function_with_less_entries_as,\n",
    "            shingle, block_size, hash_functions]"
   ]
  },
  {
   "cell_type": "code",
   "execution_count": 37,
   "metadata": {
    "collapsed": true
   },
   "outputs": [],
   "source": [
    "cpu_cores = [1, 2, 4]\n",
    "cpu_scalability_i5_5200U_rna = measureCpuScalability(datasetRNA, minHash, cpu_cores)"
   ]
  },
  {
   "cell_type": "code",
   "execution_count": 38,
   "metadata": {
    "collapsed": false
   },
   "outputs": [
    {
     "data": {
      "image/png": "[encoded data removed]",
      "text/plain": [
       "<matplotlib.figure.Figure at 0x7f96bb2adc50>"
      ]
     },
     "metadata": {},
     "output_type": "display_data"
    }
   ],
   "source": [
    "plotData(data=cpu_scalability_i5_5200U_rna[1:3], color=[\"r\", \"b\"], label=[\"sklearn\", \"MinHash\"],\n",
    "        xticks=[\"1\", \"2\", \"4\"], ylabel=\"Time in seconds\", number_of_instances=3,\n",
    "        xlabel=\"Used threads\", log = False, figure_size=(5, 3),\n",
    "         number_of_features=1, title='Query time on RNA. CPU: i5-5200U')"
   ]
  },
  {
   "cell_type": "code",
   "execution_count": 39,
   "metadata": {
    "collapsed": false
   },
   "outputs": [
    {
     "data": {
      "image/png": "[encoded data removed]",
      "text/plain": [
       "<matplotlib.figure.Figure at 0x7f96bf2f4590>"
      ]
     },
     "metadata": {},
     "output_type": "display_data"
    }
   ],
   "source": [
    "plotDataBenchmark(data=cpu_scalability_i5_5200U_rna[0], color=[\"r\"], \n",
    "         label=[],\n",
    "        xticks=[\"1\", \"2\", \"4\"],\n",
    "         ylabel=\"Time in seconds\", number_of_instances=3, bar_width=0.35, figure_size=(5, 3),\n",
    "        xlabel=\"Used threads\", log = False,\n",
    "         number_of_features=1, title='Fitting time on RNA. CPU: i5-5200U')"
   ]
  },
  {
   "cell_type": "code",
   "execution_count": 40,
   "metadata": {
    "collapsed": true
   },
   "outputs": [],
   "source": [
    "cpu_cores = [1, 2, 4]\n",
    "cpu_gpu_scalability_i5_5200U_rna = measureCpuScalability_Gpu(datasetRNA, minHash, cpu_cores)"
   ]
  },
  {
   "cell_type": "code",
   "execution_count": 41,
   "metadata": {
    "collapsed": false
   },
   "outputs": [
    {
     "data": {
      "image/png": "[encoded data removed]",
      "text/plain": [
       "<matplotlib.figure.Figure at 0x7f96bc1fd690>"
      ]
     },
     "metadata": {},
     "output_type": "display_data"
    }
   ],
   "source": [
    "plotData(data=cpu_gpu_scalability_i5_5200U_rna[1:3], color=[\"r\", \"b\"], label=[\"sklearn\", \"MinHash\"],\n",
    "        xticks=[\"1\", \"2\", \"4\"], ylabel=\"Time in seconds\", number_of_instances=3,\n",
    "        xlabel=\"Used threads\", log = False, figure_size=(5, 3),\n",
    "         number_of_features=1, title='Query time on RNA. CPU: i5-5200U, GPU: 920M')"
   ]
  },
  {
   "cell_type": "code",
   "execution_count": 42,
   "metadata": {
    "collapsed": false
   },
   "outputs": [
    {
     "data": {
      "image/png": "[encoded data removed]",
      "text/plain": [
       "<matplotlib.figure.Figure at 0x7f96bce27550>"
      ]
     },
     "metadata": {},
     "output_type": "display_data"
    }
   ],
   "source": [
    "plotDataBenchmark(data=cpu_gpu_scalability_i5_5200U_rna[0], color=[\"r\"], \n",
    "         label=[],\n",
    "        xticks=[\"1\", \"2\", \"4\"],\n",
    "         ylabel=\"Time in seconds\", number_of_instances=3, bar_width=0.35, figure_size=(5, 3),\n",
    "        xlabel=\"Used threads\", log = False,\n",
    "         number_of_features=1, title='Fitting time on RNA. CPU: i5-5200U')"
   ]
  },
  {
   "cell_type": "code",
   "execution_count": null,
   "metadata": {
    "collapsed": true
   },
   "outputs": [],
   "source": []
  }
 ],
 "metadata": {
  "kernelspec": {
   "display_name": "Python 2",
   "language": "python",
   "name": "python2"
  },
  "language_info": {
   "codemirror_mode": {
    "name": "ipython",
    "version": 2
   },
   "file_extension": ".py",
   "mimetype": "text/x-python",
   "name": "python",
   "nbconvert_exporter": "python",
   "pygments_lexer": "ipython2",
   "version": "2.7.6"
  }
 },
 "nbformat": 4,
 "nbformat_minor": 0
}
