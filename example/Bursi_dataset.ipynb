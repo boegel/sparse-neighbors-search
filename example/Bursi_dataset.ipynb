{
 "cells": [
  {
   "cell_type": "markdown",
   "metadata": {},
   "source": [
    "##Bursi dataset"
   ]
  },
  {
   "cell_type": "code",
   "execution_count": 5,
   "metadata": {
    "collapsed": false
   },
   "outputs": [],
   "source": [
    "%matplotlib inline\n",
    "import time\n",
    "import numpy as np\n",
    "from sklearn.datasets.samples_generator import make_blobs\n",
    "from sklearn.datasets import make_sparse_uncorrelated\n",
    "from sklearn.neighbors import NearestNeighbors\n",
    "from sklearn.neighbors import LSHForest\n",
    "import matplotlib.pyplot as plt\n",
    "from scipy.sparse import csr_matrix\n",
    "from scipy.sparse import coo_matrix\n",
    "import neighborsMinHash as kneighbors\n",
    "from neighborsMinHash.util import create_dataset\n",
    "from neighborsMinHash.util import create_dataset_fixed_nonzero\n",
    "from neighborsMinHash.util import measure_performance\n",
    "from neighborsMinHash.util import plotData\n",
    "\n",
    "\n",
    "import random\n",
    "\n",
    "from scipy.sparse import dok_matrix\n",
    "from scipy.sparse import rand\n",
    "from scipy.sparse import vstack\n",
    "\n",
    "\n",
    "import pyflann\n",
    "import annoy"
   ]
  },
  {
   "cell_type": "code",
   "execution_count": 2,
   "metadata": {
    "collapsed": true
   },
   "outputs": [],
   "source": [
    "from eden.converter.graph.gspan import gspan_to_eden\n",
    "from eden.graph import Vectorizer\n",
    "graphs = gspan_to_eden( 'http://www.bioinf.uni-freiburg.de/~costa/bursi.gspan' )\n",
    "vectorizer = Vectorizer( r=2,d=5 )\n",
    "datasetBursi = vectorizer.transform( graphs )"
   ]
  },
  {
   "cell_type": "markdown",
   "metadata": {},
   "source": [
    "Computed on Intel i5-2415M 2.3 GHz, 16 GB RAM, Mac OS X 10.11 El Capitan"
   ]
  },
  {
   "cell_type": "code",
   "execution_count": null,
   "metadata": {
    "collapsed": true
   },
   "outputs": [],
   "source": [
    "n_neighbors_sklearn = 5\n",
    "n_neighbors_minHash = 5\n",
    "returnValuesBursi = measure_performance([datasetBursi], n_neighbors_sklearn, n_neighbors_minHash, number_of_hashfunctions=8000)"
   ]
  },
  {
   "cell_type": "markdown",
   "metadata": {},
   "source": [
    "####Query time: 50 calls for a single query"
   ]
  },
  {
   "cell_type": "code",
   "execution_count": null,
   "metadata": {
    "collapsed": true
   },
   "outputs": [],
   "source": [
    "plotData(data=returnValuesBursi[3:7], color=[\"r\", \"b\", \"m\", \"g\"], label=[\"sklearn\", \"minHash_exact\", \"minHash_approx\", \"lhsf\"],\n",
    "        xticks=[\"bursi\"], ylabel=\"Time in seconds\", number_of_instances=1,\n",
    "        number_of_features=1, title='Query time: 50 calls for a single query')"
   ]
  },
  {
   "cell_type": "markdown",
   "metadata": {},
   "source": [
    "####Query time: one call for 50 queries"
   ]
  },
  {
   "cell_type": "code",
   "execution_count": null,
   "metadata": {
    "collapsed": true
   },
   "outputs": [],
   "source": [
    "plotData(data=returnValuesBursi[7:13], color=[\"r\", \"b\", \"m\", \"g\", \"c\"], label=[\"sklearn\", \"minHash_exact\", \"minHash_approx\", \"lhsf\", \"annoy\"],\n",
    "        xticks=[\"bursi\"], ylabel=\"Time in seconds\", number_of_instances=1,\n",
    "        number_of_features=1, title='Query time: one call for 50 queries')"
   ]
  },
  {
   "cell_type": "markdown",
   "metadata": {},
   "source": [
    "####Accuracy for bursi dataset"
   ]
  },
  {
   "cell_type": "code",
   "execution_count": null,
   "metadata": {
    "collapsed": true
   },
   "outputs": [],
   "source": [
    "plotData(data=returnValuesBursi[13:], color=[\"g\", \"b\", \"m\", \"c\"], label=[\"lhsf\", \"minHash_exact\", \"minHash_approx\", \"annoy\"],\n",
    "        xticks=[\"bursi\"], ylabel=\"Accuracy\", number_of_instances=1,\n",
    "        number_of_features=1, title='Accuracy', log=False)"
   ]
  },
  {
   "cell_type": "markdown",
   "metadata": {},
   "source": [
    "####Accuracy vs. number of hash functions\n",
    "Computed on Intel i7-3770 3.4 GHz, Ubuntu Linux 14.04"
   ]
  },
  {
   "cell_type": "code",
   "execution_count": 3,
   "metadata": {
    "collapsed": false
   },
   "outputs": [
    {
     "name": "stdout",
     "output_type": "stream",
     "text": [
      "lazy_fitting:  False\n",
      "lazy_fitting:  False\n",
      "lazy_fitting:  False\n",
      "lazy_fitting:  False\n",
      "lazy_fitting:  False\n",
      "lazy_fitting:  False\n",
      "lazy_fitting:  False\n",
      "lazy_fitting:  False\n",
      "lazy_fitting:  False\n",
      "lazy_fitting:  False\n",
      "lazy_fitting:  False\n",
      "lazy_fitting:  False\n",
      "lazy_fitting:  False\n",
      "lazy_fitting:  False\n",
      "lazy_fitting:  False\n",
      "lazy_fitting:  False\n",
      "lazy_fitting:  False\n",
      "lazy_fitting:  False\n"
     ]
    }
   ],
   "source": [
    "precision_minHash_exact = []\n",
    "precision_minHash_approx = []\n",
    "time_minHash_exact = []\n",
    "time_minHash_approx = []\n",
    "time_minHash_fit = []\n",
    "size_of_query = 1000\n",
    "query = None\n",
    "\n",
    "\n",
    "if size_of_query < datasetBursi.shape[0]:\n",
    "    query_ids = []\n",
    "    for i in range(size_of_query):\n",
    "        query_ids.append(random.randint(0, datasetBursi.shape[0]-1))\n",
    "    query = datasetBursi[query_ids]\n",
    "else:\n",
    "    query = datasetBursi\n",
    "nearest_neighbor_sklearn = NearestNeighbors(n_neighbors = 5)\n",
    "nearest_neighbor_sklearn.fit(datasetBursi)\n",
    "n_neighbors_sklearn = nearest_neighbor_sklearn.kneighbors(X=query,return_distance=False)\n",
    "\n",
    "hash_functions_list = [50, 100, 200, 400, 800, 1000, 2000, 4000, 8000]\n",
    "for hash_functions in hash_functions_list:    \n",
    "\n",
    "    nearest_neighbor_minHash = kneighbors.MinHashNearestNeighbors(n_neighbors = 5,\n",
    "                                                                  number_of_hash_functions=hash_functions,\n",
    "                                                                  max_bin_size = 50, minimal_blocks_in_common = 1, \n",
    "                                                                  block_size = 4, excess_factor = 5,)\n",
    "\n",
    "    time_start = time.time()\n",
    "    nearest_neighbor_minHash.fit(datasetBursi)\n",
    "    # print nearest_neighbor_minHash._inverseIndex._inverse_index\n",
    "    time_end = time.time()\n",
    "    time_minHash_fit.append(time_end - time_start)\n",
    "\n",
    "    time_start = time.time()\n",
    "    n_neighbors_minHash_exact = nearest_neighbor_minHash.kneighbors(X=query,return_distance=False)\n",
    "    time_end = time.time()\n",
    "    time_minHash_exact.append(time_end - time_start)\n",
    "\n",
    "\n",
    "    time_start = time.time()\n",
    "    n_neighbors_minHash_approx = nearest_neighbor_minHash.kneighbors(X=query,fast=True,return_distance=False)\n",
    "    # print n_neighbors_minHash_approx_1_50\n",
    "    time_end = time.time()\n",
    "    time_minHash_approx.append(time_end - time_start)\n",
    "\n",
    "    accuracy_minHash_exact = np.in1d(n_neighbors_minHash_exact, n_neighbors_sklearn).mean()\n",
    "    accuracy_minHash_approx = np.in1d(n_neighbors_minHash_approx, n_neighbors_sklearn).mean()\n",
    "    precision_minHash_exact.append(accuracy_minHash_exact)\n",
    "    precision_minHash_approx.append(accuracy_minHash_approx)\n",
    "   \n",
    "xticksBursi = []\n",
    "for i in hash_functions_list:\n",
    "    xticksBursi.append(str(i))"
   ]
  },
  {
   "cell_type": "code",
   "execution_count": 6,
   "metadata": {
    "collapsed": false
   },
   "outputs": [
    {
     "data": {
      "image/png": "[encoded data removed]",
      "text/plain": [
       "<matplotlib.figure.Figure at 0x7fd687dc3a10>"
      ]
     },
     "metadata": {},
     "output_type": "display_data"
    }
   ],
   "source": [
    "plotData(data=[precision_minHash_exact, precision_minHash_approx], color=[\"g\", \"b\"], label=[\"minHash_exact\", \"minHash_approx\"],\n",
    "        xticks=xticksBursi, ylabel=\"Accuracy\", number_of_instances=len(hash_functions_list),\n",
    "        number_of_features=1, title='Accuracy', log=False)"
   ]
  },
  {
   "cell_type": "markdown",
   "metadata": {},
   "source": [
    "####Test the fitting time of single-core vs. multi-core for different number of hash functions\n",
    "As a dataset \"bursi\" is used."
   ]
  },
  {
   "cell_type": "code",
   "execution_count": 7,
   "metadata": {
    "collapsed": true
   },
   "outputs": [],
   "source": [
    "import multiprocessing as mp\n",
    "time_fit = []\n",
    "time_fit_single_core = []\n",
    "hash_functions_list = [100, 400, 600, 800, 1000]\n",
    "for hash_functions in hash_functions_list:    \n",
    "\n",
    "    nearest_neighbor_minHash = kneighbors.MinHashNearestNeighbors(number_of_hash_functions=hash_functions, number_of_cores = mp.cpu_count())\n",
    "    nearest_neighbor_minHash_single_core = kneighbors.MinHashNearestNeighbors(number_of_hash_functions=hash_functions, number_of_cores=1)\n",
    "\n",
    "    time_start = time.time()\n",
    "    nearest_neighbor_minHash.fit(datasetBursi)\n",
    "    time_end = time.time()\n",
    "    time_fit.append(time_end - time_start)\n",
    "    \n",
    "    time_start = time.time()\n",
    "    nearest_neighbor_minHash_single_core.fit(datasetBursi)\n",
    "    time_end = time.time()\n",
    "    time_fit_single_core.append(time_end - time_start)\n",
    "\n",
    "xticksBursi = []\n",
    "for i in hash_functions_list:\n",
    "    xticksBursi.append(str(i))"
   ]
  },
  {
   "cell_type": "code",
   "execution_count": 8,
   "metadata": {
    "collapsed": false
   },
   "outputs": [
    {
     "data": {
      "image/png": "[encoded data removed]",
      "text/plain": [
       "<matplotlib.figure.Figure at 0x7fd687dc3ed0>"
      ]
     },
     "metadata": {},
     "output_type": "display_data"
    }
   ],
   "source": [
    "plotData(data=[time_fit, time_fit_single_core], color=[\"g\", \"b\"], label=[\"multicore\", \"singlecore\"],\n",
    "        xticks=xticksBursi, ylabel=\"Fitting time\", number_of_instances=len(hash_functions_list),\n",
    "        number_of_features=1, title='Fitting time for multicore vs. singlecore', log=False)"
   ]
  },
  {
   "cell_type": "markdown",
   "metadata": {},
   "source": [
    "####Test the fitting time of single-core vs. multi-core for datasets with different number of instances"
   ]
  },
  {
   "cell_type": "code",
   "execution_count": 9,
   "metadata": {
    "collapsed": true
   },
   "outputs": [],
   "source": [
    "import multiprocessing as mp\n",
    "\n",
    "time_fit = []\n",
    "time_fit_single_core = []\n",
    "instances = [100,1000,10000, 100000, 1000000, 10000000]\n",
    "\n",
    "for instances_ in instances:    \n",
    "    X, _ = create_dataset(seed=1,\n",
    "                   number_of_centroids=7,\n",
    "                   number_of_instances=instances_,\n",
    "                   number_of_features=100,\n",
    "                   size_of_dataset=8,\n",
    "                   density=0.00001,\n",
    "                   fraction_of_density=0.2\n",
    "                   )\n",
    "    nearest_neighbor_minHash = kneighbors.MinHashNearestNeighbors(number_of_cores = mp.cpu_count())\n",
    "    nearest_neighbor_minHash_single_core = kneighbors.MinHashNearestNeighbors(number_of_cores=1)\n",
    "\n",
    "    time_start = time.time()\n",
    "    nearest_neighbor_minHash.fit(X)\n",
    "    time_end = time.time()\n",
    "    time_fit.append(time_end - time_start)\n",
    "    \n",
    "    time_start = time.time()\n",
    "    nearest_neighbor_minHash_single_core.fit(X)\n",
    "    time_end = time.time()\n",
    "    time_fit_single_core.append(time_end - time_start)\n",
    "xticksBursi = []\n",
    "for i in instances:\n",
    "    xticksBursi.append(str(i))"
   ]
  },
  {
   "cell_type": "code",
   "execution_count": 10,
   "metadata": {
    "collapsed": false
   },
   "outputs": [
    {
     "data": {
      "image/png": "[encoded data removed]",
      "text/plain": [
       "<matplotlib.figure.Figure at 0x7fd687e08350>"
      ]
     },
     "metadata": {},
     "output_type": "display_data"
    }
   ],
   "source": [
    "plotData(data=[time_fit, time_fit_single_core], color=[\"g\", \"b\"], label=[\"multicore\", \"singlecore\"],\n",
    "        xticks=xticksBursi, ylabel=\"Fitting time\", number_of_instances=len(instances),\n",
    "        number_of_features=1, title='Fitting time for multicore vs. singlecore', log=True)"
   ]
  },
  {
   "cell_type": "code",
   "execution_count": null,
   "metadata": {
    "collapsed": true
   },
   "outputs": [],
   "source": []
  }
 ],
 "metadata": {
  "kernelspec": {
   "display_name": "Python 2",
   "language": "python",
   "name": "python2"
  },
  "language_info": {
   "codemirror_mode": {
    "name": "ipython",
    "version": 2
   },
   "file_extension": ".py",
   "mimetype": "text/x-python",
   "name": "python",
   "nbconvert_exporter": "python",
   "pygments_lexer": "ipython2",
   "version": "2.7.6"
  }
 },
 "nbformat": 4,
 "nbformat_minor": 0
}
