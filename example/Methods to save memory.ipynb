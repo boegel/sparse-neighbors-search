{
 "cells": [
  {
   "cell_type": "markdown",
   "metadata": {},
   "source": [
    "## Parameter optimization for accuracy, speed and memory usage\n",
    "The used dataset is bursi. The following optimizations are computed on Ubuntu 14.04, CPU: Intel i5-6600@3.3GHz, 16 GB RAM"
   ]
  },
  {
   "cell_type": "code",
   "execution_count": 1,
   "metadata": {
    "collapsed": false
   },
   "outputs": [],
   "source": [
    "%matplotlib inline\n",
    "%load_ext memory_profiler\n",
    "from neighborsMinHash import MinHash\n",
    "import matplotlib.pyplot as plt\n",
    "import numpy as np\n",
    "from sklearn.neighbors import NearestNeighbors\n",
    "from sklearn.metrics import accuracy_score\n",
    "import time\n",
    "import math\n",
    "from collections import Counter\n",
    "import gc"
   ]
  },
  {
   "cell_type": "code",
   "execution_count": 2,
   "metadata": {
    "collapsed": false
   },
   "outputs": [
    {
     "name": "stdout",
     "output_type": "stream",
     "text": [
      "peak memory: 277.76 MiB, increment: 183.86 MiB\n",
      "CPU times: user 17.1 s, sys: 72 ms, total: 17.1 s\n",
      "Wall time: 18.3 s\n"
     ]
    }
   ],
   "source": [
    "from eden.converter.graph.gspan import gspan_to_eden\n",
    "from eden.graph import Vectorizer\n",
    "graphs = gspan_to_eden( 'http://www.bioinf.uni-freiburg.de/~costa/bursi.gspan' )\n",
    "vectorizer = Vectorizer( r=2,d=5 )\n",
    "%time %memit datasetBursi = vectorizer.transform( graphs )"
   ]
  },
  {
   "cell_type": "code",
   "execution_count": 3,
   "metadata": {
    "collapsed": false
   },
   "outputs": [],
   "source": [
    "def compute_score(error_list, memory_list, time_list, max_memory, max_time, alpha, beta):\n",
    "    score_values = []\n",
    "    for error_, memory_, time_ in zip(error_list, memory_list, time_list):\n",
    "        error = error_/(float (max_error))\n",
    "        if memory_ == 0: \n",
    "            memory = math.log(1.0/float(max_memory), 10)*alpha\n",
    "        else:\n",
    "            memory = math.log(memory_/float(max_memory), 10)*alpha\n",
    "        time = math.log(time_/float(max_time), 10)*beta\n",
    "        score_values.append(error + memory  + time)\n",
    "    score_values_np = np.array(score_values)\n",
    "    min_values_index = np.array(np.where(score_values_np == score_values_np.min()))\n",
    "    min_values = score_values_np.min()\n",
    "    return min_values, min_values_index, score_values"
   ]
  },
  {
   "cell_type": "code",
   "execution_count": 4,
   "metadata": {
    "collapsed": false
   },
   "outputs": [],
   "source": [
    "def make_patch_spines_invisible(ax):\n",
    "    ax.set_frame_on(True)\n",
    "    ax.patch.set_visible(False)\n",
    "    for sp in ax.spines.values():\n",
    "        sp.set_visible(False)\n",
    "def createPlot(x_values_list, accuracy, time_fit, time_kneighbors, xlabel, ylabelAccuracy, ylabelFit, ylabelKneighbors,\n",
    "              mean=None, std=None):\n",
    "    plt.figure(figsize=(20, 20))\n",
    "    fig, host = plt.subplots()\n",
    "    fig.subplots_adjust(right=0.75)\n",
    "\n",
    "    par1 = host.twinx()\n",
    "    par2 = host.twinx()\n",
    "    if mean != None:\n",
    "        par3 = host.twinx()\n",
    "        par3.plot((mean, min(accuracy)), (mean, min(accuracy)), 'k-')\n",
    "        par4 = host.twinx()\n",
    "        par4.plot((std, min(accuracy)), (std, min(accuracy)), 'k-')\n",
    "\n",
    "    # Offset the right spine of par2.  The ticks and label have already been\n",
    "    # placed on the right by twinx above.\n",
    "    par2.spines[\"right\"].set_position((\"axes\", 1.2))\n",
    "    # Having been created by twinx, par2 has its frame off, so the line of its\n",
    "    # detached spine is invisible.  First, activate the frame but make the patch\n",
    "    # and spines invisible.\n",
    "    make_patch_spines_invisible(par2)\n",
    "    # Second, show the right spine.\n",
    "    par2.spines[\"right\"].set_visible(True)\n",
    "\n",
    "    p1, = host.plot(x_values_list, accuracy, \"b-\")\n",
    "    p2, = par1.plot(x_values_list, time_fit, \"r-\")\n",
    "    p3, = par2.plot(x_values_list, time_kneighbors, \"g-\")\n",
    "\n",
    "    host.set_xlim(min(x_values_list), max(x_values_list))\n",
    "    host.set_ylim(min(accuracy), max(accuracy))\n",
    "    par1.set_ylim(min(time_fit), max(time_fit))\n",
    "    par2.set_ylim(min(time_kneighbors), max(time_kneighbors))\n",
    "\n",
    "    host.set_xlabel(xlabel)\n",
    "    host.set_ylabel(ylabelAccuracy)\n",
    "    par1.set_ylabel(ylabelFit)\n",
    "    par2.set_ylabel(ylabelKneighbors)\n",
    "\n",
    "    host.yaxis.label.set_color(p1.get_color())\n",
    "    par1.yaxis.label.set_color(p2.get_color())\n",
    "    par2.yaxis.label.set_color(p3.get_color())\n",
    "\n",
    "    tkw = dict(size=4, width=1.5)\n",
    "    host.tick_params(axis='y', colors=p1.get_color(), **tkw)\n",
    "    par1.tick_params(axis='y', colors=p2.get_color(), **tkw)\n",
    "    par2.tick_params(axis='y', colors=p3.get_color(), **tkw)\n",
    "    host.tick_params(axis='x', **tkw)\n",
    "\n",
    "    lines = [p1, p2, p3]\n",
    "    plt.show()"
   ]
  },
  {
   "cell_type": "markdown",
   "metadata": {},
   "source": [
    "### Distribution of the inverse index"
   ]
  },
  {
   "cell_type": "code",
   "execution_count": 5,
   "metadata": {
    "collapsed": false
   },
   "outputs": [],
   "source": [
    "n_neighbors_minHash = MinHash(number_of_hash_functions=400)\n",
    "n_neighbors_minHash.fit(datasetBursi)"
   ]
  },
  {
   "cell_type": "code",
   "execution_count": 6,
   "metadata": {
    "collapsed": false
   },
   "outputs": [],
   "source": [
    "distribution = n_neighbors_minHash.get_distribution_of_inverse_index()\n",
    "min_ = min(distribution[0])\n",
    "max_ = max(distribution[0])"
   ]
  },
  {
   "cell_type": "code",
   "execution_count": 7,
   "metadata": {
    "collapsed": false,
    "scrolled": true
   },
   "outputs": [
    {
     "data": {
      "image/png": "[encoded data removed]",
      "text/plain": [
       "<matplotlib.figure.Figure at 0x7f48aa022ed0>"
      ]
     },
     "metadata": {},
     "output_type": "display_data"
    }
   ],
   "source": [
    "X = np.arange(len(distribution[0]))\n",
    "plt.figure(figsize=(30, 10))\n",
    "plt.yscale('log')\n",
    "plt.bar(X, distribution[0].values())\n",
    "plt.xticks(X, distribution[0].keys())\n",
    "ymax = max(distribution[0].values())\n",
    "plt.ylim(0, ymax)\n",
    "plt.ylabel(\"count of hash values with y instances\")\n",
    "plt.xlabel(\"hash values contains x instances\")\n",
    "plt.title(\"Distribution of the inverse index\")\n",
    "plt.show()"
   ]
  },
  {
   "cell_type": "markdown",
   "metadata": {},
   "source": [
    "### Compute the maximum values for time, memory usage and the error value"
   ]
  },
  {
   "cell_type": "code",
   "execution_count": 8,
   "metadata": {
    "collapsed": false
   },
   "outputs": [],
   "source": [
    "n_neighbors_sklearn = NearestNeighbors()\n",
    "n_neighbors_sklearn.fit(datasetBursi)\n",
    "neighbors_sklearn = n_neighbors_sklearn.kneighbors(return_distance=False)\n",
    "accuracy_max = []\n",
    "time_fit_max = []\n",
    "time_kneighbors_max = []\n",
    "distribution_inverse_index_max = []\n",
    "\n",
    "for i in xrange(10):\n",
    "    n_neighbors_minHash = MinHash(number_of_hash_functions=400, block_size=1)\n",
    "    time_start = time.time()\n",
    "    n_neighbors_minHash.fit(datasetBursi)\n",
    "    distribution_inverse_index_max.append(n_neighbors_minHash.get_distribution_of_inverse_index())\n",
    "    time_end = time.time() - time_start\n",
    "    time_fit_max.append(time_end)\n",
    "    time_start = time.time()\n",
    "    neighbors = n_neighbors_minHash.kneighbors(return_distance=False, fast=False)\n",
    "    time_end = time.time() - time_start\n",
    "    time_kneighbors_max.append(time_end)\n",
    "    accuracy_value = 0\n",
    "    for x, y in zip(neighbors, neighbors_sklearn):\n",
    "        accuracy_value += accuracy_score(x, y)\n",
    "    accuracy_max.append(1 - (accuracy_value / len(neighbors)))"
   ]
  },
  {
   "cell_type": "code",
   "execution_count": 9,
   "metadata": {
    "collapsed": false
   },
   "outputs": [],
   "source": [
    "max_error = np.average(accuracy_max)\n",
    "max_time = np.average(time_kneighbors_max)\n",
    "memory_list = []\n",
    "for dist in distribution_inverse_index_max:\n",
    "    value = 0\n",
    "    for mem in dist[0]:\n",
    "        value += dist[0][mem]\n",
    "    memory_list.append(value)\n",
    "        \n",
    "max_memory = np.average(memory_list)\n"
   ]
  },
  {
   "cell_type": "markdown",
   "metadata": {},
   "source": [
    "### Best pruning value for the frequency of occurences of hash values"
   ]
  },
  {
   "cell_type": "code",
   "execution_count": null,
   "metadata": {
    "collapsed": false
   },
   "outputs": [],
   "source": [
    "n_neighbors_sklearn = NearestNeighbors()\n",
    "n_neighbors_sklearn.fit(datasetBursi)\n",
    "neighbors_sklearn = n_neighbors_sklearn.kneighbors(return_distance=False)\n",
    "error_list = []\n",
    "time_fit_list = []\n",
    "time_kneighbors_list = []\n",
    "iterations = 3\n",
    "distribution_inverse_index = []\n",
    "for value in xrange(max(distribution_inverse_index_max[0][0].iterkeys())+1):\n",
    "    time_fit_ = 0\n",
    "    error_ = 0\n",
    "    time_kneighbors_ = 0\n",
    "    distribution_inverse_index_ = []\n",
    "    for i in xrange(iterations):\n",
    "        n_neighbors_minHash_prune = MinHash(number_of_hash_functions=400, prune_inverse_index=value)\n",
    "        time_start = time.time()\n",
    "        n_neighbors_minHash_prune.fit(datasetBursi)\n",
    "        distribution_inverse_index_.append(n_neighbors_minHash_prune.get_distribution_of_inverse_index())\n",
    "        time_end = time.time() - time_start\n",
    "        time_fit_ += time_end\n",
    "        time_start = time.time()\n",
    "        neighbors = n_neighbors_minHash_prune.kneighbors(return_distance=False, fast=False)\n",
    "        time_end = time.time() - time_start\n",
    "        time_kneighbors_ += time_end\n",
    "        accuracy_value = 0\n",
    "        for x, y in zip(neighbors, neighbors_sklearn):\n",
    "            accuracy_value += accuracy_score(x, y)\n",
    "        error_ += 1 - (accuracy_value / len(neighbors))\n",
    "        %xdel neighbors\n",
    "        %xdel n_neighbors_minHash_prune\n",
    "    time_fit_list.append(time_fit_ / iterations)\n",
    "    time_kneighbors_list.append(time_kneighbors_ / iterations)\n",
    "    error_list.append(error_ / iterations)\n",
    "    dict_for_memory = {}\n",
    "    for i in xrange(iterations):\n",
    "        dict_for_memory = dict(Counter(dict_for_memory)+Counter(distribution_inverse_index_[i][0]))\n",
    "    dict_for_memory.update((x, y / iterations) for x, y in dict_for_memory.items())\n",
    "    distribution_inverse_index.append([dict_for_memory])\n"
   ]
  },
  {
   "cell_type": "code",
   "execution_count": 11,
   "metadata": {
    "collapsed": false
   },
   "outputs": [],
   "source": [
    "memory_list = []\n",
    "for dist in distribution_inverse_index:\n",
    "    value = 0\n",
    "    for mem in dist[0]:\n",
    "        value += dist[0][mem]\n",
    "    memory_list.append(value)"
   ]
  },
  {
   "cell_type": "markdown",
   "metadata": {},
   "source": [
    "#### Stored elements in the inverse index after pruning hash values with an occurence less than n"
   ]
  },
  {
   "cell_type": "code",
   "execution_count": 12,
   "metadata": {
    "collapsed": false
   },
   "outputs": [
    {
     "data": {
      "image/png": "[encoded data removed]",
      "text/plain": [
       "<matplotlib.figure.Figure at 0x7f66c2abba90>"
      ]
     },
     "metadata": {},
     "output_type": "display_data"
    }
   ],
   "source": [
    "data = np.arange(len(memory_list))\n",
    "plt.figure(figsize=(20, 10))\n",
    "plt.yscale('log')\n",
    "plt.bar(data, memory_list)\n",
    "plt.xticks(data, range(max(distribution_inverse_index_max[0][0].iterkeys())))\n",
    "ymax = max(memory_list)\n",
    "plt.ylim(0, ymax)\n",
    "plt.grid()\n",
    "plt.ylabel(\"number os stored size_t\")\n",
    "plt.xlabel(\"pruned value\")\n",
    "plt.title(\"Stored values by the inverse index\")\n",
    "plt.show()"
   ]
  },
  {
   "cell_type": "markdown",
   "metadata": {},
   "source": [
    "#### Error value, fitting time and query time under the aspect of pruning of the inverse index"
   ]
  },
  {
   "cell_type": "code",
   "execution_count": 13,
   "metadata": {
    "collapsed": false
   },
   "outputs": [
    {
     "data": {
      "text/plain": [
       "<matplotlib.figure.Figure at 0x7f66c2ac7610>"
      ]
     },
     "metadata": {},
     "output_type": "display_data"
    },
    {
     "data": {
      "image/png": "[encoded data removed]",
      "text/plain": [
       "<matplotlib.figure.Figure at 0x7f66c2ac79d0>"
      ]
     },
     "metadata": {},
     "output_type": "display_data"
    }
   ],
   "source": [
    "createPlot(range(max(distribution_inverse_index_max[0][0].iterkeys())+1), error_list, time_fit_list, time_kneighbors_list,\n",
    "           \"Pruned hash values wit less number of entries\", \"Error value\",\n",
    "           \"Time for fitting\", \"Time for query\")"
   ]
  },
  {
   "cell_type": "markdown",
   "metadata": {},
   "source": [
    "#### Optimization for alpha and beta with respect to a minimal error value"
   ]
  },
  {
   "cell_type": "code",
   "execution_count": 14,
   "metadata": {
    "collapsed": false
   },
   "outputs": [
    {
     "name": "stdout",
     "output_type": "stream",
     "text": [
      "alpha:  0.13\n",
      "beta:  1.99\n",
      "Error value:  0.643286449927\n",
      "Best pruning value:  8\n",
      "Score:  2.94580911227\n"
     ]
    }
   ],
   "source": [
    "min_error_value = 1\n",
    "best_alpha = 0\n",
    "best_beta = 0\n",
    "best_score = 0\n",
    "best_pruning_value = 0\n",
    "epsilon = 0.05 # allow a variance of factor epsilon for the error value\n",
    "plotting_values=[[]] # score, error, alpha, beta\n",
    "for alpha_ in np.arange(0.01, 2 ,2):\n",
    "    for beta_ in np.arange(0.01, 2, 0.01):\n",
    "        result = compute_score(error_list, memory_list, time_fit_list, max_memory, max_time, alpha=alpha_, beta=beta_)\n",
    "#         print error_list[result[1][0][0]]\n",
    "        if max_error + epsilon > error_list[result[1][0][0]]:\n",
    "            if (min_error_value + epsilon) > error_list[result[1][0][0]]:\n",
    "                best_score = result[0]\n",
    "                best_alpha = alpha_\n",
    "                best_beta = beta_\n",
    "                min_error_value = error_list[result[1][0][0]]\n",
    "                best_pruning_value = result[1][0][0]\n",
    "                plotting_values.append([best_score, min_error_value, best_alpha, best_beta])\n",
    "            \n",
    "print \"alpha: \", best_alpha\n",
    "print \"beta: \", best_beta\n",
    "print \"Error value: \", min_error_value\n",
    "print \"Best pruning value: \", best_pruning_value\n",
    "print \"Score: \", best_score"
   ]
  },
  {
   "cell_type": "markdown",
   "metadata": {},
   "source": [
    "#### Optimization for memory usage and speed"
   ]
  },
  {
   "cell_type": "code",
   "execution_count": 15,
   "metadata": {
    "collapsed": false
   },
   "outputs": [
    {
     "name": "stdout",
     "output_type": "stream",
     "text": [
      "Best value for pruning:  10  with value:  1.27500090306\n"
     ]
    },
    {
     "data": {
      "image/png": "[encoded data removed]",
      "text/plain": [
       "<matplotlib.figure.Figure at 0x7f66c493f050>"
      ]
     },
     "metadata": {},
     "output_type": "display_data"
    }
   ],
   "source": [
    "result = compute_score(error_list, memory_list, time_fit_list, max_memory, max_time, alpha=0.13, beta=0.36)\n",
    "# print result\n",
    "plt.plot(range(max(distribution_inverse_index_max[0][0].iterkeys())+1), result[2], 'k-', lw=2)\n",
    "print \"Best value for pruning: \", result[1][0][0], \" with value: \", result[0]"
   ]
  },
  {
   "cell_type": "markdown",
   "metadata": {},
   "source": [
    "### Removing hash functions with less hash values than n"
   ]
  },
  {
   "cell_type": "code",
   "execution_count": null,
   "metadata": {
    "collapsed": false
   },
   "outputs": [],
   "source": [
    "n_neighbors_sklearn = NearestNeighbors()\n",
    "n_neighbors_sklearn.fit(datasetBursi)\n",
    "neighbors_sklearn = n_neighbors_sklearn.kneighbors(return_distance=False)\n",
    "error_list = []\n",
    "time_fit_list = []\n",
    "time_kneighbors_list = []\n",
    "iterations = 3\n",
    "distribution_inverse_index = []\n",
    "for value in sorted(distribution[1][0::10]):\n",
    "    time_fit_ = 0\n",
    "    error_ = 0\n",
    "    time_kneighbors_ = 0\n",
    "    distribution_inverse_index_ = []\n",
    "    for i in xrange(iterations):\n",
    "        n_neighbors_minHash_prune = MinHash(number_of_hash_functions=400,\n",
    "                                        removeHashFunctionWithLessEntriesAs=value)\n",
    "        time_start = time.time()\n",
    "        n_neighbors_minHash_prune.fit(datasetBursi)\n",
    "        distribution_inverse_index_.append(n_neighbors_minHash_prune.get_distribution_of_inverse_index())\n",
    "        time_end = time.time() - time_start\n",
    "        time_fit_ += time_end\n",
    "        time_start = time.time()\n",
    "        neighbors = n_neighbors_minHash_prune.kneighbors(return_distance=False, fast=False)\n",
    "        time_end = time.time() - time_start\n",
    "        time_kneighbors_ += time_end\n",
    "        accuracy_value = 0\n",
    "        for x, y in zip(neighbors, neighbors_sklearn):\n",
    "            accuracy_value += accuracy_score(x, y)\n",
    "        error_ += 1 - (accuracy_value / len(neighbors))\n",
    "        %xdel neighbors\n",
    "        %xdel n_neighbors_minHash_prune\n",
    "#         del n_neighbors_minHash_prune\n",
    "    time_fit_list.append(time_fit_ / iterations)\n",
    "    time_kneighbors_list.append(time_kneighbors_ / iterations)\n",
    "    error_list.append(error_ / iterations)\n",
    "    dict_for_memory = {}\n",
    "    for i in xrange(iterations):\n",
    "        dict_for_memory = dict(Counter(dict_for_memory)+Counter(distribution_inverse_index_[i][0]))\n",
    "    dict_for_memory.update((x, y / iterations) for x, y in dict_for_memory.items())\n",
    "    distribution_inverse_index.append([dict_for_memory])"
   ]
  },
  {
   "cell_type": "code",
   "execution_count": null,
   "metadata": {
    "collapsed": true
   },
   "outputs": [],
   "source": [
    "elements_in_index = []\n",
    "for instance in distribution_inverse_index[0::10]:\n",
    "    value = 0\n",
    "    for data in instance[0]:\n",
    "        value += instance[0][data]\n",
    "    elements_in_index.append(value)\n",
    "print elements_in_index"
   ]
  },
  {
   "cell_type": "markdown",
   "metadata": {},
   "source": [
    "#### Stored elements in the inverse index after pruning"
   ]
  },
  {
   "cell_type": "code",
   "execution_count": 36,
   "metadata": {
    "collapsed": false,
    "scrolled": true
   },
   "outputs": [
    {
     "name": "stdout",
     "output_type": "stream",
     "text": [
      "[58413, 322491, 318728, 314205, 309148, 303699, 298408, 291596, 285124, 278449, 272950, 266593, 257952, 249805, 242974, 235307, 226689, 218702, 211421, 204042, 194076, 185628, 177038, 168310, 160336, 151390, 141460, 132311, 123085, 113775, 104329, 94785, 85136, 75364, 66443, 55367, 45068, 34563, 23801, 12778, 1335]\n",
      "Mean:  808\n"
     ]
    },
    {
     "data": {
      "image/png": "[encoded data removed]",
      "text/plain": [
       "<matplotlib.figure.Figure at 0x7fdae5ee6cd0>"
      ]
     },
     "metadata": {},
     "output_type": "display_data"
    }
   ],
   "source": [
    "data = np.arange(len(memory_list))\n",
    "plt.figure(figsize=(20, 10))\n",
    "plt.yscale('log')\n",
    "plt.bar(data, memory_list)\n",
    "plt.xticks(data, range(max(distribution_inverse_index_max[0][0].iterkeys())))\n",
    "ymax = max(memory_list)\n",
    "plt.ylim(0, ymax)\n",
    "plt.ylabel(\"number os stored size_t\")\n",
    "plt.xlabel(\"pruned value\")\n",
    "plt.title(\"Stored values by the inverse index\")\n",
    "plt.show()"
   ]
  },
  {
   "cell_type": "markdown",
   "metadata": {},
   "source": [
    "#### Error value, fitting time and query time under the aspect of pruning of the inverse index"
   ]
  },
  {
   "cell_type": "code",
   "execution_count": 9,
   "metadata": {
    "collapsed": false
   },
   "outputs": [
    {
     "data": {
      "text/plain": [
       "<matplotlib.figure.Figure at 0x7fdaf4ff0050>"
      ]
     },
     "metadata": {},
     "output_type": "display_data"
    },
    {
     "data": {
      "image/png": "[encoded data removed]",
      "text/plain": [
       "<matplotlib.figure.Figure at 0x7fdaf4ff0bd0>"
      ]
     },
     "metadata": {},
     "output_type": "display_data"
    }
   ],
   "source": [
    "createPlot(sorted(distribution[1]), error_list, time_fit_list, time_kneighbors_list, \n",
    "           \"Pruned hash functions with less hash values as n\",\n",
    "           \"Error value\", \"Time for fitting\", \"Time for query\")"
   ]
  },
  {
   "cell_type": "markdown",
   "metadata": {},
   "source": [
    "#### Optimization for alpha and beta with respect to a minimal error value"
   ]
  },
  {
   "cell_type": "code",
   "execution_count": null,
   "metadata": {
    "collapsed": true
   },
   "outputs": [],
   "source": [
    "min_error_value = 1\n",
    "best_alpha = 0\n",
    "best_beta = 0\n",
    "best_score = 0\n",
    "best_pruning_value = 0\n",
    "epsilon = 0.05 # allow a variance of factor epsilon for the error value\n",
    "for alpha_ in np.arange(0.01, 2 ,0.01):\n",
    "    for beta_ in np.arange(0.01, 2, 0.01):\n",
    "        result = compute_score(error_list, memory_list, time_fit_list, max_memory, max_time, alpha=alpha_, beta=beta_)\n",
    "#         print error_list[result[1][0][0]]\n",
    "        if max_error + epsilon > error_list[result[1][0][0]]:\n",
    "            if (min_error_value + epsilon) > error_list[result[1][0][0]]:\n",
    "                best_score = result[0]\n",
    "                best_alpha = alpha_\n",
    "                best_beta = beta_\n",
    "                min_error_value = error_list[result[1][0][0]]\n",
    "                best_pruning_value = result[1][0][0]\n",
    "            \n",
    "print \"alpha: \", best_alpha\n",
    "print \"beta: \", best_beta\n",
    "print \"Error value: \", min_error_value\n",
    "print \"Best pruning value: \", best_pruning_value\n",
    "print \"Score: \", best_score"
   ]
  },
  {
   "cell_type": "markdown",
   "metadata": {},
   "source": [
    "#### Optimization for memory usage and speed"
   ]
  },
  {
   "cell_type": "code",
   "execution_count": null,
   "metadata": {
    "collapsed": true
   },
   "outputs": [],
   "source": [
    "result = compute_score(error_list, memory_list, time_fit_list, max_memory, max_time, alpha=0.13, beta=0.36)\n",
    "# print result\n",
    "plt.plot(range(max(distribution_inverse_index_max[0][0].iterkeys())+1), result[2], 'k-', lw=2)\n",
    "print \"Best value for pruning: \", result[1][0][0], \" with value: \", result[0]"
   ]
  },
  {
   "cell_type": "markdown",
   "metadata": {
    "collapsed": true
   },
   "source": [
    "### Influence of shingels"
   ]
  },
  {
   "cell_type": "markdown",
   "metadata": {},
   "source": [
    "#### Concaternate values of a shingleton"
   ]
  },
  {
   "cell_type": "code",
   "execution_count": null,
   "metadata": {
    "collapsed": true
   },
   "outputs": [],
   "source": [
    "n_neighbors_sklearn = NearestNeighbors()\n",
    "n_neighbors_sklearn.fit(datasetBursi)\n",
    "neighbors_sklearn = n_neighbors_sklearn.kneighbors(return_distance=False)\n",
    "error_list = []\n",
    "time_fit_list = []\n",
    "time_kneighbors_list = []\n",
    "iterations = 3\n",
    "distribution_inverse_index = []\n",
    "shingel_size_ = 10\n",
    "for value in xrange(shingel_size_):\n",
    "    time_fit_ = 0\n",
    "    error_ = 0\n",
    "    time_kneighbors_ = 0\n",
    "    distribution_inverse_index_ = []\n",
    "    for i in xrange(iterations):\n",
    "        n_neighbors_minHash_prune = MinHash(number_of_hash_functions=400, shingel=1, shingel_size=value)\n",
    "        time_start = time.time()\n",
    "        n_neighbors_minHash_prune.fit(datasetBursi)\n",
    "        distribution_inverse_index_.append(n_neighbors_minHash_prune.get_distribution_of_inverse_index())\n",
    "        time_end = time.time() - time_start\n",
    "        time_fit_ += time_end\n",
    "        time_start = time.time()\n",
    "        neighbors = n_neighbors_minHash_prune.kneighbors(return_distance=False, fast=False)\n",
    "        time_end = time.time() - time_start\n",
    "        time_kneighbors_ += time_end\n",
    "        accuracy_value = 0\n",
    "        for x, y in zip(neighbors, neighbors_sklearn):\n",
    "            accuracy_value += accuracy_score(x, y)\n",
    "        error_ += 1 - (accuracy_value / len(neighbors))\n",
    "        %xdel neighbors\n",
    "        %xdel n_neighbors_minHash_prune\n",
    "    time_fit_list.append(time_fit_ / iterations)\n",
    "    time_kneighbors_list.append(time_kneighbors_ / iterations)\n",
    "    error_list.append(error_ / iterations)\n",
    "    dict_for_memory = {}\n",
    "    for i in xrange(iterations):\n",
    "        dict_for_memory = dict(Counter(dict_for_memory)+Counter(distribution_inverse_index_[i][0]))\n",
    "    dict_for_memory.update((x, y / iterations) for x, y in dict_for_memory.items())\n",
    "    distribution_inverse_index.append([dict_for_memory])"
   ]
  },
  {
   "cell_type": "code",
   "execution_count": null,
   "metadata": {
    "collapsed": true
   },
   "outputs": [],
   "source": [
    "memory_list = []\n",
    "for dist in distribution_inverse_index:\n",
    "    value = 0\n",
    "    for mem in dist[0]:\n",
    "        value += dist[0][mem]\n",
    "    memory_list.append(value)"
   ]
  },
  {
   "cell_type": "markdown",
   "metadata": {},
   "source": [
    "#### Stored elements in the inverse index"
   ]
  },
  {
   "cell_type": "code",
   "execution_count": null,
   "metadata": {
    "collapsed": true
   },
   "outputs": [],
   "source": [
    "data = np.arange(len(memory_list))\n",
    "plt.figure(figsize=(20, 10))\n",
    "plt.yscale('log')\n",
    "plt.bar(data, memory_list)\n",
    "plt.xticks(data, range(shingle_size_))\n",
    "ymax = max(memory_list)\n",
    "plt.ylim(0, ymax)\n",
    "plt.ylabel(\"number os stored size_t\")\n",
    "plt.xlabel(\"pruned value\")\n",
    "plt.title(\"Stored values by the inverse index\")\n",
    "plt.show()"
   ]
  },
  {
   "cell_type": "markdown",
   "metadata": {},
   "source": [
    "#### Error value, fitting time and query time"
   ]
  },
  {
   "cell_type": "code",
   "execution_count": null,
   "metadata": {
    "collapsed": true
   },
   "outputs": [],
   "source": [
    "createPlot(range(shingle_size_) error_list, time_fit_list, time_kneighbors_list, \n",
    "           \"Pruned hash functions with less hash values as n\",\n",
    "           \"Error value\", \"Time for fitting\", \"Time for query\")"
   ]
  },
  {
   "cell_type": "markdown",
   "metadata": {},
   "source": [
    "#### Optimization for alpha and beta with respect to a minimal error value"
   ]
  },
  {
   "cell_type": "code",
   "execution_count": null,
   "metadata": {
    "collapsed": true
   },
   "outputs": [],
   "source": [
    "min_error_value = 1\n",
    "best_alpha = 0\n",
    "best_beta = 0\n",
    "best_score = 0\n",
    "best_pruning_value = 0\n",
    "epsilon = 0.05 # allow a variance of factor epsilon for the error value\n",
    "for alpha_ in np.arange(0.01, 2 ,0.01):\n",
    "    for beta_ in np.arange(0.01, 2, 0.01):\n",
    "        result = compute_score(error_list, memory_list, time_fit_list, max_memory, max_time, alpha=alpha_, beta=beta_)\n",
    "#         print error_list[result[1][0][0]]\n",
    "        if max_error + epsilon > error_list[result[1][0][0]]:\n",
    "            if (min_error_value + epsilon) > error_list[result[1][0][0]]:\n",
    "                best_score = result[0]\n",
    "                best_alpha = alpha_\n",
    "                best_beta = beta_\n",
    "                min_error_value = error_list[result[1][0][0]]\n",
    "                best_pruning_value = result[1][0][0]\n",
    "            \n",
    "print \"alpha: \", best_alpha\n",
    "print \"beta: \", best_beta\n",
    "print \"Error value: \", min_error_value\n",
    "print \"Best pruning value: \", best_pruning_value\n",
    "print \"Score: \", best_score"
   ]
  },
  {
   "cell_type": "markdown",
   "metadata": {},
   "source": [
    "#### Optimization for memory usage and speed"
   ]
  },
  {
   "cell_type": "code",
   "execution_count": null,
   "metadata": {
    "collapsed": true
   },
   "outputs": [],
   "source": [
    "result = compute_score(error_list, memory_list, time_fit_list, max_memory, max_time, alpha=0.13, beta=0.36)\n",
    "# print result\n",
    "plt.plot(range(shingle_size_), result[2], 'k-', lw=2)\n",
    "print \"Best value for pruning: \", result[1][0][0], \" with value: \", result[0]"
   ]
  },
  {
   "cell_type": "markdown",
   "metadata": {},
   "source": [
    "#### Take minimum value of shingelton"
   ]
  },
  {
   "cell_type": "code",
   "execution_count": null,
   "metadata": {
    "collapsed": true
   },
   "outputs": [],
   "source": [
    "n_neighbors_sklearn = NearestNeighbors()\n",
    "n_neighbors_sklearn.fit(datasetBursi)\n",
    "neighbors_sklearn = n_neighbors_sklearn.kneighbors(return_distance=False)\n",
    "error_list = []\n",
    "time_fit_list = []\n",
    "time_kneighbors_list = []\n",
    "iterations = 3\n",
    "distribution_inverse_index = []\n",
    "shingle_size_ = 10\n",
    "for value in xrange(shingle_size_):\n",
    "    time_fit_ = 0\n",
    "    error_ = 0\n",
    "    time_kneighbors_ = 0\n",
    "    distribution_inverse_index_ = []\n",
    "    for i in xrange(iterations):\n",
    "        n_neighbors_minHash_prune = MinHash(number_of_hash_functions=400, shingle=2, shingle_size=value)\n",
    "        time_start = time.time()\n",
    "        n_neighbors_minHash_prune.fit(datasetBursi)\n",
    "        distribution_inverse_index_.append(n_neighbors_minHash_prune.get_distribution_of_inverse_index())\n",
    "        time_end = time.time() - time_start\n",
    "        time_fit_ += time_end\n",
    "        time_start = time.time()\n",
    "        neighbors = n_neighbors_minHash_prune.kneighbors(return_distance=False, fast=False)\n",
    "        time_end = time.time() - time_start\n",
    "        time_kneighbors_ += time_end\n",
    "        accuracy_value = 0\n",
    "        for x, y in zip(neighbors, neighbors_sklearn):\n",
    "            accuracy_value += accuracy_score(x, y)\n",
    "        error_ += 1 - (accuracy_value / len(neighbors))\n",
    "        %xdel neighbors\n",
    "        %xdel n_neighbors_minHash_prune\n",
    "    time_fit_list.append(time_fit_ / iterations)\n",
    "    time_kneighbors_list.append(time_kneighbors_ / iterations)\n",
    "    error_list.append(error_ / iterations)\n",
    "    dict_for_memory = {}\n",
    "    for i in xrange(iterations):\n",
    "        dict_for_memory = dict(Counter(dict_for_memory)+Counter(distribution_inverse_index_[i][0]))\n",
    "    dict_for_memory.update((x, y / iterations) for x, y in dict_for_memory.items())\n",
    "    distribution_inverse_index.append([dict_for_memory])"
   ]
  },
  {
   "cell_type": "code",
   "execution_count": null,
   "metadata": {
    "collapsed": true
   },
   "outputs": [],
   "source": [
    "memory_list = []\n",
    "for dist in distribution_inverse_index:\n",
    "    value = 0\n",
    "    for mem in dist[0]:\n",
    "        value += dist[0][mem]\n",
    "    memory_list.append(value)"
   ]
  },
  {
   "cell_type": "markdown",
   "metadata": {},
   "source": [
    "#### Stored elements in the inverse index"
   ]
  },
  {
   "cell_type": "code",
   "execution_count": null,
   "metadata": {
    "collapsed": true
   },
   "outputs": [],
   "source": [
    "data = np.arange(len(memory_list))\n",
    "plt.figure(figsize=(20, 10))\n",
    "plt.yscale('log')\n",
    "plt.bar(data, memory_list)\n",
    "plt.xticks(data, range(max(distribution_inverse_index_max[0][0].iterkeys())))\n",
    "ymax = max(memory_list)\n",
    "plt.ylim(0, ymax)\n",
    "plt.ylabel(\"number os stored size_t\")\n",
    "plt.xlabel(\"pruned value\")\n",
    "plt.title(\"Stored values by the inverse index\")\n",
    "plt.show()"
   ]
  },
  {
   "cell_type": "markdown",
   "metadata": {},
   "source": [
    "#### Error value, fitting time and query time"
   ]
  },
  {
   "cell_type": "code",
   "execution_count": null,
   "metadata": {
    "collapsed": true
   },
   "outputs": [],
   "source": [
    "createPlot(sorted(distribution[1]), error_list, time_fit_list, time_kneighbors_list, \n",
    "           \"Pruned hash functions with less hash values as n\",\n",
    "           \"Error value\", \"Time for fitting\", \"Time for query\")"
   ]
  },
  {
   "cell_type": "markdown",
   "metadata": {},
   "source": [
    "#### Optimization for alpha and beta with respect to a minimal error value"
   ]
  },
  {
   "cell_type": "code",
   "execution_count": null,
   "metadata": {
    "collapsed": true
   },
   "outputs": [],
   "source": [
    "min_error_value = 1\n",
    "best_alpha = 0\n",
    "best_beta = 0\n",
    "best_score = 0\n",
    "best_pruning_value = 0\n",
    "epsilon = 0.05 # allow a variance of factor epsilon for the error value\n",
    "for alpha_ in np.arange(0.01, 2 ,0.01):\n",
    "    for beta_ in np.arange(0.01, 2, 0.01):\n",
    "        result = compute_score(error_list, memory_list, time_fit_list, max_memory, max_time, alpha=alpha_, beta=beta_)\n",
    "#         print error_list[result[1][0][0]]\n",
    "        if max_error + epsilon > error_list[result[1][0][0]]:\n",
    "            if (min_error_value + epsilon) > error_list[result[1][0][0]]:\n",
    "                best_score = result[0]\n",
    "                best_alpha = alpha_\n",
    "                best_beta = beta_\n",
    "                min_error_value = error_list[result[1][0][0]]\n",
    "                best_pruning_value = result[1][0][0]\n",
    "            \n",
    "print \"alpha: \", best_alpha\n",
    "print \"beta: \", best_beta\n",
    "print \"Error value: \", min_error_value\n",
    "print \"Best pruning value: \", best_pruning_value\n",
    "print \"Score: \", best_score"
   ]
  },
  {
   "cell_type": "markdown",
   "metadata": {},
   "source": [
    "#### Optimization for memory usage and speed"
   ]
  },
  {
   "cell_type": "code",
   "execution_count": null,
   "metadata": {
    "collapsed": true
   },
   "outputs": [],
   "source": [
    "result = compute_score(error_list, memory_list, time_fit_list, max_memory, max_time, alpha=0.13, beta=0.36)\n",
    "# print result\n",
    "plt.plot(range(max(distribution_inverse_index_max[0][0].iterkeys())+1), result[2], 'k-', lw=2)\n",
    "print \"Best value for pruning: \", result[1][0][0], \" with value: \", result[0]"
   ]
  },
  {
   "cell_type": "markdown",
   "metadata": {},
   "source": [
    "### Frequencey of pruning"
   ]
  },
  {
   "cell_type": "markdown",
   "metadata": {},
   "source": [
    "#### Removing hash functions with less hash values than n"
   ]
  },
  {
   "cell_type": "code",
   "execution_count": null,
   "metadata": {
    "collapsed": true
   },
   "outputs": [],
   "source": [
    "n_neighbors_sklearn = NearestNeighbors()\n",
    "n_neighbors_sklearn.fit(datasetBursi)\n",
    "neighbors_sklearn = n_neighbors_sklearn.kneighbors(return_distance=False)\n",
    "error_list = []\n",
    "time_fit_list = []\n",
    "time_kneighbors_list = []\n",
    "iterations = 3\n",
    "distribution_inverse_index = []\n",
    "for value in xrange(max(distribution_inverse_index_max[0][0].iterkeys())+1):\n",
    "    time_fit_ = 0\n",
    "    error_ = 0\n",
    "    time_kneighbors_ = 0\n",
    "    distribution_inverse_index_ = []\n",
    "    for i in xrange(iterations):\n",
    "        n_neighbors_minHash_prune = MinHash(number_of_hash_functions=400, prune_inverse_index=value)\n",
    "        time_start = time.time()\n",
    "        n_neighbors_minHash_prune.fit(datasetBursi)\n",
    "        distribution_inverse_index_.append(n_neighbors_minHash_prune.get_distribution_of_inverse_index())\n",
    "        time_end = time.time() - time_start\n",
    "        time_fit_ += time_end\n",
    "        time_start = time.time()\n",
    "        neighbors = n_neighbors_minHash_prune.kneighbors(return_distance=False, fast=False)\n",
    "        time_end = time.time() - time_start\n",
    "        time_kneighbors_ += time_end\n",
    "        accuracy_value = 0\n",
    "        for x, y in zip(neighbors, neighbors_sklearn):\n",
    "            accuracy_value += accuracy_score(x, y)\n",
    "        error_ += 1 - (accuracy_value / len(neighbors))\n",
    "        %xdel neighbors\n",
    "        %xdel n_neighbors_minHash_prune\n",
    "    time_fit_list.append(time_fit_ / iterations)\n",
    "    time_kneighbors_list.append(time_kneighbors_ / iterations)\n",
    "    error_list.append(error_ / iterations)\n",
    "    dict_for_memory = {}\n",
    "    for i in xrange(iterations):\n",
    "        dict_for_memory = dict(Counter(dict_for_memory)+Counter(distribution_inverse_index_[i][0]))\n",
    "    dict_for_memory.update((x, y / iterations) for x, y in dict_for_memory.items())\n",
    "    distribution_inverse_index.append([dict_for_memory])"
   ]
  },
  {
   "cell_type": "code",
   "execution_count": null,
   "metadata": {
    "collapsed": true
   },
   "outputs": [],
   "source": [
    "memory_list = []\n",
    "for dist in distribution_inverse_index:\n",
    "    value = 0\n",
    "    for mem in dist[0]:\n",
    "        value += dist[0][mem]\n",
    "    memory_list.append(value)"
   ]
  },
  {
   "cell_type": "markdown",
   "metadata": {},
   "source": [
    "#### Stored elements in the inverse index"
   ]
  },
  {
   "cell_type": "code",
   "execution_count": null,
   "metadata": {
    "collapsed": true
   },
   "outputs": [],
   "source": [
    "data = np.arange(len(memory_list))\n",
    "plt.figure(figsize=(20, 10))\n",
    "plt.yscale('log')\n",
    "plt.bar(data, memory_list)\n",
    "plt.xticks(data, range(max(distribution_inverse_index_max[0][0].iterkeys())))\n",
    "ymax = max(memory_list)\n",
    "plt.ylim(0, ymax)\n",
    "plt.ylabel(\"number os stored size_t\")\n",
    "plt.xlabel(\"pruned value\")\n",
    "plt.title(\"Stored values by the inverse index\")\n",
    "plt.show()"
   ]
  },
  {
   "cell_type": "markdown",
   "metadata": {},
   "source": [
    "#### Error value, fitting time and query time"
   ]
  },
  {
   "cell_type": "code",
   "execution_count": null,
   "metadata": {
    "collapsed": true
   },
   "outputs": [],
   "source": [
    "createPlot(sorted(distribution[1]), error_list, time_fit_list, time_kneighbors_list, \n",
    "           \"Pruned hash functions with less hash values as n\",\n",
    "           \"Error value\", \"Time for fitting\", \"Time for query\")"
   ]
  },
  {
   "cell_type": "markdown",
   "metadata": {},
   "source": [
    "#### Optimization for alpha and beta with respect to a minimal error value"
   ]
  },
  {
   "cell_type": "code",
   "execution_count": null,
   "metadata": {
    "collapsed": true
   },
   "outputs": [],
   "source": [
    "min_error_value = 1\n",
    "best_alpha = 0\n",
    "best_beta = 0\n",
    "best_score = 0\n",
    "best_pruning_value = 0\n",
    "epsilon = 0.05 # allow a variance of factor epsilon for the error value\n",
    "for alpha_ in np.arange(0.01, 2 ,0.01):\n",
    "    for beta_ in np.arange(0.01, 2, 0.01):\n",
    "        result = compute_score(error_list, memory_list, time_fit_list, max_memory, max_time, alpha=alpha_, beta=beta_)\n",
    "#         print error_list[result[1][0][0]]\n",
    "        if max_error + epsilon > error_list[result[1][0][0]]:\n",
    "            if (min_error_value + epsilon) > error_list[result[1][0][0]]:\n",
    "                best_score = result[0]\n",
    "                best_alpha = alpha_\n",
    "                best_beta = beta_\n",
    "                min_error_value = error_list[result[1][0][0]]\n",
    "                best_pruning_value = result[1][0][0]\n",
    "            \n",
    "print \"alpha: \", best_alpha\n",
    "print \"beta: \", best_beta\n",
    "print \"Error value: \", min_error_value\n",
    "print \"Best pruning value: \", best_pruning_value\n",
    "print \"Score: \", best_score"
   ]
  },
  {
   "cell_type": "markdown",
   "metadata": {},
   "source": [
    "#### Optimization for memory usage and speed"
   ]
  },
  {
   "cell_type": "code",
   "execution_count": null,
   "metadata": {
    "collapsed": true
   },
   "outputs": [],
   "source": [
    "result = compute_score(error_list, memory_list, time_fit_list, max_memory, max_time, alpha=0.13, beta=0.36)\n",
    "# print result\n",
    "plt.plot(range(max(distribution_inverse_index_max[0][0].iterkeys())+1), result[2], 'k-', lw=2)\n",
    "print \"Best value for pruning: \", result[1][0][0], \" with value: \", result[0]"
   ]
  },
  {
   "cell_type": "markdown",
   "metadata": {},
   "source": [
    "#### Best pruning value for the frequency of occurences of hash values"
   ]
  },
  {
   "cell_type": "code",
   "execution_count": null,
   "metadata": {
    "collapsed": true
   },
   "outputs": [],
   "source": [
    "n_neighbors_sklearn = NearestNeighbors()\n",
    "n_neighbors_sklearn.fit(datasetBursi)\n",
    "neighbors_sklearn = n_neighbors_sklearn.kneighbors(return_distance=False)\n",
    "error_list = []\n",
    "time_fit_list = []\n",
    "time_kneighbors_list = []\n",
    "iterations = 3\n",
    "distribution_inverse_index = []\n",
    "for value in xrange(max(distribution_inverse_index_max[0][0].iterkeys())+1):\n",
    "    time_fit_ = 0\n",
    "    error_ = 0\n",
    "    time_kneighbors_ = 0\n",
    "    distribution_inverse_index_ = []\n",
    "    for i in xrange(iterations):\n",
    "        n_neighbors_minHash_prune = MinHash(number_of_hash_functions=400, prune_inverse_index=value)\n",
    "        time_start = time.time()\n",
    "        n_neighbors_minHash_prune.fit(datasetBursi)\n",
    "        distribution_inverse_index_.append(n_neighbors_minHash_prune.get_distribution_of_inverse_index())\n",
    "        time_end = time.time() - time_start\n",
    "        time_fit_ += time_end\n",
    "        time_start = time.time()\n",
    "        neighbors = n_neighbors_minHash_prune.kneighbors(return_distance=False, fast=False)\n",
    "        time_end = time.time() - time_start\n",
    "        time_kneighbors_ += time_end\n",
    "        accuracy_value = 0\n",
    "        for x, y in zip(neighbors, neighbors_sklearn):\n",
    "            accuracy_value += accuracy_score(x, y)\n",
    "        error_ += 1 - (accuracy_value / len(neighbors))\n",
    "        %xdel neighbors\n",
    "        %xdel n_neighbors_minHash_prune\n",
    "    time_fit_list.append(time_fit_ / iterations)\n",
    "    time_kneighbors_list.append(time_kneighbors_ / iterations)\n",
    "    error_list.append(error_ / iterations)\n",
    "    dict_for_memory = {}\n",
    "    for i in xrange(iterations):\n",
    "        dict_for_memory = dict(Counter(dict_for_memory)+Counter(distribution_inverse_index_[i][0]))\n",
    "    dict_for_memory.update((x, y / iterations) for x, y in dict_for_memory.items())\n",
    "    distribution_inverse_index.append([dict_for_memory])"
   ]
  },
  {
   "cell_type": "code",
   "execution_count": null,
   "metadata": {
    "collapsed": true
   },
   "outputs": [],
   "source": [
    "memory_list = []\n",
    "for dist in distribution_inverse_index:\n",
    "    value = 0\n",
    "    for mem in dist[0]:\n",
    "        value += dist[0][mem]\n",
    "    memory_list.append(value)"
   ]
  },
  {
   "cell_type": "markdown",
   "metadata": {},
   "source": [
    "#### Stored elements in the inverse index"
   ]
  },
  {
   "cell_type": "code",
   "execution_count": null,
   "metadata": {
    "collapsed": true
   },
   "outputs": [],
   "source": [
    "data = np.arange(len(memory_list))\n",
    "plt.figure(figsize=(20, 10))\n",
    "plt.yscale('log')\n",
    "plt.bar(data, memory_list)\n",
    "plt.xticks(data, range(max(distribution_inverse_index_max[0][0].iterkeys())))\n",
    "ymax = max(memory_list)\n",
    "plt.ylim(0, ymax)\n",
    "plt.ylabel(\"number os stored size_t\")\n",
    "plt.xlabel(\"pruned value\")\n",
    "plt.title(\"Stored values by the inverse index\")\n",
    "plt.show()"
   ]
  },
  {
   "cell_type": "markdown",
   "metadata": {},
   "source": [
    "#### Error value, fitting time and query time"
   ]
  },
  {
   "cell_type": "code",
   "execution_count": null,
   "metadata": {
    "collapsed": true
   },
   "outputs": [],
   "source": [
    "createPlot(sorted(distribution[1]), error_list, time_fit_list, time_kneighbors_list, \n",
    "           \"Pruned hash functions with less hash values as n\",\n",
    "           \"Error value\", \"Time for fitting\", \"Time for query\")"
   ]
  },
  {
   "cell_type": "markdown",
   "metadata": {},
   "source": [
    "#### Optimization for alpha and beta with respect to a minimal error value"
   ]
  },
  {
   "cell_type": "code",
   "execution_count": null,
   "metadata": {
    "collapsed": true
   },
   "outputs": [],
   "source": [
    "min_error_value = 1\n",
    "best_alpha = 0\n",
    "best_beta = 0\n",
    "best_score = 0\n",
    "best_pruning_value = 0\n",
    "epsilon = 0.05 # allow a variance of factor epsilon for the error value\n",
    "for alpha_ in np.arange(0.01, 2 ,0.01):\n",
    "    for beta_ in np.arange(0.01, 2, 0.01):\n",
    "        result = compute_score(error_list, memory_list, time_fit_list, max_memory, max_time, alpha=alpha_, beta=beta_)\n",
    "#         print error_list[result[1][0][0]]\n",
    "        if max_error + epsilon > error_list[result[1][0][0]]:\n",
    "            if (min_error_value + epsilon) > error_list[result[1][0][0]]:\n",
    "                best_score = result[0]\n",
    "                best_alpha = alpha_\n",
    "                best_beta = beta_\n",
    "                min_error_value = error_list[result[1][0][0]]\n",
    "                best_pruning_value = result[1][0][0]\n",
    "            \n",
    "print \"alpha: \", best_alpha\n",
    "print \"beta: \", best_beta\n",
    "print \"Error value: \", min_error_value\n",
    "print \"Best pruning value: \", best_pruning_value\n",
    "print \"Score: \", best_score"
   ]
  },
  {
   "cell_type": "markdown",
   "metadata": {},
   "source": [
    "#### Optimization for memory usage and speed"
   ]
  },
  {
   "cell_type": "code",
   "execution_count": null,
   "metadata": {
    "collapsed": true
   },
   "outputs": [],
   "source": [
    "result = compute_score(error_list, memory_list, time_fit_list, max_memory, max_time, alpha=0.13, beta=0.36)\n",
    "# print result\n",
    "plt.plot(range(max(distribution_inverse_index_max[0][0].iterkeys())+1), result[2], 'k-', lw=2)\n",
    "print \"Best value for pruning: \", result[1][0][0], \" with value: \", result[0]"
   ]
  },
  {
   "cell_type": "markdown",
   "metadata": {},
   "source": [
    "### All methods together"
   ]
  },
  {
   "cell_type": "code",
   "execution_count": null,
   "metadata": {
    "collapsed": true
   },
   "outputs": [],
   "source": [
    "n_neighbors_sklearn = NearestNeighbors()\n",
    "n_neighbors_sklearn.fit(datasetBursi)\n",
    "neighbors_sklearn = n_neighbors_sklearn.kneighbors(return_distance=False)\n",
    "error_list = []\n",
    "time_fit_list = []\n",
    "time_kneighbors_list = []\n",
    "iterations = 3\n",
    "distribution_inverse_index = []\n",
    "for value in xrange(max(distribution_inverse_index_max[0][0].iterkeys())+1):\n",
    "    time_fit_ = 0\n",
    "    error_ = 0\n",
    "    time_kneighbors_ = 0\n",
    "    distribution_inverse_index_ = []\n",
    "    for i in xrange(iterations):\n",
    "        n_neighbors_minHash_prune = MinHash(number_of_hash_functions=400, prune_inverse_index=value)\n",
    "        time_start = time.time()\n",
    "        n_neighbors_minHash_prune.fit(datasetBursi)\n",
    "        distribution_inverse_index_.append(n_neighbors_minHash_prune.get_distribution_of_inverse_index())\n",
    "        time_end = time.time() - time_start\n",
    "        time_fit_ += time_end\n",
    "        time_start = time.time()\n",
    "        neighbors = n_neighbors_minHash_prune.kneighbors(return_distance=False, fast=False)\n",
    "        time_end = time.time() - time_start\n",
    "        time_kneighbors_ += time_end\n",
    "        accuracy_value = 0\n",
    "        for x, y in zip(neighbors, neighbors_sklearn):\n",
    "            accuracy_value += accuracy_score(x, y)\n",
    "        error_ += 1 - (accuracy_value / len(neighbors))\n",
    "        %xdel neighbors\n",
    "        %xdel n_neighbors_minHash_prune\n",
    "    time_fit_list.append(time_fit_ / iterations)\n",
    "    time_kneighbors_list.append(time_kneighbors_ / iterations)\n",
    "    error_list.append(error_ / iterations)\n",
    "    dict_for_memory = {}\n",
    "    for i in xrange(iterations):\n",
    "        dict_for_memory = dict(Counter(dict_for_memory)+Counter(distribution_inverse_index_[i][0]))\n",
    "    dict_for_memory.update((x, y / iterations) for x, y in dict_for_memory.items())\n",
    "    distribution_inverse_index.append([dict_for_memory])"
   ]
  },
  {
   "cell_type": "code",
   "execution_count": null,
   "metadata": {
    "collapsed": true
   },
   "outputs": [],
   "source": [
    "memory_list = []\n",
    "for dist in distribution_inverse_index:\n",
    "    value = 0\n",
    "    for mem in dist[0]:\n",
    "        value += dist[0][mem]\n",
    "    memory_list.append(value)"
   ]
  },
  {
   "cell_type": "markdown",
   "metadata": {},
   "source": [
    "#### Stored elements in the inverse index"
   ]
  },
  {
   "cell_type": "code",
   "execution_count": null,
   "metadata": {
    "collapsed": true
   },
   "outputs": [],
   "source": [
    "data = np.arange(len(memory_list))\n",
    "plt.figure(figsize=(20, 10))\n",
    "plt.yscale('log')\n",
    "plt.bar(data, memory_list)\n",
    "plt.xticks(data, range(max(distribution_inverse_index_max[0][0].iterkeys())))\n",
    "ymax = max(memory_list)\n",
    "plt.ylim(0, ymax)\n",
    "plt.ylabel(\"number os stored size_t\")\n",
    "plt.xlabel(\"pruned value\")\n",
    "plt.title(\"Stored values by the inverse index\")\n",
    "plt.show()"
   ]
  },
  {
   "cell_type": "markdown",
   "metadata": {},
   "source": [
    "#### Error value, fitting time and query time"
   ]
  },
  {
   "cell_type": "code",
   "execution_count": null,
   "metadata": {
    "collapsed": true
   },
   "outputs": [],
   "source": [
    "createPlot(sorted(distribution[1]), error_list, time_fit_list, time_kneighbors_list, \n",
    "           \"Pruned hash functions with less hash values as n\",\n",
    "           \"Error value\", \"Time for fitting\", \"Time for query\")"
   ]
  },
  {
   "cell_type": "markdown",
   "metadata": {},
   "source": [
    "#### Optimization for alpha and beta with respect to a minimal error value"
   ]
  },
  {
   "cell_type": "code",
   "execution_count": null,
   "metadata": {
    "collapsed": true
   },
   "outputs": [],
   "source": [
    "min_error_value = 1\n",
    "best_alpha = 0\n",
    "best_beta = 0\n",
    "best_score = 0\n",
    "best_pruning_value = 0\n",
    "epsilon = 0.05 # allow a variance of factor epsilon for the error value\n",
    "for alpha_ in np.arange(0.01, 2 ,0.01):\n",
    "    for beta_ in np.arange(0.01, 2, 0.01):\n",
    "        result = compute_score(error_list, memory_list, time_fit_list, max_memory, max_time, alpha=alpha_, beta=beta_)\n",
    "#         print error_list[result[1][0][0]]\n",
    "        if max_error + epsilon > error_list[result[1][0][0]]:\n",
    "            if (min_error_value + epsilon) > error_list[result[1][0][0]]:\n",
    "                best_score = result[0]\n",
    "                best_alpha = alpha_\n",
    "                best_beta = beta_\n",
    "                min_error_value = error_list[result[1][0][0]]\n",
    "                best_pruning_value = result[1][0][0]\n",
    "            \n",
    "print \"alpha: \", best_alpha\n",
    "print \"beta: \", best_beta\n",
    "print \"Error value: \", min_error_value\n",
    "print \"Best pruning value: \", best_pruning_value\n",
    "print \"Score: \", best_score"
   ]
  },
  {
   "cell_type": "markdown",
   "metadata": {},
   "source": [
    "#### Optimization for memory usage and speed"
   ]
  },
  {
   "cell_type": "code",
   "execution_count": null,
   "metadata": {
    "collapsed": true
   },
   "outputs": [],
   "source": [
    "result = compute_score(error_list, memory_list, time_fit_list, max_memory, max_time, alpha=0.13, beta=0.36)\n",
    "# print result\n",
    "plt.plot(range(max(distribution_inverse_index_max[0][0].iterkeys())+1), result[2], 'k-', lw=2)\n",
    "print \"Best value for pruning: \", result[1][0][0], \" with value: \", result[0]"
   ]
  }
 ],
 "metadata": {
  "kernelspec": {
   "display_name": "Python 2",
   "language": "python",
   "name": "python2"
  },
  "language_info": {
   "codemirror_mode": {
    "name": "ipython",
    "version": 2
   },
   "file_extension": ".py",
   "mimetype": "text/x-python",
   "name": "python",
   "nbconvert_exporter": "python",
   "pygments_lexer": "ipython2",
   "version": "2.7.6"
  }
 },
 "nbformat": 4,
 "nbformat_minor": 0
}
