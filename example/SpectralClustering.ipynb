{
 "cells": [
  {
   "cell_type": "markdown",
   "metadata": {
    "collapsed": true
   },
   "source": [
    "# SpectralClustering and DBSCAN with minHash"
   ]
  },
  {
   "cell_type": "code",
   "execution_count": 1,
   "metadata": {
    "collapsed": false,
    "scrolled": true
   },
   "outputs": [],
   "source": [
    "%matplotlib inline\n",
    "%load_ext memory_profiler\n",
    "import time\n",
    "from memory_profiler import memory_usage\n",
    "\n",
    "\n",
    "from eden.converter.graph.gspan import gspan_to_eden\n",
    "from eden.path import Vectorizer\n",
    "\n",
    "import numpy as np\n",
    "\n",
    "from sklearn.metrics.pairwise import pairwise_distances\n",
    "from sklearn.metrics.cluster import adjusted_rand_score\n",
    "\n",
    "# import everything which is needed for the clustering\n",
    "from sklearn.cluster import DBSCAN\n",
    "from sklearn.cluster import SpectralClustering\n",
    "from neighborsMinHash.clustering import MinHashClustering \n",
    "from neighborsMinHash import MinHash\n",
    "\n",
    "import matplotlib.pyplot as plt"
   ]
  },
  {
   "cell_type": "code",
   "execution_count": 2,
   "metadata": {
    "collapsed": false
   },
   "outputs": [],
   "source": [
    "#code for making artificial dataset\n",
    "import random\n",
    "def random_string(length,alphabet_list):\n",
    "    rand_str = ''.join(random.choice(alphabet_list) for i in range(length))\n",
    "    return rand_str\n",
    "\n",
    "def perturb(seed,alphabet_list,p=0.5):\n",
    "    seq=''\n",
    "    for c in seed:\n",
    "        if random.random() < p: c = random.choice(alphabet_list)\n",
    "        seq += c\n",
    "    return seq\n",
    "\n",
    "def make_artificial_dataset(alphabet='ACGU', motives=None, motif_length=6, \n",
    "                            sequence_length=100, n_sequences=1000, n_motives=2, p=0.2):\n",
    "    alphabet_list=[c for c in alphabet]\n",
    "    \n",
    "    if motives is None:\n",
    "        motives=[]\n",
    "        for i in range(n_motives):\n",
    "            motives.append(random_string(motif_length,alphabet_list))\n",
    "    else:\n",
    "        motif_length = len(motives[0])\n",
    "        n_motives = len(motives)\n",
    "        \n",
    "    flanking_length = (sequence_length - motif_length ) / 2\n",
    "    n_seq_per_motif = n_sequences / n_motives\n",
    "\n",
    "    counter=0\n",
    "    seqs=[]\n",
    "    targets = []\n",
    "    for i in range(n_seq_per_motif):\n",
    "        for j in range(n_motives):\n",
    "            targets.append(j)\n",
    "            left_flanking = random_string(flanking_length,alphabet_list)\n",
    "            right_flanking = random_string(flanking_length,alphabet_list)\n",
    "            noisy_motif = perturb(motives[j],alphabet_list,p)\n",
    "            seq = left_flanking + noisy_motif + right_flanking\n",
    "            seqs.append(('>ID%d'%counter,seq))\n",
    "            counter += 1\n",
    "    return motives, seqs, targets"
   ]
  },
  {
   "cell_type": "code",
   "execution_count": 3,
   "metadata": {
    "collapsed": false
   },
   "outputs": [],
   "source": [
    "#setup parameters\n",
    "alphabet='ACGU'\n",
    "motif_length = 20\n",
    "motives=['A'*motif_length,'C'*motif_length,'G'*motif_length,'U'*motif_length]\n",
    "sequence_length=3 * motif_length\n",
    "n_sequences=5000\n",
    "p=0.3\n",
    "\n",
    "#make dataset\n",
    "motives_2, seqs, targets = make_artificial_dataset(alphabet=alphabet,motives=motives,\n",
    "                                        sequence_length=sequence_length,n_sequences=n_sequences,p=p)"
   ]
  },
  {
   "cell_type": "code",
   "execution_count": 4,
   "metadata": {
    "collapsed": false
   },
   "outputs": [
    {
     "name": "stdout",
     "output_type": "stream",
     "text": [
      "CPU times: user 18 s, sys: 280 ms, total: 18.2 s\n",
      "Wall time: 18.2 s\n"
     ]
    }
   ],
   "source": [
    "%%time\n",
    "vectorizer = Vectorizer(complexity=3, nbits=20)\n",
    "dataset_sparse = vectorizer.transform(seqs)"
   ]
  },
  {
   "cell_type": "code",
   "execution_count": 5,
   "metadata": {
    "collapsed": false
   },
   "outputs": [],
   "source": [
    "pairwise_distances_ = pairwise_distances(X=dataset_sparse, metric='euclidean', n_jobs=4)\n",
    "average_value = np.average(pairwise_distances_)\n",
    "standard_deviation = np.std(pairwise_distances_)\n",
    "eps = average_value + standard_deviation\n",
    "min_ = np.min(pairwise_distances_)\n",
    "max_ = np.max(pairwise_distances_)"
   ]
  },
  {
   "cell_type": "code",
   "execution_count": 6,
   "metadata": {
    "collapsed": false
   },
   "outputs": [
    {
     "name": "stdout",
     "output_type": "stream",
     "text": [
      "0.0\n",
      "1.38707233756\n",
      "1.17547429057\n",
      "0.136764225521\n"
     ]
    }
   ],
   "source": [
    "print min_\n",
    "print max_\n",
    "print average_value\n",
    "print standard_deviation\n",
    "eps = min_ + standard_deviation"
   ]
  },
  {
   "cell_type": "code",
   "execution_count": 7,
   "metadata": {
    "collapsed": false
   },
   "outputs": [
    {
     "data": {
      "text/plain": [
       "(array([  5.00000000e+03,   0.00000000e+00,   0.00000000e+00,\n",
       "          0.00000000e+00,   0.00000000e+00,   0.00000000e+00,\n",
       "          0.00000000e+00,   0.00000000e+00,   0.00000000e+00,\n",
       "          0.00000000e+00,   0.00000000e+00,   0.00000000e+00,\n",
       "          0.00000000e+00,   0.00000000e+00,   0.00000000e+00,\n",
       "          0.00000000e+00,   0.00000000e+00,   0.00000000e+00,\n",
       "          0.00000000e+00,   0.00000000e+00,   0.00000000e+00,\n",
       "          0.00000000e+00,   0.00000000e+00,   0.00000000e+00,\n",
       "          0.00000000e+00,   0.00000000e+00,   0.00000000e+00,\n",
       "          0.00000000e+00,   0.00000000e+00,   0.00000000e+00,\n",
       "          0.00000000e+00,   0.00000000e+00,   0.00000000e+00,\n",
       "          0.00000000e+00,   0.00000000e+00,   0.00000000e+00,\n",
       "          0.00000000e+00,   0.00000000e+00,   0.00000000e+00,\n",
       "          0.00000000e+00,   0.00000000e+00,   0.00000000e+00,\n",
       "          0.00000000e+00,   0.00000000e+00,   0.00000000e+00,\n",
       "          0.00000000e+00,   0.00000000e+00,   0.00000000e+00,\n",
       "          0.00000000e+00,   0.00000000e+00,   0.00000000e+00,\n",
       "          0.00000000e+00,   0.00000000e+00,   0.00000000e+00,\n",
       "          0.00000000e+00,   0.00000000e+00,   0.00000000e+00,\n",
       "          0.00000000e+00,   0.00000000e+00,   0.00000000e+00,\n",
       "          0.00000000e+00,   0.00000000e+00,   0.00000000e+00,\n",
       "          0.00000000e+00,   0.00000000e+00,   0.00000000e+00,\n",
       "          0.00000000e+00,   0.00000000e+00,   0.00000000e+00,\n",
       "          2.00000000e+00,   2.00000000e+00,   0.00000000e+00,\n",
       "          4.00000000e+00,   4.00000000e+00,   8.00000000e+00,\n",
       "          1.80000000e+01,   2.00000000e+01,   2.60000000e+01,\n",
       "          2.20000000e+01,   4.40000000e+01,   5.00000000e+01,\n",
       "          7.20000000e+01,   6.60000000e+01,   8.60000000e+01,\n",
       "          1.00000000e+02,   1.08000000e+02,   1.20000000e+02,\n",
       "          1.74000000e+02,   1.82000000e+02,   2.06000000e+02,\n",
       "          2.10000000e+02,   2.54000000e+02,   2.86000000e+02,\n",
       "          3.84000000e+02,   4.12000000e+02,   4.58000000e+02,\n",
       "          5.68000000e+02,   6.22000000e+02,   7.32000000e+02,\n",
       "          7.72000000e+02,   9.70000000e+02,   1.06600000e+03,\n",
       "          1.29400000e+03,   1.38600000e+03,   1.48600000e+03,\n",
       "          1.66800000e+03,   1.90000000e+03,   1.94400000e+03,\n",
       "          2.19000000e+03,   2.39800000e+03,   2.70400000e+03,\n",
       "          3.07200000e+03,   3.39600000e+03,   3.64600000e+03,\n",
       "          3.94600000e+03,   4.37400000e+03,   4.55600000e+03,\n",
       "          4.69800000e+03,   5.22800000e+03,   5.60000000e+03,\n",
       "          6.23200000e+03,   6.49200000e+03,   6.95400000e+03,\n",
       "          7.75800000e+03,   8.17600000e+03,   8.66400000e+03,\n",
       "          9.31000000e+03,   9.87600000e+03,   1.08100000e+04,\n",
       "          1.15860000e+04,   1.22740000e+04,   1.30700000e+04,\n",
       "          1.35980000e+04,   1.46320000e+04,   1.55320000e+04,\n",
       "          1.68540000e+04,   1.76460000e+04,   1.84720000e+04,\n",
       "          1.99580000e+04,   2.07600000e+04,   2.21020000e+04,\n",
       "          2.35720000e+04,   2.46060000e+04,   2.62700000e+04,\n",
       "          2.69160000e+04,   2.87740000e+04,   2.97700000e+04,\n",
       "          3.08940000e+04,   3.29960000e+04,   3.40820000e+04,\n",
       "          3.54180000e+04,   3.75480000e+04,   3.99600000e+04,\n",
       "          4.09140000e+04,   4.31940000e+04,   4.52300000e+04,\n",
       "          4.66340000e+04,   4.87920000e+04,   5.10260000e+04,\n",
       "          5.33500000e+04,   5.55400000e+04,   5.84500000e+04,\n",
       "          6.11560000e+04,   6.33100000e+04,   6.66600000e+04,\n",
       "          7.00740000e+04,   7.29820000e+04,   7.52740000e+04,\n",
       "          7.98160000e+04,   8.33500000e+04,   8.66580000e+04,\n",
       "          9.12060000e+04,   9.58980000e+04,   9.92400000e+04,\n",
       "          1.02240000e+05,   1.05460000e+05,   1.10270000e+05,\n",
       "          1.12868000e+05,   1.16840000e+05,   1.19706000e+05,\n",
       "          1.23230000e+05,   1.26062000e+05,   1.29912000e+05,\n",
       "          1.31660000e+05,   1.34394000e+05,   1.36694000e+05,\n",
       "          1.38848000e+05,   1.38814000e+05,   1.40150000e+05,\n",
       "          1.41058000e+05,   1.40550000e+05,   1.40346000e+05,\n",
       "          1.39206000e+05,   1.37892000e+05,   1.35518000e+05,\n",
       "          1.33294000e+05,   1.30482000e+05,   1.27394000e+05,\n",
       "          1.22808000e+05,   1.17818000e+05,   1.14296000e+05,\n",
       "          1.09808000e+05,   1.04330000e+05,   1.01354000e+05,\n",
       "          9.88140000e+04,   9.61400000e+04,   9.63480000e+04,\n",
       "          9.69420000e+04,   1.02394000e+05,   1.08906000e+05,\n",
       "          1.17870000e+05,   1.31702000e+05,   1.48396000e+05,\n",
       "          1.68358000e+05,   1.93824000e+05,   2.20634000e+05,\n",
       "          2.55504000e+05,   2.91804000e+05,   3.33304000e+05,\n",
       "          3.80598000e+05,   4.27772000e+05,   4.83674000e+05,\n",
       "          5.38718000e+05,   5.93470000e+05,   6.53728000e+05,\n",
       "          7.05252000e+05,   7.58328000e+05,   8.06814000e+05,\n",
       "          8.49610000e+05,   8.81954000e+05,   9.03386000e+05,\n",
       "          9.15818000e+05,   9.11078000e+05,   8.94568000e+05,\n",
       "          8.61546000e+05,   8.16286000e+05,   7.55038000e+05,\n",
       "          6.88212000e+05,   6.09222000e+05,   5.24930000e+05,\n",
       "          4.39574000e+05,   3.56208000e+05,   2.80512000e+05,\n",
       "          2.11956000e+05,   1.54650000e+05,   1.06624000e+05,\n",
       "          7.11860000e+04,   4.37240000e+04,   2.56160000e+04,\n",
       "          1.42720000e+04,   7.17800000e+03,   3.29800000e+03,\n",
       "          1.47200000e+03,   4.44000000e+02,   1.58000000e+02,\n",
       "          3.40000000e+01]),\n",
       " array([ 0.        ,  0.00541825,  0.0108365 ,  0.01625475,  0.02167301,\n",
       "         0.02709126,  0.03250951,  0.03792776,  0.04334601,  0.04876426,\n",
       "         0.05418251,  0.05960076,  0.06501902,  0.07043727,  0.07585552,\n",
       "         0.08127377,  0.08669202,  0.09211027,  0.09752852,  0.10294678,\n",
       "         0.10836503,  0.11378328,  0.11920153,  0.12461978,  0.13003803,\n",
       "         0.13545628,  0.14087453,  0.14629279,  0.15171104,  0.15712929,\n",
       "         0.16254754,  0.16796579,  0.17338404,  0.17880229,  0.18422054,\n",
       "         0.1896388 ,  0.19505705,  0.2004753 ,  0.20589355,  0.2113118 ,\n",
       "         0.21673005,  0.2221483 ,  0.22756656,  0.23298481,  0.23840306,\n",
       "         0.24382131,  0.24923956,  0.25465781,  0.26007606,  0.26549431,\n",
       "         0.27091257,  0.27633082,  0.28174907,  0.28716732,  0.29258557,\n",
       "         0.29800382,  0.30342207,  0.30884033,  0.31425858,  0.31967683,\n",
       "         0.32509508,  0.33051333,  0.33593158,  0.34134983,  0.34676808,\n",
       "         0.35218634,  0.35760459,  0.36302284,  0.36844109,  0.37385934,\n",
       "         0.37927759,  0.38469584,  0.39011409,  0.39553235,  0.4009506 ,\n",
       "         0.40636885,  0.4117871 ,  0.41720535,  0.4226236 ,  0.42804185,\n",
       "         0.43346011,  0.43887836,  0.44429661,  0.44971486,  0.45513311,\n",
       "         0.46055136,  0.46596961,  0.47138786,  0.47680612,  0.48222437,\n",
       "         0.48764262,  0.49306087,  0.49847912,  0.50389737,  0.50931562,\n",
       "         0.51473388,  0.52015213,  0.52557038,  0.53098863,  0.53640688,\n",
       "         0.54182513,  0.54724338,  0.55266163,  0.55807989,  0.56349814,\n",
       "         0.56891639,  0.57433464,  0.57975289,  0.58517114,  0.59058939,\n",
       "         0.59600765,  0.6014259 ,  0.60684415,  0.6122624 ,  0.61768065,\n",
       "         0.6230989 ,  0.62851715,  0.6339354 ,  0.63935366,  0.64477191,\n",
       "         0.65019016,  0.65560841,  0.66102666,  0.66644491,  0.67186316,\n",
       "         0.67728141,  0.68269967,  0.68811792,  0.69353617,  0.69895442,\n",
       "         0.70437267,  0.70979092,  0.71520917,  0.72062743,  0.72604568,\n",
       "         0.73146393,  0.73688218,  0.74230043,  0.74771868,  0.75313693,\n",
       "         0.75855518,  0.76397344,  0.76939169,  0.77480994,  0.78022819,\n",
       "         0.78564644,  0.79106469,  0.79648294,  0.8019012 ,  0.80731945,\n",
       "         0.8127377 ,  0.81815595,  0.8235742 ,  0.82899245,  0.8344107 ,\n",
       "         0.83982895,  0.84524721,  0.85066546,  0.85608371,  0.86150196,\n",
       "         0.86692021,  0.87233846,  0.87775671,  0.88317496,  0.88859322,\n",
       "         0.89401147,  0.89942972,  0.90484797,  0.91026622,  0.91568447,\n",
       "         0.92110272,  0.92652098,  0.93193923,  0.93735748,  0.94277573,\n",
       "         0.94819398,  0.95361223,  0.95903048,  0.96444873,  0.96986699,\n",
       "         0.97528524,  0.98070349,  0.98612174,  0.99153999,  0.99695824,\n",
       "         1.00237649,  1.00779475,  1.013213  ,  1.01863125,  1.0240495 ,\n",
       "         1.02946775,  1.034886  ,  1.04030425,  1.0457225 ,  1.05114076,\n",
       "         1.05655901,  1.06197726,  1.06739551,  1.07281376,  1.07823201,\n",
       "         1.08365026,  1.08906852,  1.09448677,  1.09990502,  1.10532327,\n",
       "         1.11074152,  1.11615977,  1.12157802,  1.12699627,  1.13241453,\n",
       "         1.13783278,  1.14325103,  1.14866928,  1.15408753,  1.15950578,\n",
       "         1.16492403,  1.17034228,  1.17576054,  1.18117879,  1.18659704,\n",
       "         1.19201529,  1.19743354,  1.20285179,  1.20827004,  1.2136883 ,\n",
       "         1.21910655,  1.2245248 ,  1.22994305,  1.2353613 ,  1.24077955,\n",
       "         1.2461978 ,  1.25161605,  1.25703431,  1.26245256,  1.26787081,\n",
       "         1.27328906,  1.27870731,  1.28412556,  1.28954381,  1.29496207,\n",
       "         1.30038032,  1.30579857,  1.31121682,  1.31663507,  1.32205332,\n",
       "         1.32747157,  1.33288982,  1.33830808,  1.34372633,  1.34914458,\n",
       "         1.35456283,  1.35998108,  1.36539933,  1.37081758,  1.37623583,\n",
       "         1.38165409,  1.38707234]),\n",
       " <a list of 256 Patch objects>)"
      ]
     },
     "execution_count": 7,
     "metadata": {},
     "output_type": "execute_result"
    },
    {
     "data": {
      "image/png": "[encoded data removed]",
      "text/plain": [
       "<matplotlib.figure.Figure at 0x7f7c74ed2c90>"
      ]
     },
     "metadata": {},
     "output_type": "display_data"
    }
   ],
   "source": [
    "plt.hist(pairwise_distances_.ravel(), bins=256, range=(min_, max_), fc='k', ec='k')"
   ]
  },
  {
   "cell_type": "code",
   "execution_count": 8,
   "metadata": {
    "collapsed": false,
    "scrolled": false
   },
   "outputs": [],
   "source": [
    "eps_factor = 1\n",
    "eps = 1.3\n",
    "clustering_names = [\n",
    "    'SpectralClustering', 'MinHashSpectralClustering', 'DBSCAN', 'MinHashDBSCAN']\n",
    "\n",
    "# original algorithms\n",
    "spectral = SpectralClustering(n_clusters=4, eigen_solver='arpack',\n",
    "                                      affinity=\"nearest_neighbors\", n_neighbors=5)\n",
    "dbscan = DBSCAN(eps=eps*eps_factor, metric=\"euclidean\")\n",
    "\n",
    "# objects used for algorithms with precomputed minHash\n",
    "minHash0 = MinHash(n_neighbors=5, similarity=False)\n",
    "minHash1 = MinHash(n_neighbors=5, similarity=True)\n",
    "\n",
    "spectral_precomputed = SpectralClustering(n_clusters=4, eigen_solver='arpack',\n",
    "                                      affinity=\"precomputed\", n_neighbors=5)\n",
    "\n",
    "dbscan_precomputed = DBSCAN(eps=eps*eps_factor, metric='precomputed')\n",
    "\n",
    "\n",
    "minHashClusteringSpectralClustering = MinHashClustering(minHash0, spectral_precomputed)\n",
    "minHashClusteringDBSCAN = MinHashClustering(minHash1, dbscan_precomputed)\n",
    "\n",
    "clustering_algorithms=[spectral, minHashClusteringSpectralClustering, dbscan, minHashClusteringDBSCAN]"
   ]
  },
  {
   "cell_type": "code",
   "execution_count": 9,
   "metadata": {
    "collapsed": false
   },
   "outputs": [
    {
     "name": "stdout",
     "output_type": "stream",
     "text": [
      "\n",
      "\n",
      "peak memory: 1167.17 MiB, increment: 563.87 MiB\n",
      "CPU times: user 17.5 s, sys: 196 ms, total: 17.7 s\n",
      "Wall time: 17.8 s\n",
      "SpectralClustering :\tARS:  0.33\n",
      "\n",
      "\n",
      "peak memory: 996.78 MiB, increment: 392.28 MiB\n",
      "CPU times: user 1min 16s, sys: 304 ms, total: 1min 16s\n",
      "Wall time: 55.4 s\n",
      "MinHashSpectralClustering :\tARS:  0.01\n",
      "\n",
      "\n",
      "peak memory: 1467.88 MiB, increment: 638.59 MiB\n",
      "CPU times: user 14.9 s, sys: 204 ms, total: 15.1 s\n",
      "Wall time: 15.2 s\n",
      "DBSCAN :\tARS:  0.0\n",
      "\n",
      "\n",
      "peak memory: 915.56 MiB, increment: 85.77 MiB\n",
      "CPU times: user 29.4 s, sys: 332 ms, total: 29.7 s\n",
      "Wall time: 8.84 s\n",
      "MinHashDBSCAN :\tARS:  0.0\n",
      "CPU times: user 2min 17s, sys: 1.04 s, total: 2min 18s\n",
      "Wall time: 1min 37s\n"
     ]
    }
   ],
   "source": [
    "%%time\n",
    "X = dataset_sparse\n",
    "for name, algorithm in zip(clustering_names, clustering_algorithms):\n",
    "    print \"\\n\"\n",
    "    %time %memit y_pred = algorithm.fit_predict(X)\n",
    "    y_pred = y_pred.astype(np.int)\n",
    "    print name, \":\\tARS: \", float(\"{0:.2f}\".format(adjusted_rand_score(targets, y_pred)))"
   ]
  },
  {
   "cell_type": "code",
   "execution_count": 13,
   "metadata": {
    "collapsed": false
   },
   "outputs": [
    {
     "name": "stdout",
     "output_type": "stream",
     "text": [
      "0\n",
      "1\n",
      "2\n",
      "3\n",
      "4\n",
      "5\n",
      "6\n",
      "7\n",
      "8\n",
      "9\n",
      "Maximal ARS:  0.236755475576  for eps:  0.830826732906\n",
      "CPU times: user 2min 20s, sys: 920 ms, total: 2min 20s\n",
      "Wall time: 2min 20s\n"
     ]
    }
   ],
   "source": [
    "%%time\n",
    "X = dataset_sparse\n",
    "step = max / float(10)\n",
    "eps = min + step\n",
    "max_ars = 0\n",
    "eps_max = 0\n",
    "for i in xrange(10):\n",
    "#     print \"\\neps: \", eps\n",
    "#     minHash1 = MinHash(n_neighbors=5, similarity=True)\n",
    "#     dbscan_precomputed = DBSCAN(eps=eps, metric='precomputed')\n",
    "#     minHashClusteringDBSCAN = MinHashClustering(minHash1, dbscan_precomputed)\n",
    "    dbscan = DBSCAN(eps=eps, metric=\"euclidean\")\n",
    "    y_pred = dbscan.fit_predict(X)\n",
    "    y_pred = y_pred.astype(np.int)\n",
    "#     print name, \":\\tARS: \", float(\"{0:.2f}\".format(adjusted_rand_score(targets, y_pred)))\n",
    "    ars = adjusted_rand_score(targets, y_pred)\n",
    "    if (ars > max_ars):\n",
    "        max_ars = ars\n",
    "        eps_max = eps\n",
    "    eps += step\n",
    "    print i\n",
    "print \"Maximal ARS: \", max_ars, \" for eps: \", eps_max"
   ]
  },
  {
   "cell_type": "markdown",
   "metadata": {
    "collapsed": true
   },
   "source": [
    "---"
   ]
  }
 ],
 "metadata": {
  "kernelspec": {
   "display_name": "Python 2",
   "language": "python",
   "name": "python2"
  },
  "language_info": {
   "codemirror_mode": {
    "name": "ipython",
    "version": 2
   },
   "file_extension": ".py",
   "mimetype": "text/x-python",
   "name": "python",
   "nbconvert_exporter": "python",
   "pygments_lexer": "ipython2",
   "version": "2.7.6"
  }
 },
 "nbformat": 4,
 "nbformat_minor": 0
}
