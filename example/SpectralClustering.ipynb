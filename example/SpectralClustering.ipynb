{
 "cells": [
  {
   "cell_type": "markdown",
   "metadata": {
    "collapsed": true
   },
   "source": [
    "# SpectralClustering and DBSCAN with minHash"
   ]
  },
  {
   "cell_type": "code",
   "execution_count": 80,
   "metadata": {
    "collapsed": false,
    "scrolled": true
   },
   "outputs": [
    {
     "name": "stdout",
     "output_type": "stream",
     "text": [
      "[[-1.34831809  1.2516397  -0.05259496 ...,  0.29353471 -0.50648978\n",
      "  -1.51936458]\n",
      " [-1.64043561 -2.06974177  2.28306064 ..., -0.08949769  0.31851596\n",
      "   0.19447141]\n",
      " [ 0.9258695   1.02981673  0.15674275 ..., -0.05183957 -0.30417372\n",
      "  -0.80135467]\n",
      " ..., \n",
      " [ 1.58906495  0.09964962 -0.52485075 ..., -1.05337874  0.70106004\n",
      "   1.04552039]\n",
      " [-1.94478665 -1.51207025 -1.96563778 ...,  0.92153509 -2.50381084\n",
      "   0.27253074]\n",
      " [-0.72420961 -2.5198995   3.01211113 ...,  1.23337709 -1.15124837\n",
      "   0.9060618 ]]\n",
      "[91 91 91 91 91 91 91 91 91 91 91 91 91 91 91 91 91 91 91 91 91 91 91 91 91\n",
      " 91 91 91 91 91 91 91 91 91 91 91 91 91 91 91 91 91 91 91 91 91 91 91 91 91\n",
      " 91 91 91 91 91 91 91 91 91 91 91 91 91 91 91 91 91 91 91 91 91 91 91 91 91\n",
      " 91 91 91 91 91 91 91 91 91 91 91 91 91 91 91 91 91 91 91 91 91 91 91 91 91\n",
      " 91 91 91 91 91 91 91 91 91 91 91 91 91 91 91 91 91 91 91 91 91 91 91 91 91\n",
      " 91 91 91 91 91 91 91 91 91 91 91 91 91 91 91 91 91 91 91 91 91 91 91 91 91\n",
      " 91 91 91 91 91 91 91 91 91 91 91 91 91 91 91 91 91 91 91 91 91 91 91 91 91\n",
      " 91 91 91 91 91 91 91 91 91 91 91 91 91 91 91 91 91 91 91 91 91 91 91 91 91\n",
      " 91 91 91 91 91 91 91 91 91 91 91 91 91 91 91 91 91 91 91 91 91 91 91 91 91\n",
      " 91 91 91 91 91 91 91 91 91 91 91 91 91 91 91 91 91 91 91 91 91 91 91 91 91\n",
      " 91 91 91 91 91 91 91 91 91 91 91 91 91 91 91 91 91 91 91 91 91 91 91 91 91\n",
      " 91 91 91 91 91 91 91 91 91 91 91 91 91 91 91 91 91 91 91 91 91 91 91 91 91\n",
      " 91 91 91 91 91 91 91 91 91 91 91 91 91 91 91 91 91 91 91 91 91 91 91 91 91\n",
      " 91 91 91 91 91 91 91 91 91 91 91 91 91 91 91 91 91 91 91 91 91 91 91 91 91\n",
      " 91 91 91 91 91 91 91 91 91 91 91 91 91 91 91 91 91 91 91 91 91 91 91 91 91\n",
      " 91 91 91 91 91 91 91 91 91 91 91 91 91 91 91 91 91 91 91 91 91 91 91 91 91\n",
      " 91 91 91 91 91 91 91 91 91 91 91 91 91 91 91 91 91 91 91 91 91 91 91 91 91\n",
      " 91 91 91 91 91 91 91 91 91 91 91 91 91 91 91 91 91 91 91 91 91 91 91 91 91\n",
      " 91 91 91 91 91 91 91 91 91 91 91 91 91 91 91 91 91 91 91 91 91 91 91 91 91\n",
      " 91 91 91 91 91 91 91 91 91 91 91 91 91 91 91 91 91 91 91 91 91 91 91 91 91\n",
      " 91 91 91 91 91 91 91 91 91 91 91 91 91 91 91 91 91 91 91 91 91 91 91 91 91\n",
      " 91 91 91 91 91 91 91 91 91 91 91 91 91 91 91 91 91 91 91 91 91 91 91 91 91\n",
      " 91 91 91 91 91 91 91 91 91 91 91 91 91 91 91 91 91 91 91 91 91 91 91 91 91\n",
      " 91 91 91 91 91 91 91 91 91 91 91 91 91 91 91 91 91 91 91 91 91 91 91 91 91]\n"
     ]
    }
   ],
   "source": [
    "from sklearn.metrics.cluster import adjusted_rand_score\n",
    "from sklearn.datasets import make_classification\n",
    "from sklearn.cluster import DBSCAN\n",
    "from scipy.sparse import csr_matrix\n",
    "from scipy import stats\n",
    "import hashlib\n",
    "from random import randint\n",
    "import numpy as np\n",
    "\n",
    "\n",
    "sparsity_factor = 0.01\n",
    "samples = 600\n",
    "features = 100\n",
    "classes = 2\n",
    "clusters_per_class = 2\n",
    "scale_ = 1.0\n",
    "threshold = -0.2\n",
    "data_dense, y_true = make_classification(n_samples=samples, n_features=features, n_informative=2, \n",
    "                                 n_redundant=0, n_repeated=0, n_classes=classes, \n",
    "                                 n_clusters_per_class=clusters_per_class, weights=None, flip_y=0.01,\n",
    "                                 class_sep=1.0, hypercube=True, shift=0.0, scale=scale_,\n",
    "                                 shuffle=True, random_state=1)\n",
    "print data_dense\n",
    "instances_list = []\n",
    "features_list = []\n",
    "data_list = []\n",
    "for i in xrange(len(data_dense)):\n",
    "    average_value_of_list = np.average(data_dense[i])\n",
    "    variance = np.var(data_dense[i]) * 20\n",
    "#     print \"Average: \", average_value_of_list\n",
    "#     print \"var: \", variance\n",
    "    if average_value_of_list < 0:\n",
    "        data_with_threshold = stats.threshold(data_dense[i], threshmin=average_value_of_list-variance, threshmax=average_value_of_list+variance, newval=0.0)\n",
    "    else:\n",
    "        data_with_threshold = stats.threshold(data_dense[i], threshmin=average_value_of_list-variance, threshmax=average_value_of_list+variance, newval=0.0)\n",
    "\n",
    "    #     data_with_threshold\n",
    "    for j in xrange(len(data_dense[i])):\n",
    "        instances_list.append(i)\n",
    "#         features_list.append(j)\n",
    "        hash_object = hashlib.sha256(str(j))\n",
    "        hex_dig = hash_object.hexdigest()\n",
    "        features_list.append(int(hex_dig, 16) % (features/sparsity_factor))\n",
    "#         features_list.append(hash(str(j)) % (features/sparsity_factor))\n",
    "        data_list.append(data_with_threshold[j])\n",
    "#         data_list.append(data_dense[i][j])\n",
    "#     print \"\\n\"\n",
    "data_sparse = csr_matrix((data_list, (instances_list, features_list)))\n",
    "data_sparse.eliminate_zeros()\n",
    "# print data_sparse\n",
    "print data_sparse.getnnz(1)\n",
    "# print data_with_threshold"
   ]
  },
  {
   "cell_type": "code",
   "execution_count": 81,
   "metadata": {
    "collapsed": false
   },
   "outputs": [
    {
     "name": "stdout",
     "output_type": "stream",
     "text": [
      "CPU times: user 124 ms, sys: 0 ns, total: 124 ms\n",
      "Wall time: 126 ms\n",
      "CPU times: user 52 ms, sys: 88 ms, total: 140 ms\n",
      "Wall time: 242 ms\n",
      "Accuracy_approx:  0.203666666667\n"
     ]
    }
   ],
   "source": [
    "from sklearn.neighbors import NearestNeighbors\n",
    "from sklearn.metrics import accuracy_score\n",
    "from pympler import asizeof\n",
    "neighbors = NearestNeighbors(n_jobs=4)\n",
    "neighbors.fit(data_dense)\n",
    "%time neighbors_dense = neighbors.kneighbors(n_neighbors=5, return_distance=False)\n",
    "\n",
    "neighbors_sparse = NearestNeighbors(n_jobs=4)\n",
    "neighbors_sparse.fit(data_sparse)\n",
    "%time neighbors_sparse = neighbors_sparse.kneighbors(n_neighbors=5, return_distance=False)\n",
    "\n",
    "accuracy_score_ = 0.0\n",
    "for x, y in zip(neighbors_dense, neighbors_sparse):\n",
    "    accuracy_score_ += accuracy_score(x, y)\n",
    "print \"Accuracy_approx: \", accuracy_score_ / float(len(neighbors_dense))\n",
    "# print neighbors_dense\n",
    "# print neighbors_sparse"
   ]
  },
  {
   "cell_type": "code",
   "execution_count": null,
   "metadata": {
    "collapsed": false,
    "scrolled": false
   },
   "outputs": [
    {
     "name": "stdout",
     "output_type": "stream",
     "text": [
      "The memory_profiler extension is already loaded. To reload it, use:\n",
      "  %reload_ext memory_profiler\n",
      "Automatically created module for IPython interactive environment\n",
      "\n",
      "\n",
      "peak memory: 648.00 MiB, increment: 0.00 MiB\n",
      "CPU times: user 396 ms, sys: 44 ms, total: 440 ms\n",
      "Wall time: 571 ms\n",
      "SpectralClustering :\tAccuracy:  0.0\n",
      "\n",
      "\n"
     ]
    }
   ],
   "source": [
    "%matplotlib inline\n",
    "%load_ext memory_profiler\n",
    "print(__doc__)\n",
    "\n",
    "import time\n",
    "\n",
    "import numpy as np\n",
    "# import matplotlib.pyplot as plt\n",
    "\n",
    "from sklearn.metrics import accuracy_score\n",
    "\n",
    "from sklearn import cluster, datasets\n",
    "from sklearn.neighbors import kneighbors_graph\n",
    "# from sklearn.preprocessing import StandardScaler\n",
    "# from sklearn.random_projection import SparseRandomProjection\n",
    "\n",
    "from neighborsMinHash.clustering import MinHashClustering \n",
    "# from neighborsMinHash.clustering import MinHashDBSCAN\n",
    "from neighborsMinHash import MinHash\n",
    "from memory_profiler import memory_usage\n",
    "\n",
    "\n",
    "clustering_names = [\n",
    "    'SpectralClustering', 'MinHashSpectralClustering', 'DBSCAN', 'MinHashDBSCAN']\n",
    "\n",
    "# original algorithms\n",
    "spectral = cluster.SpectralClustering(n_clusters=2, eigen_solver='arpack',\n",
    "                                      affinity=\"nearest_neighbors\", n_neighbors=5)\n",
    "dbscan = cluster.DBSCAN(eps=.2, metric=\"euclidean\")\n",
    "\n",
    "# objects used for algorithms with precomputed minHash\n",
    "minHash0 = MinHash(n_neighbors=5)\n",
    "minHash1 = MinHash(n_neighbors=5)\n",
    "\n",
    "spectralMinHash = cluster.SpectralClustering(n_clusters=2, eigen_solver='arpack',\n",
    "                                      affinity=\"precomputed\", n_neighbors=5)\n",
    "\n",
    "dbscanMinHash = cluster.DBSCAN(eps=.2, metric='precomputed')\n",
    "\n",
    "\n",
    "minHashClusteringSpectralClustering = MinHashClustering(minHash0, spectralMinHash)\n",
    "minHashClusteringDBSCAN = MinHashClustering(minHash1, dbscanMinHash)\n",
    "\n",
    "clustering_algorithms=[spectral, minHashClusteringSpectralClustering, dbscan, minHashClusteringDBSCAN]\n",
    "    \n",
    "X = data_sparse\n",
    "# print \"Size of dense data: \", asizeof.asizeof(data_dense)\n",
    "# print \"Size of sparse data\", asizeof.asizeof(data_sparse)\n",
    "for name, algorithm in zip(clustering_names, clustering_algorithms):\n",
    "    print \"\\n\"\n",
    "    t0 = time.time()\n",
    "    %time %memit y_pred = algorithm.fit_predict(X)\n",
    "    t1 = time.time()\n",
    "    \n",
    "    y_pred = y_pred.astype(np.int)\n",
    "    print name, \":\\tAccuracy: \", float(\"{0:.2f}\".format(adjusted_rand_score(y_true, y_pred)))"
   ]
  },
  {
   "cell_type": "code",
   "execution_count": null,
   "metadata": {
    "collapsed": true
   },
   "outputs": [],
   "source": []
  }
 ],
 "metadata": {
  "kernelspec": {
   "display_name": "Python 2",
   "language": "python",
   "name": "python2"
  },
  "language_info": {
   "codemirror_mode": {
    "name": "ipython",
    "version": 2
   },
   "file_extension": ".py",
   "mimetype": "text/x-python",
   "name": "python",
   "nbconvert_exporter": "python",
   "pygments_lexer": "ipython2",
   "version": "2.7.6"
  }
 },
 "nbformat": 4,
 "nbformat_minor": 0
}
