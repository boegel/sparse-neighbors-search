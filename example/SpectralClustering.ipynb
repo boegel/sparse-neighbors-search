{
 "cells": [
  {
   "cell_type": "markdown",
   "metadata": {
    "collapsed": true
   },
   "source": [
    "# SpectralClustering and DBSCAN with minHash"
   ]
  },
  {
   "cell_type": "code",
   "execution_count": 1,
   "metadata": {
    "collapsed": false,
    "scrolled": true
   },
   "outputs": [],
   "source": [
    "%matplotlib inline\n",
    "%load_ext memory_profiler\n",
    "import time\n",
    "from memory_profiler import memory_usage\n",
    "\n",
    "\n",
    "from eden.converter.graph.gspan import gspan_to_eden\n",
    "from eden.path import Vectorizer\n",
    "\n",
    "import numpy as np\n",
    "\n",
    "from sklearn.metrics.pairwise import pairwise_distances\n",
    "from sklearn.metrics.cluster import adjusted_rand_score\n",
    "\n",
    "# import everything which is needed for the clustering\n",
    "from sklearn.cluster import DBSCAN\n",
    "from sklearn.cluster import SpectralClustering\n",
    "from neighborsMinHash.clustering import MinHashClustering \n",
    "from neighborsMinHash import MinHash\n",
    "\n",
    "import matplotlib.pyplot as plt"
   ]
  },
  {
   "cell_type": "code",
   "execution_count": 2,
   "metadata": {
    "collapsed": false
   },
   "outputs": [],
   "source": [
    "#code for making artificial dataset\n",
    "import random\n",
    "def random_string(length,alphabet_list):\n",
    "    rand_str = ''.join(random.choice(alphabet_list) for i in range(length))\n",
    "    return rand_str\n",
    "\n",
    "def perturb(seed,alphabet_list,p=0.5):\n",
    "    seq=''\n",
    "    for c in seed:\n",
    "        if random.random() < p: c = random.choice(alphabet_list)\n",
    "        seq += c\n",
    "    return seq\n",
    "\n",
    "def make_artificial_dataset(alphabet='ACGU', motives=None, motif_length=6, \n",
    "                            sequence_length=100, n_sequences=1000, n_motives=2, p=0.2):\n",
    "    alphabet_list=[c for c in alphabet]\n",
    "    \n",
    "    if motives is None:\n",
    "        motives=[]\n",
    "        for i in range(n_motives):\n",
    "            motives.append(random_string(motif_length,alphabet_list))\n",
    "    else:\n",
    "        motif_length = len(motives[0])\n",
    "        n_motives = len(motives)\n",
    "        \n",
    "    flanking_length = (sequence_length - motif_length ) / 2\n",
    "    n_seq_per_motif = n_sequences / n_motives\n",
    "\n",
    "    counter=0\n",
    "    seqs=[]\n",
    "    targets = []\n",
    "    for i in range(n_seq_per_motif):\n",
    "        for j in range(n_motives):\n",
    "            targets.append(j)\n",
    "            left_flanking = random_string(flanking_length,alphabet_list)\n",
    "            right_flanking = random_string(flanking_length,alphabet_list)\n",
    "            noisy_motif = perturb(motives[j],alphabet_list,p)\n",
    "            seq = left_flanking + noisy_motif + right_flanking\n",
    "            seqs.append(('>ID%d'%counter,seq))\n",
    "            counter += 1\n",
    "    return motives, seqs, targets"
   ]
  },
  {
   "cell_type": "code",
   "execution_count": 3,
   "metadata": {
    "collapsed": false
   },
   "outputs": [],
   "source": [
    "#setup parameters\n",
    "alphabet='ACGU'\n",
    "motif_length = 20\n",
    "motives=['A'*motif_length,'C'*motif_length,'G'*motif_length,'U'*motif_length]\n",
    "sequence_length=3 * motif_length\n",
    "n_sequences=5000\n",
    "p=0.3\n",
    "\n",
    "#make dataset\n",
    "motives_2, seqs, targets = make_artificial_dataset(alphabet=alphabet,motives=motives,\n",
    "                                        sequence_length=sequence_length,n_sequences=n_sequences,p=p)"
   ]
  },
  {
   "cell_type": "code",
   "execution_count": 4,
   "metadata": {
    "collapsed": false
   },
   "outputs": [
    {
     "name": "stdout",
     "output_type": "stream",
     "text": [
      "CPU times: user 18.4 s, sys: 364 ms, total: 18.7 s\n",
      "Wall time: 18.5 s\n"
     ]
    }
   ],
   "source": [
    "%%time\n",
    "vectorizer = Vectorizer(complexity=3, nbits=20)\n",
    "dataset_sparse = vectorizer.transform(seqs)"
   ]
  },
  {
   "cell_type": "code",
   "execution_count": 8,
   "metadata": {
    "collapsed": false
   },
   "outputs": [],
   "source": [
    "pairwise_distances_ = pairwise_distances(X=dataset_sparse, metric='euclidean', n_jobs=4)\n",
    "average_value = np.average(pairwise_distances_)\n",
    "standard_deviation = np.std(pairwise_distances_)\n",
    "eps = average_value + standard_deviation\n",
    "min_ = np.min(pairwise_distances_)\n",
    "max_ = np.max(pairwise_distances_)"
   ]
  },
  {
   "cell_type": "code",
   "execution_count": 9,
   "metadata": {
    "collapsed": false
   },
   "outputs": [
    {
     "name": "stdout",
     "output_type": "stream",
     "text": [
      "0.0\n",
      "1.38471122151\n",
      "1.17579617058\n",
      "0.135812114435\n"
     ]
    }
   ],
   "source": [
    "print min_\n",
    "print max_\n",
    "print average_value\n",
    "print standard_deviation\n",
    "eps = min_ + standard_deviation"
   ]
  },
  {
   "cell_type": "code",
   "execution_count": 10,
   "metadata": {
    "collapsed": false
   },
   "outputs": [
    {
     "data": {
      "text/plain": [
       "(array([  5.00000000e+03,   0.00000000e+00,   0.00000000e+00,\n",
       "          0.00000000e+00,   0.00000000e+00,   0.00000000e+00,\n",
       "          0.00000000e+00,   0.00000000e+00,   0.00000000e+00,\n",
       "          0.00000000e+00,   0.00000000e+00,   0.00000000e+00,\n",
       "          0.00000000e+00,   0.00000000e+00,   0.00000000e+00,\n",
       "          0.00000000e+00,   0.00000000e+00,   0.00000000e+00,\n",
       "          0.00000000e+00,   0.00000000e+00,   0.00000000e+00,\n",
       "          0.00000000e+00,   0.00000000e+00,   0.00000000e+00,\n",
       "          0.00000000e+00,   0.00000000e+00,   0.00000000e+00,\n",
       "          0.00000000e+00,   0.00000000e+00,   0.00000000e+00,\n",
       "          0.00000000e+00,   0.00000000e+00,   0.00000000e+00,\n",
       "          0.00000000e+00,   0.00000000e+00,   0.00000000e+00,\n",
       "          0.00000000e+00,   0.00000000e+00,   0.00000000e+00,\n",
       "          0.00000000e+00,   0.00000000e+00,   0.00000000e+00,\n",
       "          0.00000000e+00,   0.00000000e+00,   0.00000000e+00,\n",
       "          0.00000000e+00,   0.00000000e+00,   0.00000000e+00,\n",
       "          0.00000000e+00,   0.00000000e+00,   0.00000000e+00,\n",
       "          0.00000000e+00,   0.00000000e+00,   0.00000000e+00,\n",
       "          0.00000000e+00,   0.00000000e+00,   0.00000000e+00,\n",
       "          0.00000000e+00,   0.00000000e+00,   0.00000000e+00,\n",
       "          0.00000000e+00,   0.00000000e+00,   0.00000000e+00,\n",
       "          0.00000000e+00,   0.00000000e+00,   0.00000000e+00,\n",
       "          0.00000000e+00,   0.00000000e+00,   0.00000000e+00,\n",
       "          0.00000000e+00,   0.00000000e+00,   0.00000000e+00,\n",
       "          2.00000000e+00,   4.00000000e+00,   0.00000000e+00,\n",
       "          4.00000000e+00,   6.00000000e+00,   1.00000000e+01,\n",
       "          1.80000000e+01,   2.60000000e+01,   3.40000000e+01,\n",
       "          4.20000000e+01,   4.60000000e+01,   4.80000000e+01,\n",
       "          7.00000000e+01,   7.20000000e+01,   9.80000000e+01,\n",
       "          1.38000000e+02,   1.72000000e+02,   1.84000000e+02,\n",
       "          1.66000000e+02,   3.04000000e+02,   3.00000000e+02,\n",
       "          2.76000000e+02,   3.60000000e+02,   4.70000000e+02,\n",
       "          5.10000000e+02,   5.88000000e+02,   6.56000000e+02,\n",
       "          7.54000000e+02,   8.12000000e+02,   9.78000000e+02,\n",
       "          1.10800000e+03,   1.16400000e+03,   1.44000000e+03,\n",
       "          1.45000000e+03,   1.59800000e+03,   1.67800000e+03,\n",
       "          2.04200000e+03,   2.23200000e+03,   2.50600000e+03,\n",
       "          2.74200000e+03,   2.86200000e+03,   3.05800000e+03,\n",
       "          3.46200000e+03,   3.66400000e+03,   3.87800000e+03,\n",
       "          4.27000000e+03,   4.49400000e+03,   4.87600000e+03,\n",
       "          5.41400000e+03,   5.83000000e+03,   6.24800000e+03,\n",
       "          6.79000000e+03,   7.36200000e+03,   7.86800000e+03,\n",
       "          8.31600000e+03,   9.24200000e+03,   9.68000000e+03,\n",
       "          1.03460000e+04,   1.13920000e+04,   1.18780000e+04,\n",
       "          1.29340000e+04,   1.37800000e+04,   1.44860000e+04,\n",
       "          1.48080000e+04,   1.66920000e+04,   1.75840000e+04,\n",
       "          1.89240000e+04,   1.95220000e+04,   2.08100000e+04,\n",
       "          2.20120000e+04,   2.35360000e+04,   2.46000000e+04,\n",
       "          2.57100000e+04,   2.74040000e+04,   2.87980000e+04,\n",
       "          3.01280000e+04,   3.14800000e+04,   3.31340000e+04,\n",
       "          3.50380000e+04,   3.63800000e+04,   3.80140000e+04,\n",
       "          4.04420000e+04,   4.21620000e+04,   4.39120000e+04,\n",
       "          4.67540000e+04,   4.88020000e+04,   5.12440000e+04,\n",
       "          5.37020000e+04,   5.71260000e+04,   5.99960000e+04,\n",
       "          6.21960000e+04,   6.51700000e+04,   6.75680000e+04,\n",
       "          7.08640000e+04,   7.44180000e+04,   7.65540000e+04,\n",
       "          8.09860000e+04,   8.39440000e+04,   8.50580000e+04,\n",
       "          8.95660000e+04,   9.37000000e+04,   9.63940000e+04,\n",
       "          9.86840000e+04,   1.02226000e+05,   1.05064000e+05,\n",
       "          1.09566000e+05,   1.12614000e+05,   1.16394000e+05,\n",
       "          1.19030000e+05,   1.22814000e+05,   1.26016000e+05,\n",
       "          1.29106000e+05,   1.32226000e+05,   1.34252000e+05,\n",
       "          1.37632000e+05,   1.38994000e+05,   1.39726000e+05,\n",
       "          1.40914000e+05,   1.41078000e+05,   1.40256000e+05,\n",
       "          1.40854000e+05,   1.39702000e+05,   1.36674000e+05,\n",
       "          1.34784000e+05,   1.31914000e+05,   1.28928000e+05,\n",
       "          1.24848000e+05,   1.22270000e+05,   1.17156000e+05,\n",
       "          1.13868000e+05,   1.09424000e+05,   1.06610000e+05,\n",
       "          1.03992000e+05,   1.02128000e+05,   1.01712000e+05,\n",
       "          1.02590000e+05,   1.06136000e+05,   1.11802000e+05,\n",
       "          1.19108000e+05,   1.31428000e+05,   1.44998000e+05,\n",
       "          1.62266000e+05,   1.85428000e+05,   2.10822000e+05,\n",
       "          2.41636000e+05,   2.76358000e+05,   3.15354000e+05,\n",
       "          3.57506000e+05,   4.06640000e+05,   4.59492000e+05,\n",
       "          5.14174000e+05,   5.71414000e+05,   6.27608000e+05,\n",
       "          6.81354000e+05,   7.36406000e+05,   7.87310000e+05,\n",
       "          8.30508000e+05,   8.66450000e+05,   8.92066000e+05,\n",
       "          9.07628000e+05,   9.12694000e+05,   8.98654000e+05,\n",
       "          8.73246000e+05,   8.31014000e+05,   7.79770000e+05,\n",
       "          7.16094000e+05,   6.41658000e+05,   5.61946000e+05,\n",
       "          4.76714000e+05,   3.92072000e+05,   3.13608000e+05,\n",
       "          2.39500000e+05,   1.76782000e+05,   1.24000000e+05,\n",
       "          8.22020000e+04,   5.16680000e+04,   3.09740000e+04,\n",
       "          1.72120000e+04,   8.51400000e+03,   4.05800000e+03,\n",
       "          1.62400000e+03,   4.74000000e+02,   1.80000000e+02,\n",
       "          3.40000000e+01]),\n",
       " array([ 0.        ,  0.00540903,  0.01081806,  0.01622708,  0.02163611,\n",
       "         0.02704514,  0.03245417,  0.0378632 ,  0.04327223,  0.04868125,\n",
       "         0.05409028,  0.05949931,  0.06490834,  0.07031737,  0.07572639,\n",
       "         0.08113542,  0.08654445,  0.09195348,  0.09736251,  0.10277154,\n",
       "         0.10818056,  0.11358959,  0.11899862,  0.12440765,  0.12981668,\n",
       "         0.13522571,  0.14063473,  0.14604376,  0.15145279,  0.15686182,\n",
       "         0.16227085,  0.16767987,  0.1730889 ,  0.17849793,  0.18390696,\n",
       "         0.18931599,  0.19472502,  0.20013404,  0.20554307,  0.2109521 ,\n",
       "         0.21636113,  0.22177016,  0.22717918,  0.23258821,  0.23799724,\n",
       "         0.24340627,  0.2488153 ,  0.25422433,  0.25963335,  0.26504238,\n",
       "         0.27045141,  0.27586044,  0.28126947,  0.2866785 ,  0.29208752,\n",
       "         0.29749655,  0.30290558,  0.30831461,  0.31372364,  0.31913266,\n",
       "         0.32454169,  0.32995072,  0.33535975,  0.34076878,  0.34617781,\n",
       "         0.35158683,  0.35699586,  0.36240489,  0.36781392,  0.37322295,\n",
       "         0.37863197,  0.384041  ,  0.38945003,  0.39485906,  0.40026809,\n",
       "         0.40567712,  0.41108614,  0.41649517,  0.4219042 ,  0.42731323,\n",
       "         0.43272226,  0.43813128,  0.44354031,  0.44894934,  0.45435837,\n",
       "         0.4597674 ,  0.46517643,  0.47058545,  0.47599448,  0.48140351,\n",
       "         0.48681254,  0.49222157,  0.4976306 ,  0.50303962,  0.50844865,\n",
       "         0.51385768,  0.51926671,  0.52467574,  0.53008476,  0.53549379,\n",
       "         0.54090282,  0.54631185,  0.55172088,  0.55712991,  0.56253893,\n",
       "         0.56794796,  0.57335699,  0.57876602,  0.58417505,  0.58958407,\n",
       "         0.5949931 ,  0.60040213,  0.60581116,  0.61122019,  0.61662922,\n",
       "         0.62203824,  0.62744727,  0.6328563 ,  0.63826533,  0.64367436,\n",
       "         0.64908339,  0.65449241,  0.65990144,  0.66531047,  0.6707195 ,\n",
       "         0.67612853,  0.68153755,  0.68694658,  0.69235561,  0.69776464,\n",
       "         0.70317367,  0.7085827 ,  0.71399172,  0.71940075,  0.72480978,\n",
       "         0.73021881,  0.73562784,  0.74103686,  0.74644589,  0.75185492,\n",
       "         0.75726395,  0.76267298,  0.76808201,  0.77349103,  0.77890006,\n",
       "         0.78430909,  0.78971812,  0.79512715,  0.80053617,  0.8059452 ,\n",
       "         0.81135423,  0.81676326,  0.82217229,  0.82758132,  0.83299034,\n",
       "         0.83839937,  0.8438084 ,  0.84921743,  0.85462646,  0.86003549,\n",
       "         0.86544451,  0.87085354,  0.87626257,  0.8816716 ,  0.88708063,\n",
       "         0.89248965,  0.89789868,  0.90330771,  0.90871674,  0.91412577,\n",
       "         0.9195348 ,  0.92494382,  0.93035285,  0.93576188,  0.94117091,\n",
       "         0.94657994,  0.95198896,  0.95739799,  0.96280702,  0.96821605,\n",
       "         0.97362508,  0.97903411,  0.98444313,  0.98985216,  0.99526119,\n",
       "         1.00067022,  1.00607925,  1.01148828,  1.0168973 ,  1.02230633,\n",
       "         1.02771536,  1.03312439,  1.03853342,  1.04394244,  1.04935147,\n",
       "         1.0547605 ,  1.06016953,  1.06557856,  1.07098759,  1.07639661,\n",
       "         1.08180564,  1.08721467,  1.0926237 ,  1.09803273,  1.10344175,\n",
       "         1.10885078,  1.11425981,  1.11966884,  1.12507787,  1.1304869 ,\n",
       "         1.13589592,  1.14130495,  1.14671398,  1.15212301,  1.15753204,\n",
       "         1.16294106,  1.16835009,  1.17375912,  1.17916815,  1.18457718,\n",
       "         1.18998621,  1.19539523,  1.20080426,  1.20621329,  1.21162232,\n",
       "         1.21703135,  1.22244038,  1.2278494 ,  1.23325843,  1.23866746,\n",
       "         1.24407649,  1.24948552,  1.25489454,  1.26030357,  1.2657126 ,\n",
       "         1.27112163,  1.27653066,  1.28193969,  1.28734871,  1.29275774,\n",
       "         1.29816677,  1.3035758 ,  1.30898483,  1.31439385,  1.31980288,\n",
       "         1.32521191,  1.33062094,  1.33602997,  1.341439  ,  1.34684802,\n",
       "         1.35225705,  1.35766608,  1.36307511,  1.36848414,  1.37389317,\n",
       "         1.37930219,  1.38471122]),\n",
       " <a list of 256 Patch objects>)"
      ]
     },
     "execution_count": 10,
     "metadata": {},
     "output_type": "execute_result"
    },
    {
     "data": {
      "image/png": "[encoded data removed]",
      "text/plain": [
       "<matplotlib.figure.Figure at 0x7ff0112887d0>"
      ]
     },
     "metadata": {},
     "output_type": "display_data"
    }
   ],
   "source": [
    "plt.hist(pairwise_distances_.ravel(), bins=256, range=(min_, max_), fc='k', ec='k')"
   ]
  },
  {
   "cell_type": "code",
   "execution_count": 11,
   "metadata": {
    "collapsed": false,
    "scrolled": false
   },
   "outputs": [],
   "source": [
    "eps_factor = 1\n",
    "eps = 1.3\n",
    "clustering_names = [\n",
    "    'SpectralClustering', 'MinHashSpectralClustering', 'DBSCAN', 'MinHashDBSCAN']\n",
    "\n",
    "# original algorithms\n",
    "spectral = SpectralClustering(n_clusters=4, eigen_solver='arpack',\n",
    "                                      affinity=\"nearest_neighbors\", n_neighbors=5)\n",
    "dbscan = DBSCAN(eps=eps*eps_factor, metric=\"euclidean\")\n",
    "\n",
    "# objects used for algorithms with precomputed minHash\n",
    "minHash0 = MinHash(n_neighbors=5, similarity=False)\n",
    "minHash1 = MinHash(n_neighbors=5, similarity=True)\n",
    "\n",
    "spectral_precomputed = SpectralClustering(n_clusters=4, eigen_solver='arpack',\n",
    "                                      affinity=\"precomputed\", n_neighbors=5)\n",
    "\n",
    "dbscan_precomputed = DBSCAN(eps=eps*eps_factor, metric='precomputed')\n",
    "\n",
    "\n",
    "minHashClusteringSpectralClustering = MinHashClustering(minHash0, spectral_precomputed)\n",
    "minHashClusteringDBSCAN = MinHashClustering(minHash1, dbscan_precomputed)\n",
    "\n",
    "clustering_algorithms=[spectral, minHashClusteringSpectralClustering, dbscan, minHashClusteringDBSCAN]"
   ]
  },
  {
   "cell_type": "code",
   "execution_count": 12,
   "metadata": {
    "collapsed": false
   },
   "outputs": [
    {
     "name": "stdout",
     "output_type": "stream",
     "text": [
      "\n",
      "\n",
      "peak memory: 1189.74 MiB, increment: 572.23 MiB\n",
      "CPU times: user 16.4 s, sys: 140 ms, total: 16.5 s\n",
      "Wall time: 16.6 s\n",
      "SpectralClustering :\tARS:  0.33\n",
      "\n",
      "\n",
      "peak memory: 1043.29 MiB, increment: 424.59 MiB\n",
      "CPU times: user 48.9 s, sys: 1.92 s, total: 50.8 s\n",
      "Wall time: 1min 23s\n",
      "MinHashSpectralClustering :\tARS:  0.51\n",
      "\n",
      "\n",
      "peak memory: 1456.18 MiB, increment: 632.24 MiB\n",
      "CPU times: user 14.7 s, sys: 244 ms, total: 15 s\n",
      "Wall time: 15.1 s\n",
      "DBSCAN :\tARS:  0.0\n",
      "\n",
      "\n",
      "peak memory: 934.76 MiB, increment: 110.28 MiB\n",
      "CPU times: user 17.4 s, sys: 1.47 s, total: 18.9 s\n",
      "Wall time: 52.9 s\n",
      "MinHashDBSCAN :\tARS:  0.0\n",
      "CPU times: user 1min 37s, sys: 3.78 s, total: 1min 41s\n",
      "Wall time: 2min 48s\n"
     ]
    }
   ],
   "source": [
    "%%time\n",
    "X = dataset_sparse\n",
    "for name, algorithm in zip(clustering_names, clustering_algorithms):\n",
    "    print \"\\n\"\n",
    "    %time %memit y_pred = algorithm.fit_predict(X)\n",
    "    y_pred = y_pred.astype(np.int)\n",
    "    print name, \":\\tARS: \", float(\"{0:.2f}\".format(adjusted_rand_score(targets, y_pred)))"
   ]
  },
  {
   "cell_type": "code",
   "execution_count": 13,
   "metadata": {
    "collapsed": false
   },
   "outputs": [
    {
     "name": "stdout",
     "output_type": "stream",
     "text": [
      "0\n",
      "1\n",
      "2\n",
      "3\n",
      "4\n",
      "5\n",
      "6\n",
      "7\n",
      "8\n",
      "9\n",
      "Maximal ARS:  0.236755475576  for eps:  0.830826732906\n",
      "CPU times: user 2min 20s, sys: 920 ms, total: 2min 20s\n",
      "Wall time: 2min 20s\n"
     ]
    }
   ],
   "source": [
    "%%time\n",
    "X = dataset_sparse\n",
    "step = max / float(10)\n",
    "eps = min + step\n",
    "max_ars = 0\n",
    "eps_max = 0\n",
    "for i in xrange(10):\n",
    "#     print \"\\neps: \", eps\n",
    "#     minHash1 = MinHash(n_neighbors=5, similarity=True)\n",
    "#     dbscan_precomputed = DBSCAN(eps=eps, metric='precomputed')\n",
    "#     minHashClusteringDBSCAN = MinHashClustering(minHash1, dbscan_precomputed)\n",
    "    dbscan = DBSCAN(eps=eps, metric=\"euclidean\")\n",
    "    y_pred = dbscan.fit_predict(X)\n",
    "    y_pred = y_pred.astype(np.int)\n",
    "#     print name, \":\\tARS: \", float(\"{0:.2f}\".format(adjusted_rand_score(targets, y_pred)))\n",
    "    ars = adjusted_rand_score(targets, y_pred)\n",
    "    if (ars > max_ars):\n",
    "        max_ars = ars\n",
    "        eps_max = eps\n",
    "    eps += step\n",
    "    print i\n",
    "print \"Maximal ARS: \", max_ars, \" for eps: \", eps_max"
   ]
  },
  {
   "cell_type": "markdown",
   "metadata": {
    "collapsed": true
   },
   "source": [
    "---"
   ]
  }
 ],
 "metadata": {
  "kernelspec": {
   "display_name": "Python 2",
   "language": "python",
   "name": "python2"
  },
  "language_info": {
   "codemirror_mode": {
    "name": "ipython",
    "version": 2
   },
   "file_extension": ".py",
   "mimetype": "text/x-python",
   "name": "python",
   "nbconvert_exporter": "python",
   "pygments_lexer": "ipython2",
   "version": "2.7.6"
  }
 },
 "nbformat": 4,
 "nbformat_minor": 0
}
