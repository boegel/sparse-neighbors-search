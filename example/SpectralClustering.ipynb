{
 "cells": [
  {
   "cell_type": "markdown",
   "metadata": {
    "collapsed": true
   },
   "source": [
    "# SpectralClustering and DBSCAN with minHash"
   ]
  },
  {
   "cell_type": "code",
   "execution_count": 2,
   "metadata": {
    "collapsed": false,
    "scrolled": true
   },
   "outputs": [],
   "source": [
    "from sklearn.metrics.cluster import adjusted_rand_score\n",
    "from sklearn.datasets import make_classification\n",
    "from sklearn.cluster import DBSCAN\n",
    "from scipy.sparse import csr_matrix\n",
    "import hashlib\n",
    "from random import randint\n",
    "\n",
    "sparsity_factor = 0.01\n",
    "samples = 3000\n",
    "features = 10000\n",
    "classes = 2\n",
    "clusters_per_class = 2\n",
    "scale_ = 1.0\n",
    "data_dense, y_true = make_classification(n_samples=samples, n_features=features, n_informative=2, \n",
    "                                 n_redundant=2, n_repeated=0, n_classes=classes, \n",
    "                                 n_clusters_per_class=clusters_per_class, weights=None, flip_y=0.01,\n",
    "                                 class_sep=1.0, hypercube=True, shift=0.0, scale=scale_,\n",
    "                                 shuffle=True, random_state=None)\n",
    "instances_list = []\n",
    "features_list = []\n",
    "data_list = []\n",
    "for i in xrange(len(data_dense)):\n",
    "    for j in xrange(len(data_dense[i])):\n",
    "        instances_list.append(i)\n",
    "        features_list.append(hash(str(data_dense[i][j])[0:4]+str(j)) % (features/sparsity_factor))\n",
    "        data_list.append(data_dense[i][j])\n",
    "# print instances_list\n",
    "# print features_list\n",
    "# print data_list\n",
    "data_sparse = csr_matrix((data_list, (instances_list, features_list)))"
   ]
  },
  {
   "cell_type": "code",
   "execution_count": 3,
   "metadata": {
    "collapsed": false
   },
   "outputs": [
    {
     "name": "stdout",
     "output_type": "stream",
     "text": [
      "Automatically created module for IPython interactive environment\n",
      "SpectralClustering :  -2.29101388706e-05\n",
      "Size y:  0\n",
      "Size X:  3000\n",
      "Size X[1]:  999553\n",
      "Labels:  [1 0 1 ..., 1 0 0]\n",
      "MinHashSpectralClustering :  -0.000219505416367\n",
      "Size y:  0\n",
      "Size X:  3000\n",
      "Size X[1]:  999553\n",
      "DBSCAN :  0.0\n",
      "Size y:  0\n",
      "Size X:  3000\n",
      "Size X[1]:  999553\n",
      "MinHashDBSCAN :  0.0\n",
      "Size y:  0\n",
      "Size X:  3000\n",
      "Size X[1]:  999553\n"
     ]
    },
    {
     "name": "stderr",
     "output_type": "stream",
     "text": [
      "/home/joachim/.local/lib/python2.7/site-packages/matplotlib/collections.py:590: FutureWarning: elementwise comparison failed; returning scalar instead, but in the future will perform elementwise comparison\n",
      "  if self._edgecolors == str('face'):\n"
     ]
    },
    {
     "data": {
      "image/png": "[encoded data removed]",
      "text/plain": [
       "<matplotlib.figure.Figure at 0x7f63a6075fd0>"
      ]
     },
     "metadata": {},
     "output_type": "display_data"
    }
   ],
   "source": [
    "%matplotlib inline\n",
    "print(__doc__)\n",
    "\n",
    "import time\n",
    "\n",
    "import numpy as np\n",
    "import matplotlib.pyplot as plt\n",
    "\n",
    "from sklearn.metrics import accuracy_score\n",
    "\n",
    "from sklearn import cluster, datasets\n",
    "from sklearn.neighbors import kneighbors_graph\n",
    "from sklearn.preprocessing import StandardScaler\n",
    "from sklearn.random_projection import SparseRandomProjection\n",
    "\n",
    "from neighborsMinHash.clustering import MinHashSpectralClustering \n",
    "from neighborsMinHash.clustering import MinHashDBSCAN\n",
    "\n",
    "\n",
    "np.random.seed(0)\n",
    "\n",
    "\n",
    "colors = np.array([x for x in 'bgrcmykbgrcmykbgrcmykbgrcmyk'])\n",
    "colors = np.hstack([colors] * 20)\n",
    "\n",
    "clustering_names = [\n",
    "    'SpectralClustering', 'MinHashSpectralClustering', 'DBSCAN', 'MinHashDBSCAN']\n",
    "\n",
    "plt.figure(figsize=(len(clustering_names) * 2 + 3, 9.5))\n",
    "plt.subplots_adjust(left=.02, right=.98, bottom=.001, top=.96, wspace=.05,\n",
    "                    hspace=.01)\n",
    "\n",
    "plot_num = 1\n",
    "\n",
    "X = data_sparse\n",
    "\n",
    "# connectivity matrix for structured Ward\n",
    "connectivity = kneighbors_graph(X, n_neighbors=10, include_self=False)\n",
    "# make connectivity symmetric\n",
    "connectivity = 0.5 * (connectivity + connectivity.T)\n",
    "\n",
    "# create clustering estimators\n",
    "spectral = cluster.SpectralClustering(n_clusters=2,\n",
    "                                      eigen_solver='arpack',\n",
    "                                      affinity=\"nearest_neighbors\", n_neighbors=10)\n",
    "minHashSpectral = MinHashSpectralClustering(n_clusters=2,\n",
    "                                      eigen_solver='arpack', n_neighbors=10)\n",
    "\n",
    "dbscanMinHash = MinHashDBSCAN(eps=.2)\n",
    "dbscan = cluster.DBSCAN(eps=.2, metric=\"euclidean\")\n",
    "\n",
    "\n",
    "clustering_algorithms=[spectral, minHashSpectral, dbscan, dbscanMinHash]\n",
    "list_y = []\n",
    "\n",
    "data_projection = SparseRandomProjection(n_components=2, random_state=1)\n",
    "data_transformed = data_projection.fit_transform(X)\n",
    "x = []\n",
    "y = []\n",
    "\n",
    "for datapoint in data_transformed:\n",
    "    x.append(datapoint[0,0])\n",
    "    y.append(datapoint[0,1])\n",
    "    \n",
    "result = []\n",
    "for name, algorithm in zip(clustering_names, clustering_algorithms):\n",
    "    t0 = time.time()\n",
    "    y_pred = algorithm.fit_predict(X)\n",
    "    t1 = time.time()\n",
    "    y_pred = y_pred.astype(np.int)\n",
    "    print name, \": \", adjusted_rand_score(y_true, y_pred)\n",
    "    plt.subplot(4, len(clustering_algorithms), plot_num)\n",
    "        \n",
    "    plt.title(name, size=18)\n",
    "    print \"Size y: \", len(list_y)\n",
    "    print \"Size X: \", X.shape[0]\n",
    "    print \"Size X[1]: \", X.shape[1]\n",
    "    plt.scatter(x, y, color=colors[y_pred].tolist(), s=10)\n",
    "\n",
    "    plt.xlim(-2, 2)\n",
    "    plt.ylim(-2, 2)\n",
    "    plt.xticks(())\n",
    "    plt.yticks(())\n",
    "    plt.text(.99, .01, ('%.2fs' % (t1 - t0)).lstrip('0'),\n",
    "             transform=plt.gca().transAxes, size=15,\n",
    "             horizontalalignment='right')\n",
    "    plot_num += 1\n",
    "\n",
    "plt.show()\n"
   ]
  },
  {
   "cell_type": "code",
   "execution_count": null,
   "metadata": {
    "collapsed": true
   },
   "outputs": [],
   "source": []
  }
 ],
 "metadata": {
  "kernelspec": {
   "display_name": "Python 2",
   "language": "python",
   "name": "python2"
  },
  "language_info": {
   "codemirror_mode": {
    "name": "ipython",
    "version": 2
   },
   "file_extension": ".py",
   "mimetype": "text/x-python",
   "name": "python",
   "nbconvert_exporter": "python",
   "pygments_lexer": "ipython2",
   "version": "2.7.6"
  }
 },
 "nbformat": 4,
 "nbformat_minor": 0
}
