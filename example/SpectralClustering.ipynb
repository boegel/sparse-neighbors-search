{
 "cells": [
  {
   "cell_type": "markdown",
   "metadata": {},
   "source": [
    "#SpectralClustering"
   ]
  },
  {
   "cell_type": "code",
   "execution_count": 1,
   "metadata": {
    "collapsed": false
   },
   "outputs": [],
   "source": [
    "from eden.converter.graph.gspan import gspan_to_eden\n",
    "from eden.graph import Vectorizer\n",
    "graphs = gspan_to_eden( 'http://www.bioinf.uni-freiburg.de/~costa/bursi.gspan' )\n",
    "vectorizer = Vectorizer( r=2,d=5 )\n",
    "datasetBursi = vectorizer.transform( graphs )"
   ]
  },
  {
   "cell_type": "code",
   "execution_count": 3,
   "metadata": {
    "collapsed": false
   },
   "outputs": [
    {
     "name": "stdout",
     "output_type": "stream",
     "text": [
      "Automatically created module for IPython interactive environment\n",
      "y_pred:  [1 0 0 ..., 0 0 0]\n",
      "Size y:  0\n",
      "Size X:  4337\n",
      "Size X[1]:  1048577\n",
      "y_pred:  [0 0 0 ..., 0 0 0]\n",
      "Size y:  0\n",
      "Size X:  4337\n",
      "Size X[1]:  1048577\n"
     ]
    },
    {
     "data": {
      "image/png": "[encoded data removed]",
      "text/plain": [
       "<matplotlib.figure.Figure at 0x7fa2ff9a8710>"
      ]
     },
     "metadata": {},
     "output_type": "display_data"
    }
   ],
   "source": [
    "%matplotlib inline\n",
    "print(__doc__)\n",
    "\n",
    "import time\n",
    "\n",
    "import numpy as np\n",
    "import matplotlib.pyplot as plt\n",
    "\n",
    "from sklearn import cluster, datasets\n",
    "from sklearn.neighbors import kneighbors_graph\n",
    "from sklearn.preprocessing import StandardScaler\n",
    "from sklearn.random_projection import SparseRandomProjection\n",
    "\n",
    "from neighborsMinHash.clustering import MinHashSpectralClustering \n",
    "\n",
    "\n",
    "np.random.seed(0)\n",
    "\n",
    "# Generate datasets. We choose the size big enough to see the scalability\n",
    "# of the algorithms, but not too big to avoid too long running times\n",
    "n_samples = 1500\n",
    "noisy_circles = datasets.make_circles(n_samples=n_samples, factor=.5,\n",
    "                                      noise=.05)\n",
    "noisy_moons = datasets.make_moons(n_samples=n_samples, noise=.05)\n",
    "blobs = datasets.make_blobs(n_samples=n_samples, random_state=8)\n",
    "no_structure = np.random.rand(n_samples, 2), None\n",
    "\n",
    "colors = np.array([x for x in 'bgrcmykbgrcmykbgrcmykbgrcmyk'])\n",
    "colors = np.hstack([colors] * 20)\n",
    "\n",
    "clustering_names = [\n",
    "    'SpectralClustering', 'MinHashSpectralClustering']\n",
    "\n",
    "plt.figure(figsize=(len(clustering_names) * 2 + 3, 9.5))\n",
    "plt.subplots_adjust(left=.02, right=.98, bottom=.001, top=.96, wspace=.05,\n",
    "                    hspace=.01)\n",
    "\n",
    "plot_num = 1\n",
    "\n",
    "datasets = [noisy_circles, noisy_moons, blobs, no_structure]\n",
    "#for i_dataset, dataset in enumerate(datasets):\n",
    "#X, y = dataset\n",
    "X = datasetBursi\n",
    "y = None\n",
    "# normalize dataset for easier parameter selection\n",
    "#X = StandardScaler().fit_transform(X)\n",
    "\n",
    "# estimate bandwidth for mean shift\n",
    "#bandwidth = cluster.estimate_bandwidth(X, quantile=0.3)\n",
    "\n",
    "# connectivity matrix for structured Ward\n",
    "connectivity = kneighbors_graph(X, n_neighbors=10, include_self=False)\n",
    "# make connectivity symmetric\n",
    "connectivity = 0.5 * (connectivity + connectivity.T)\n",
    "\n",
    "# create clustering estimators\n",
    "#ms = cluster.MeanShift(bandwidth=bandwidth, bin_seeding=True)\n",
    "two_means = cluster.MiniBatchKMeans(n_clusters=2)\n",
    "ward = cluster.AgglomerativeClustering(n_clusters=2, linkage='ward',\n",
    "                                       connectivity=connectivity)\n",
    "spectral = cluster.SpectralClustering(n_clusters=2,\n",
    "                                      eigen_solver='arpack',\n",
    "                                      affinity=\"nearest_neighbors\")\n",
    "minHashSpectral = MinHashSpectralClustering(n_clusters=2,\n",
    "                                      eigen_solver='arpack',\n",
    "                                      affinity=\"nearest_neighbors\")\n",
    "\n",
    "dbscan = cluster.DBSCAN(eps=.2)\n",
    "affinity_propagation = cluster.AffinityPropagation(damping=.9,\n",
    "                                                   preference=-200)\n",
    "\n",
    "average_linkage = cluster.AgglomerativeClustering(\n",
    "    linkage=\"average\", affinity=\"cityblock\", n_clusters=2,\n",
    "    connectivity=connectivity)\n",
    "\n",
    "birch = cluster.Birch(n_clusters=2)\n",
    "# clustering_algorithms = [\n",
    "#     two_means, affinity_propagation, spectral, minHashSpectral, ward, average_linkage,\n",
    "#     dbscan, birch]\n",
    "clustering_algorithms=[spectral, minHashSpectral]\n",
    "\n",
    "#print \"X: \", X\n",
    "list_y = []\n",
    "#data_projection = SparseRandomProjection(n_components=1, random_state=1)\n",
    "# for i in xrange(X.shape[0]):\n",
    "#     data_projection = SparseRandomProjection(n_components=1, random_state=1)\n",
    "#     list_y.append([data_projection.fit_transform(X.getrow(i)).getnnz()])\n",
    "# print \"DataTransformed: \", list_y\n",
    "\n",
    "data_projection = SparseRandomProjection(n_components=2, random_state=1)\n",
    "data_transformed = data_projection.fit_transform(X)\n",
    "#print data_transformed\n",
    "x = []\n",
    "y = []\n",
    "\n",
    "for datapoint in data_transformed:\n",
    "    x.append(datapoint[0,0])\n",
    "    y.append(datapoint[0,1])\n",
    "    \n",
    "    \n",
    "for name, algorithm in zip(clustering_names, clustering_algorithms):\n",
    "    # predict cluster memberships\n",
    "    t0 = time.time()\n",
    "    algorithm.fit(X)\n",
    "    t1 = time.time()\n",
    "    if hasattr(algorithm, 'labels_'):\n",
    "        y_pred = algorithm.labels_.astype(np.int)\n",
    "    else:\n",
    "        y_pred = algorithm.predict(X)\n",
    "    print \"y_pred: \", y_pred\n",
    "    # plot\n",
    "    plt.subplot(4, len(clustering_algorithms), plot_num)\n",
    "    #if i_dataset == 0:\n",
    "        \n",
    "    plt.title(name, size=18)\n",
    "#     print \"X[:, 0]\", X[:, 0]\n",
    "#     print \"X[:, 1]\", X[:, 1]\n",
    "#     print \"colors: \", colors\n",
    "#     print 'colors[y_pred]: ', colors[y_pred]\n",
    "#     print \"colors[y_pred].tolist(): \", colors[y_pred].tolist\n",
    "    print \"Size y: \", len(list_y)\n",
    "    print \"Size X: \", X.shape[0]\n",
    "    print \"Size X[1]: \", X.shape[1]\n",
    "    plt.scatter(x, y, color=colors[y_pred].tolist(), s=10)\n",
    "\n",
    "#     if hasattr(algorithm, 'cluster_centers_'):\n",
    "#         centers = algorithm.cluster_centers_\n",
    "#         center_colors = colors[:len(centers)]\n",
    "#         plt.scatter(centers[:, 0], centers[:, 1], s=100, c=center_colors)\n",
    "    plt.xlim(-2, 2)\n",
    "    plt.ylim(-2, 2)\n",
    "    plt.xticks(())\n",
    "    plt.yticks(())\n",
    "    plt.text(.99, .01, ('%.2fs' % (t1 - t0)).lstrip('0'),\n",
    "             transform=plt.gca().transAxes, size=15,\n",
    "             horizontalalignment='right')\n",
    "    plot_num += 1\n",
    "\n",
    "plt.show()"
   ]
  },
  {
   "cell_type": "code",
   "execution_count": null,
   "metadata": {
    "collapsed": true
   },
   "outputs": [],
   "source": []
  },
  {
   "cell_type": "code",
   "execution_count": null,
   "metadata": {
    "collapsed": true
   },
   "outputs": [],
   "source": []
  }
 ],
 "metadata": {
  "kernelspec": {
   "display_name": "Python 2",
   "language": "python",
   "name": "python2"
  },
  "language_info": {
   "codemirror_mode": {
    "name": "ipython",
    "version": 2
   },
   "file_extension": ".py",
   "mimetype": "text/x-python",
   "name": "python",
   "nbconvert_exporter": "python",
   "pygments_lexer": "ipython2",
   "version": "2.7.6"
  }
 },
 "nbformat": 4,
 "nbformat_minor": 0
}
