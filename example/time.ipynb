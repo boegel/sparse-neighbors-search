{
 "cells": [
  {
   "cell_type": "markdown",
   "metadata": {},
   "source": [
    "#Measurement of fitting time and query time\n",
    "\n",
    "In this notebook different parameters and their influence to the fitting and query time of sklearn, lsh forest and minHash are examinded."
   ]
  },
  {
   "cell_type": "markdown",
   "metadata": {
    "collapsed": true
   },
   "source": [
    "Import every needed dependency and create two functions for the creation of artificial datasets."
   ]
  },
  {
   "cell_type": "code",
   "execution_count": 1,
   "metadata": {
    "collapsed": false
   },
   "outputs": [],
   "source": [
    "%matplotlib inline\n",
    "import time\n",
    "import numpy as np\n",
    "from sklearn.datasets.samples_generator import make_blobs\n",
    "from sklearn.datasets import make_sparse_uncorrelated\n",
    "from sklearn.neighbors import NearestNeighbors\n",
    "from sklearn.neighbors import LSHForest\n",
    "import matplotlib.pyplot as plt\n",
    "from scipy.sparse import csr_matrix\n",
    "from scipy.sparse import coo_matrix\n",
    "import neighbors as kneighbors\n",
    "import random\n",
    "\n",
    "from scipy.sparse import dok_matrix\n",
    "from scipy.sparse import rand\n",
    "from scipy.sparse import vstack\n",
    "\n",
    "def create_dataset(seed=None,\n",
    "                   number_of_centroids=None,\n",
    "                   number_of_instances=None,\n",
    "                   number_of_features=None,\n",
    "                   size_of_dataset=None,\n",
    "                   density=None,\n",
    "                   fraction_of_density=None\n",
    "                   ):\n",
    "    dataset_neighborhood_list = []\n",
    "    number_of_swapping_elements = int(number_of_features * density * fraction_of_density)\n",
    "    y = []\n",
    "    random_local = random.randint\n",
    "    number_of_features_density = int(number_of_features*density)-1\n",
    "    for k in xrange(number_of_centroids):\n",
    "        dataset_neighbor = rand(1, number_of_features, density=density, format='lil', random_state=seed*k)\n",
    "        nonzero_elements =  dataset_neighbor.nonzero()[1]\n",
    "        for i in xrange(size_of_dataset):\n",
    "            neighbor = dataset_neighbor.copy()\n",
    "            # random.seed(seed*k)\n",
    "            for j in xrange(number_of_swapping_elements):\n",
    "                index = random_local(0, number_of_features_density)\n",
    "                index_swap = random_local(0, number_of_features-1)\n",
    "                neighbor[0, nonzero_elements[index]] = 0\n",
    "                neighbor[0, index_swap] = 1\n",
    "            dataset_neighborhood_list.append(neighbor)\n",
    "        y.append(k)\n",
    "\n",
    "    dataset_neighborhood = vstack(dataset_neighborhood_list)\n",
    "\n",
    "    size_of_noise = number_of_instances-(number_of_centroids*size_of_dataset)\n",
    "    if size_of_noise > 0:\n",
    "            dataset_noise = rand(size_of_noise, number_of_features, format='lil', density=density, random_state=seed*seed)\n",
    "            dataset = vstack([dataset_neighborhood, dataset_noise])\n",
    "    else:\n",
    "        dataset = vstack([dataset_neighborhood])\n",
    "    random_value_generator = random.randint\n",
    "\n",
    "    # add classes for noisy data\n",
    "    for i in range(0, size_of_noise):\n",
    "        y.append(random_value_generator(0, number_of_centroids))\n",
    "\n",
    "    return csr_matrix(dataset), y\n",
    "\n",
    "def create_dataset_fixed_nonzero(seed=None,\n",
    "                   number_of_centroids=None,\n",
    "                   number_of_instances=None,\n",
    "                   number_of_features=None,\n",
    "                   size_of_dataset=None,\n",
    "                   non_zero_elements=None,\n",
    "                   fraction_of_density=None):\n",
    "    \n",
    "    if (non_zero_elements > number_of_features):\n",
    "        print \"More non-zero elements than features!\"\n",
    "        return\n",
    "    density = non_zero_elements / float(number_of_features)\n",
    "    print \"Desity:\" , density\n",
    "    dataset_neighborhood_list = []\n",
    "    number_of_swapping_elements = int(non_zero_elements * fraction_of_density)\n",
    "    y = []\n",
    "    random_local = random.randint\n",
    "    \n",
    "    for k in xrange(number_of_centroids):\n",
    "        dataset_neighbor = rand(1, number_of_features, density=density, format='lil', random_state=seed*k)\n",
    "        nonzero_elements =  dataset_neighbor.nonzero()[1]\n",
    "        for i in xrange(size_of_dataset):\n",
    "            neighbor = dataset_neighbor.copy()\n",
    "            # random.seed(seed*k)\n",
    "            for j in xrange(number_of_swapping_elements):\n",
    "                index = random_local(0, non_zero_elements-1)\n",
    "                index_swap = random_local(0, number_of_features-1)\n",
    "                neighbor[0, nonzero_elements[index]] = 0\n",
    "                neighbor[0, index_swap] = 1\n",
    "            dataset_neighborhood_list.append(neighbor)\n",
    "        y.append(k)\n",
    "\n",
    "    dataset_neighborhood = vstack(dataset_neighborhood_list)\n",
    "\n",
    "    size_of_noise = number_of_instances-(number_of_centroids*size_of_dataset)\n",
    "    if size_of_noise > 0:\n",
    "            dataset_noise = rand(size_of_noise, number_of_features, format='lil', density=density, random_state=seed*seed)\n",
    "            dataset = vstack([dataset_neighborhood, dataset_noise])\n",
    "    else:\n",
    "        dataset = vstack([dataset_neighborhood])\n",
    "    random_value_generator = random.randint\n",
    "\n",
    "    # add classes for noisy data\n",
    "    for i in range(0, size_of_noise):\n",
    "        y.append(random_value_generator(0, number_of_centroids))\n",
    "\n",
    "    return csr_matrix(dataset), y\n"
   ]
  },
  {
   "cell_type": "markdown",
   "metadata": {},
   "source": [
    "Function to measure and plot the performance for the given input data.\n",
    "For the query times two methods are measured:\n",
    "- All queries at once\n",
    "- One query after another  \n",
    "For example:\n",
    "- For 50 queries kneighbors is called once with 50 instances to get all neighbors of these instances\n",
    "- For 50 queries kneighbors is called 50 times with only one instance."
   ]
  },
  {
   "cell_type": "code",
   "execution_count": 4,
   "metadata": {
    "collapsed": false
   },
   "outputs": [],
   "source": [
    "def measure_peformance( dataset, n_neighbors_sklearn = 5, n_neighbors_minHash = 5, size_of_query = 50):    \n",
    "    time_fit_sklearn = []\n",
    "    time_fit_minHash = []\n",
    "    time_fit_lshf = []\n",
    "    time_query_time_50_1_sklearn = []\n",
    "    time_query_time_50_1_minHash_exact = []\n",
    "    time_query_time_50_1_minHash_approx = []\n",
    "    time_query_time_50_1_lshf = []\n",
    "\n",
    "    time_query_time_1_50_sklearn = []\n",
    "    time_query_time_1_50_minHash_exact = []\n",
    "    time_query_time_1_50_minHash_approx = []\n",
    "    time_query_time_1_50_lshf = []\n",
    "\n",
    "    accuracy_1_50_lshf = []\n",
    "    accuracy_1_50_minHash_exact = []\n",
    "    accuracy_1_50_minHash_aprox = []\n",
    "    \n",
    "    centroids = 8\n",
    "    size_of_datasets = 7\n",
    "\n",
    "    for dataset_ in dataset:\n",
    "        \n",
    "        nearest_neighbor_sklearn = NearestNeighbors(n_neighbors = n_neighbors_sklearn)\n",
    "        nearest_neighbor_minHash = kneighbors.MinHashNearestNeighbors(n_neighbors = n_neighbors_minHash)\n",
    "        nearest_neighbor_lshf = LSHForest(n_estimators=20, n_candidates=200, n_neighbors=n_neighbors_minHash)\n",
    "        \n",
    "        time_start = time.time()\n",
    "        nearest_neighbor_sklearn.fit(dataset_)\n",
    "        time_end = time.time()\n",
    "        time_fit_sklearn.append(time_end - time_start)\n",
    "\n",
    "        time_start = time.time()\n",
    "        nearest_neighbor_minHash.fit(dataset_)\n",
    "        time_end = time.time()\n",
    "        time_fit_minHash.append(time_end - time_start)\n",
    "\n",
    "        time_start = time.time()\n",
    "        nearest_neighbor_lshf.fit(dataset_)\n",
    "        time_end = time.time()\n",
    "        time_fit_lshf.append(time_end - time_start)\n",
    "        \n",
    "        if size_of_query < dataset_.shape[0]:\n",
    "            query_ids = []\n",
    "            for i in range(size_of_query):\n",
    "                query_ids.append(random.randint(0, centroids * size_of_datasets))\n",
    "            query = dataset_[query_ids]\n",
    "        else:\n",
    "            query = dataset_\n",
    "\n",
    "        time_start = time.time()\n",
    "        n_neighbors_sklearn_1_50 = nearest_neighbor_sklearn.kneighbors(query, return_distance=False)\n",
    "        time_end = time.time()\n",
    "        time_query_time_1_50_sklearn.append(time_end - time_start)\n",
    "\n",
    "        time_start = time.time()\n",
    "        n_neighbors_minHash_exact_1_50 = nearest_neighbor_minHash.kneighbors(query, return_distance=False)\n",
    "        time_end = time.time()\n",
    "        time_query_time_1_50_minHash_exact.append(time_end - time_start)\n",
    "        \n",
    "\n",
    "        time_start = time.time()\n",
    "        n_neighbors_minHash_approx_1_50 = nearest_neighbor_minHash.kneighbors(query, fast=True, return_distance=False)\n",
    "        time_end = time.time()\n",
    "        time_query_time_1_50_minHash_approx.append(time_end - time_start)\n",
    "\n",
    "        time_start = time.time()\n",
    "        n_neighbors_lshf_1_50 = nearest_neighbor_lshf.kneighbors(query,return_distance=False)\n",
    "        time_end = time.time()\n",
    "        time_query_time_1_50_lshf.append(time_end - time_start)\n",
    "\n",
    "        \n",
    "        accuracy_1_50_lshf.append(np.in1d(n_neighbors_lshf_1_50, n_neighbors_sklearn_1_50).mean())\n",
    "        accuracy_1_50_minHash_exact.append(np.in1d(n_neighbors_minHash_exact_1_50, n_neighbors_sklearn_1_50).mean())\n",
    "        accuracy_1_50_minHash_aprox.append(np.in1d(n_neighbors_minHash_approx_1_50, n_neighbors_sklearn_1_50).mean())\n",
    "    \n",
    "    \n",
    "        time_query_time_50_1_sklearn_loc = []\n",
    "        time_query_time_50_1_sklearn_loc = []\n",
    "        for i in range(size_of_query):\n",
    "            time_start = time.time()\n",
    "            nearest_neighbor_sklearn.kneighbors(query[i],return_distance=False)\n",
    "            time_end = time.time()\n",
    "            time_query_time_50_1_sklearn_loc.append(time_end - time_start)\n",
    "        time_query_time_50_1_sklearn.append(np.sum(time_query_time_50_1_sklearn_loc))\n",
    "        time_query_time_50_1_minHash_exact_loc = []\n",
    "        for i in range(size_of_query):\n",
    "            time_start = time.time()\n",
    "            nearest_neighbor_minHash.kneighbors(query[i], return_distance=False)\n",
    "            time_end = time.time()\n",
    "            time_query_time_50_1_minHash_exact_loc.append(time_end - time_start)\n",
    "        time_query_time_50_1_minHash_exact.append(np.sum(time_query_time_50_1_minHash_exact_loc))\n",
    "        time_query_time_50_1_minHash_approx_loc = []\n",
    "        for i in range(size_of_query):\n",
    "            time_start = time.time()\n",
    "            nearest_neighbor_minHash.kneighbors(query[i], fast=True,return_distance=False)\n",
    "            time_end = time.time()\n",
    "            time_query_time_50_1_minHash_approx_loc.append(time_end - time_start)\n",
    "        time_query_time_50_1_minHash_approx.append(np.sum(time_query_time_50_1_minHash_approx_loc))\n",
    "        time_query_time_50_1_lshf_loc = []\n",
    "        for i in range(size_of_query):\n",
    "            time_start = time.time()\n",
    "            nearest_neighbor_lshf.kneighbors(query[i], return_distance=False)\n",
    "            time_end = time.time()\n",
    "            time_query_time_50_1_lshf_loc.append(time_end - time_start)\n",
    "        time_query_time_50_1_lshf.append(np.sum(time_query_time_50_1_lshf_loc))\n",
    "    return  (time_fit_sklearn, time_fit_minHash, time_fit_lshf, time_query_time_50_1_sklearn,\n",
    "            time_query_time_50_1_minHash_exact, time_query_time_50_1_minHash_approx, \n",
    "            time_query_time_50_1_lshf, time_query_time_1_50_sklearn,\n",
    "            time_query_time_1_50_minHash_exact, time_query_time_1_50_minHash_approx,\n",
    "            time_query_time_1_50_lshf, accuracy_1_50_lshf,\n",
    "            accuracy_1_50_minHash_exact, accuracy_1_50_minHash_aprox)"
   ]
  },
  {
   "cell_type": "code",
   "execution_count": 5,
   "metadata": {
    "collapsed": true
   },
   "outputs": [],
   "source": [
    "def plotData( data, color, label, title, xticks, ylabel,\n",
    "             number_of_instances, number_of_features,\n",
    "             figure_size=(10,5),  bar_width=0.1,log=True):\n",
    "    plt.figure(figsize=figure_size)\n",
    "    N = number_of_instances * number_of_features\n",
    "\n",
    "    ind = np.arange(N)    # the x locations for the groups\n",
    "    \n",
    "    #\"r\", \"b\", \"g\", \"c\", \"m\", \"y\", \"k\", \"w\"\n",
    "    count = 0\n",
    "    for d, c, l in zip(data, color, label):\n",
    "        plt.bar(ind + count * bar_width , d,   bar_width, color=c, label=l)\n",
    "        count += 1\n",
    "    if log:\n",
    "        plt.yscale('log')\n",
    "    plt.ylabel(ylabel)\n",
    "    plt.title(title)\n",
    "    plt.xticks(ind+3*bar_width, (xticks))\n",
    "    plt.legend(loc='upper left', fontsize='small')\n",
    "    plt.show()"
   ]
  },
  {
   "cell_type": "markdown",
   "metadata": {},
   "source": [
    "Measure the fitting time, query time and the accuracy of sklearn, lshf and minHash for the following parameters:\n",
    "- seed = 6\n",
    "- centroids = 8\n",
    "- size_of_datasets = 7\n",
    "- number_of_instances = [1000, 10000]\n",
    "- number_of_features = [1000, 10000]\n",
    "- density = 0.01\n",
    "- fraction_of_density = 0.2\n",
    "- n_neighbors_sklearn = 5\n",
    "- n_neighbors_minHash = 5"
   ]
  },
  {
   "cell_type": "code",
   "execution_count": 6,
   "metadata": {
    "collapsed": false
   },
   "outputs": [],
   "source": [
    "seed = 6\n",
    "centroids = 8\n",
    "size_of_datasets = 7\n",
    "number_of_instances = [1000, 10000]\n",
    "number_of_features = [1000, 10000]\n",
    "density = 0.01\n",
    "fraction_of_density = 0.2\n",
    "n_neighbors_sklearn = 5\n",
    "n_neighbors_minHash = 5\n",
    "dataset_array = []\n",
    "for instances in number_of_instances:\n",
    "    for features in number_of_features:\n",
    "        dataset, y = create_dataset(seed=seed, number_of_centroids=centroids, number_of_instances=instances,\n",
    "                                         number_of_features=features,density = density,\n",
    "                                         fraction_of_density=fraction_of_density, size_of_dataset = size_of_datasets)\n",
    "        dataset_array.append(dataset)\n",
    "\n",
    "returnValues = measure_peformance(dataset_array, n_neighbors_sklearn, n_neighbors_minHash)\n",
    "\n",
    "xticks = []\n",
    "for i in number_of_instances:\n",
    "    for j in number_of_features:\n",
    "        tick = str(i)\n",
    "        tick += \"/\"\n",
    "        tick += str(j)\n",
    "        xticks.append(tick)\n",
    "# data, color, label, title, xticks, ylabel, number_of_instances, number_of_features,figure_size=(10,5),  bar_width=0.1,log=True\n",
    "# plot query time for 50 times one query\n"
   ]
  },
  {
   "cell_type": "markdown",
   "metadata": {},
   "source": [
    "####Query time for x queries in one query"
   ]
  },
  {
   "cell_type": "code",
   "execution_count": 12,
   "metadata": {
    "collapsed": false
   },
   "outputs": [
    {
     "data": {
      "image/png": "[encoded data removed]",
      "text/plain": [
       "<matplotlib.figure.Figure at 0x7f45883ad550>"
      ]
     },
     "metadata": {},
     "output_type": "display_data"
    }
   ],
   "source": [
    "plotData(data=returnValues[3:7], color=[\"r\", \"b\", \"m\", \"g\"], label=[\"sklearn\", \"minHash_exact\", \"minHash_approx\", \"lhsf\"],\n",
    "        xticks=xticks, ylabel=\"Time in seconds\", number_of_instances=len(number_of_instances),\n",
    "        number_of_features=len(number_of_features), title='Query time: 50 calls for a single query')"
   ]
  },
  {
   "cell_type": "markdown",
   "metadata": {},
   "source": [
    "####Query time for one time x queries"
   ]
  },
  {
   "cell_type": "code",
   "execution_count": 13,
   "metadata": {
    "collapsed": false
   },
   "outputs": [
    {
     "data": {
      "image/png": "[encoded data removed]",
      "text/plain": [
       "<matplotlib.figure.Figure at 0x7f45883ad110>"
      ]
     },
     "metadata": {},
     "output_type": "display_data"
    }
   ],
   "source": [
    "plotData(data=returnValues[7:11], color=[\"r\", \"b\", \"m\", \"g\"], label=[\"sklearn\", \"minHash_exact\", \"minHash_approx\", \"lhsf\"],\n",
    "        xticks=xticks, ylabel=\"Time in seconds\", number_of_instances=len(number_of_instances),\n",
    "        number_of_features=len(number_of_features), title='Query time: one call for 50 queries')"
   ]
  },
  {
   "cell_type": "markdown",
   "metadata": {},
   "source": [
    "####Accuracy for different datasets"
   ]
  },
  {
   "cell_type": "code",
   "execution_count": 6,
   "metadata": {
    "collapsed": false
   },
   "outputs": [
    {
     "data": {
      "image/png": "[encoded data removed]",
      "text/plain": [
       "<matplotlib.figure.Figure at 0x7f4d3037a150>"
      ]
     },
     "metadata": {},
     "output_type": "display_data"
    }
   ],
   "source": [
    "plotData(data=returnValues[11:], color=[\"g\", \"b\", \"m\"], label=[\"lhsf\", \"minHash_exact\", \"minHash_approx\"],\n",
    "        xticks=xticks, ylabel=\"Accuracy\", number_of_instances=len(number_of_instances),\n",
    "        number_of_features=len(number_of_features), title='Accuracy', log=False)"
   ]
  },
  {
   "cell_type": "markdown",
   "metadata": {},
   "source": [
    "## Non-zero elements are fixed\n",
    "\n",
    "For the dataset the following parameters are used:\n",
    "- seed=5\n",
    "- number_of_centroids=7,\n",
    "- number_of_instances=[100]\n",
    "- number_of_features=[int(1e3)]\n",
    "- size_of_dataset=8\n",
    "- non_zero_elements=10\n",
    "- fraction_of_density=0.2\n",
    "                 "
   ]
  },
  {
   "cell_type": "code",
   "execution_count": 15,
   "metadata": {
    "collapsed": false
   },
   "outputs": [
    {
     "name": "stdout",
     "output_type": "stream",
     "text": [
      "Desity: 0.01\n",
      "Desity: 0.001\n",
      "Desity: 0.0001\n"
     ]
    }
   ],
   "source": [
    "number_of_instances = [100]\n",
    "number_of_features = [int(1e3), int(1e4), int(1e5)]\n",
    "dataset_array = []\n",
    "for instances in number_of_instances:\n",
    "    for features in number_of_features:\n",
    "        dataset_fixed, y = create_dataset_fixed_nonzero(seed=5,\n",
    "                   number_of_centroids=7,\n",
    "                   number_of_instances=instances,\n",
    "                   number_of_features=features,\n",
    "                   size_of_dataset=8,\n",
    "                   non_zero_elements=10,\n",
    "                   fraction_of_density=0.2)\n",
    "        dataset_array.append(dataset_fixed)\n",
    "returnValuesNonZero = measure_peformance(dataset_array, n_neighbors_sklearn, n_neighbors_minHash)\n"
   ]
  },
  {
   "cell_type": "markdown",
   "metadata": {},
   "source": [
    "####Query time: 50 calls for a single query"
   ]
  },
  {
   "cell_type": "code",
   "execution_count": 16,
   "metadata": {
    "collapsed": false
   },
   "outputs": [
    {
     "data": {
      "image/png": "[encoded data removed]",
      "text/plain": [
       "<matplotlib.figure.Figure at 0x7f45792aaad0>"
      ]
     },
     "metadata": {},
     "output_type": "display_data"
    }
   ],
   "source": [
    "plotData(data=returnValuesNonZero[3:7], color=[\"r\", \"b\", \"m\", \"g\"], label=[\"sklearn\", \"minHash_exact\", \"minHash_approx\", \"lhsf\"],\n",
    "        xticks=xticks, ylabel=\"Time in seconds\", number_of_instances=len(number_of_instances),\n",
    "        number_of_features=len(number_of_features), title='Query time: 50 calls for a single query')"
   ]
  },
  {
   "cell_type": "markdown",
   "metadata": {},
   "source": [
    "####Query time: one call for 50 queries"
   ]
  },
  {
   "cell_type": "code",
   "execution_count": 17,
   "metadata": {
    "collapsed": false
   },
   "outputs": [
    {
     "data": {
      "image/png": "[encoded data removed]",
      "text/plain": [
       "<matplotlib.figure.Figure at 0x7f4578e63a50>"
      ]
     },
     "metadata": {},
     "output_type": "display_data"
    }
   ],
   "source": [
    "plotData(data=returnValuesNonZero[7:11], color=[\"r\", \"b\", \"m\", \"g\"], label=[\"sklearn\", \"minHash_exact\", \"minHash_approx\", \"lhsf\"],\n",
    "        xticks=xticks, ylabel=\"Time in seconds\", number_of_instances=len(number_of_instances),\n",
    "        number_of_features=len(number_of_features), title='Query time: one call for 50 queries')"
   ]
  },
  {
   "cell_type": "markdown",
   "metadata": {},
   "source": [
    "####Accuracy for different datasets"
   ]
  },
  {
   "cell_type": "code",
   "execution_count": 35,
   "metadata": {
    "collapsed": false
   },
   "outputs": [
    {
     "data": {
      "image/png": "[encoded data removed]",
      "text/plain": [
       "<matplotlib.figure.Figure at 0x7f45743b9f50>"
      ]
     },
     "metadata": {},
     "output_type": "display_data"
    }
   ],
   "source": [
    "plotData(data=returnValuesNonZero[11:], color=[\"r\", \"b\", \"g\"], label=[\"lhsf\", \"minHash_exact\", \"minHash_approx\"],\n",
    "        xticks=xticks, ylabel=\"Accuracy\", number_of_instances=len(number_of_instances),\n",
    "        number_of_features=len(number_of_features), title='Accuracy', log=False)"
   ]
  },
  {
   "cell_type": "markdown",
   "metadata": {},
   "source": [
    "##Bursi dataset"
   ]
  },
  {
   "cell_type": "code",
   "execution_count": 7,
   "metadata": {
    "collapsed": false
   },
   "outputs": [],
   "source": [
    "from eden.converter.graph.gspan import gspan_to_eden\n",
    "from eden.graph import Vectorizer\n",
    "graphs = gspan_to_eden( 'http://www.bioinf.uni-freiburg.de/~costa/bursi.gspan' )\n",
    "vectorizer = Vectorizer( r=2,d=5 )\n",
    "datasetBursi = vectorizer.transform( graphs )"
   ]
  },
  {
   "cell_type": "code",
   "execution_count": 8,
   "metadata": {
    "collapsed": false
   },
   "outputs": [],
   "source": [
    "n_neighbors_sklearn = 5\n",
    "n_neighbors_minHash = 5\n",
    "returnValuesBursi = measure_peformance([datasetBursi], n_neighbors_sklearn, n_neighbors_minHash)"
   ]
  },
  {
   "cell_type": "markdown",
   "metadata": {},
   "source": [
    "####Query time: 50 calls for a single query"
   ]
  },
  {
   "cell_type": "code",
   "execution_count": 9,
   "metadata": {
    "collapsed": false
   },
   "outputs": [
    {
     "data": {
      "image/png": "[encoded data removed]",
      "text/plain": [
       "<matplotlib.figure.Figure at 0x7f4d15f4fe90>"
      ]
     },
     "metadata": {},
     "output_type": "display_data"
    }
   ],
   "source": [
    "plotData(data=returnValuesBursi[3:7], color=[\"r\", \"b\", \"m\", \"g\"], label=[\"sklearn\", \"minHash_exact\", \"minHash_approx\", \"lhsf\"],\n",
    "        xticks=[\"bursi\"], ylabel=\"Time in seconds\", number_of_instances=1,\n",
    "        number_of_features=1, title='Query time: 50 calls for a single query')"
   ]
  },
  {
   "cell_type": "markdown",
   "metadata": {},
   "source": [
    "####Query time: one call for 50 queries"
   ]
  },
  {
   "cell_type": "code",
   "execution_count": 10,
   "metadata": {
    "collapsed": false
   },
   "outputs": [
    {
     "data": {
      "image/png": "[encoded data removed]",
      "text/plain": [
       "<matplotlib.figure.Figure at 0x7f4d054d1450>"
      ]
     },
     "metadata": {},
     "output_type": "display_data"
    }
   ],
   "source": [
    "plotData(data=returnValuesBursi[7:11], color=[\"r\", \"b\", \"m\", \"g\"], label=[\"sklearn\", \"minHash_exact\", \"minHash_approx\", \"lhsf\"],\n",
    "        xticks=[\"bursi\"], ylabel=\"Time in seconds\", number_of_instances=1,\n",
    "        number_of_features=1, title='Query time: one call for 50 queries')"
   ]
  },
  {
   "cell_type": "markdown",
   "metadata": {},
   "source": [
    "####Accuracy for different datasets"
   ]
  },
  {
   "cell_type": "code",
   "execution_count": 11,
   "metadata": {
    "collapsed": false
   },
   "outputs": [
    {
     "data": {
      "image/png": "[encoded data removed]",
      "text/plain": [
       "<matplotlib.figure.Figure at 0x7f4d05aeeb10>"
      ]
     },
     "metadata": {},
     "output_type": "display_data"
    }
   ],
   "source": [
    "plotData(data=returnValuesBursi[11:], color=[\"g\", \"b\", \"m\"], label=[\"lhsf\", \"minHash_exact\", \"minHash_approx\"],\n",
    "        xticks=[\"bursi\"], ylabel=\"Accuracy\", number_of_instances=1,\n",
    "        number_of_features=1, title='Accuracy', log=False)"
   ]
  },
  {
   "cell_type": "markdown",
   "metadata": {
    "collapsed": true
   },
   "source": [
    "####Accuracy vs. number of hash functions"
   ]
  },
  {
   "cell_type": "code",
   "execution_count": 12,
   "metadata": {
    "collapsed": false
   },
   "outputs": [],
   "source": [
    "precision_minHash_exact = []\n",
    "precision_minHash_approx = []\n",
    "time_minHash_exact = []\n",
    "time_minHash_approx = []\n",
    "time_minHash_fit = []\n",
    "size_of_query = 1000\n",
    "query = None\n",
    "\n",
    "\n",
    "if size_of_query < datasetBursi.shape[0]:\n",
    "    query_ids = []\n",
    "    for i in range(size_of_query):\n",
    "        query_ids.append(random.randint(0, datasetBursi.shape[0]-1))\n",
    "    query = datasetBursi[query_ids]\n",
    "else:\n",
    "    query = datasetBursi\n",
    "\n",
    "nearest_neighbor_sklearn = NearestNeighbors(n_neighbors = 5)\n",
    "nearest_neighbor_sklearn.fit(datasetBursi)\n",
    "n_neighbors_sklearn = nearest_neighbor_sklearn.kneighbors(X=query,return_distance=False)\n",
    "\n",
    "hash_functions_list = [50, 100, 200, 400, 800, 1600, 3200]\n",
    "for hash_functions in hash_functions_list:    \n",
    "\n",
    "    nearest_neighbor_minHash = kneighbors.MinHashNearestNeighbors(n_neighbors = 5, number_of_hash_functions=hash_functions)\n",
    "\n",
    "    time_start = time.time()\n",
    "    nearest_neighbor_minHash.fit(datasetBursi)\n",
    "    # print nearest_neighbor_minHash._inverseIndex._inverse_index\n",
    "    time_end = time.time()\n",
    "    time_minHash_fit.append(time_end - time_start)\n",
    "\n",
    "    time_start = time.time()\n",
    "    n_neighbors_minHash_exact = nearest_neighbor_minHash.kneighbors(X=query,return_distance=False)\n",
    "    time_end = time.time()\n",
    "    time_minHash_exact.append(time_end - time_start)\n",
    "\n",
    "\n",
    "    time_start = time.time()\n",
    "    n_neighbors_minHash_approx = nearest_neighbor_minHash.kneighbors(X=query,fast=True,return_distance=False)\n",
    "    # print n_neighbors_minHash_approx_1_50\n",
    "    time_end = time.time()\n",
    "    time_minHash_approx.append(time_end - time_start)\n",
    "\n",
    "\n",
    "    accuracy_minHash_exact = np.in1d(n_neighbors_minHash_exact, n_neighbors_sklearn).mean()\n",
    "    accuracy_minHash_approx = np.in1d(n_neighbors_minHash_approx, n_neighbors_sklearn).mean()\n",
    "    precision_minHash_exact.append(accuracy_minHash_exact)\n",
    "    precision_minHash_approx.append(accuracy_minHash_approx)\n",
    "   \n",
    "xticksBursi = []\n",
    "for i in hash_functions_list:\n",
    "    xticksBursi.append(str(i))"
   ]
  },
  {
   "cell_type": "code",
   "execution_count": 13,
   "metadata": {
    "collapsed": false
   },
   "outputs": [
    {
     "data": {
      "image/png": "[encoded data removed]",
      "text/plain": [
       "<matplotlib.figure.Figure at 0x7f4d060af7d0>"
      ]
     },
     "metadata": {},
     "output_type": "display_data"
    }
   ],
   "source": [
    "plotData(data=[precision_minHash_exact, precision_minHash_approx], color=[\"g\", \"b\"], label=[\"minHash_exact\", \"minHash_approx\"],\n",
    "        xticks=xticksBursi, ylabel=\"Accuracy\", number_of_instances=len(hash_functions_list),\n",
    "        number_of_features=1, title='Accuracy', log=False)"
   ]
  },
  {
   "cell_type": "markdown",
   "metadata": {},
   "source": [
    "####Test the fitting time of single-core vs. multi-core for different number of hash functions\n",
    "As a dataset \"bursi\" is used."
   ]
  },
  {
   "cell_type": "code",
   "execution_count": 14,
   "metadata": {
    "collapsed": false
   },
   "outputs": [],
   "source": [
    "import multiprocessing as mp\n",
    "time_fit = []\n",
    "time_fit_single_core = []\n",
    "hash_functions_list = [100, 400, 600, 800, 1000]\n",
    "for hash_functions in hash_functions_list:    \n",
    "\n",
    "    nearest_neighbor_minHash = kneighbors.MinHashNearestNeighbors(number_of_hash_functions=hash_functions, number_of_cores = mp.cpu_count())\n",
    "    nearest_neighbor_minHash_single_core = kneighbors.MinHashNearestNeighbors(number_of_hash_functions=hash_functions, number_of_cores=1)\n",
    "\n",
    "    time_start = time.time()\n",
    "    nearest_neighbor_minHash.fit(datasetBursi)\n",
    "    time_end = time.time()\n",
    "    time_fit.append(time_end - time_start)\n",
    "    \n",
    "    time_start = time.time()\n",
    "    nearest_neighbor_minHash_single_core.fit(datasetBursi)\n",
    "    time_end = time.time()\n",
    "    time_fit_single_core.append(time_end - time_start)\n",
    "\n",
    "xticksBursi = []\n",
    "for i in hash_functions_list:\n",
    "    xticksBursi.append(str(i))"
   ]
  },
  {
   "cell_type": "code",
   "execution_count": 50,
   "metadata": {
    "collapsed": false
   },
   "outputs": [
    {
     "data": {
      "image/png": "[encoded data removed]",
      "text/plain": [
       "<matplotlib.figure.Figure at 0x7f4578c7eb90>"
      ]
     },
     "metadata": {},
     "output_type": "display_data"
    }
   ],
   "source": [
    "plotData(data=[time_fit, time_fit_single_core], color=[\"g\", \"b\"], label=[\"multicore\", \"singlecore\"],\n",
    "        xticks=xticksBursi, ylabel=\"Fitting time\", number_of_instances=len(hash_functions_list),\n",
    "        number_of_features=1, title='Fitting time for multicore vs. singlecore', log=False)"
   ]
  },
  {
   "cell_type": "markdown",
   "metadata": {},
   "source": [
    "####Test the fitting time of single-core vs. multi-core for datasets with different number of instances"
   ]
  },
  {
   "cell_type": "code",
   "execution_count": null,
   "metadata": {
    "collapsed": false
   },
   "outputs": [],
   "source": [
    "import multiprocessing as mp\n",
    "\n",
    "time_fit = []\n",
    "time_fit_single_core = []\n",
    "instances = [100,1000,10000, 100000]\n",
    "\n",
    "for instances_ in instances:    \n",
    "    X, _ = create_dataset(seed=1,\n",
    "                   number_of_centroids=7,\n",
    "                   number_of_instances=instances_,\n",
    "                   number_of_features=100,\n",
    "                   size_of_dataset=8,\n",
    "                   density=0.01,\n",
    "                   fraction_of_density=0.2\n",
    "                   )\n",
    "    nearest_neighbor_minHash = kneighbors.MinHashNearestNeighbors(number_of_cores = mp.cpu_count())\n",
    "    nearest_neighbor_minHash_single_core = kneighbors.MinHashNearestNeighbors(number_of_cores=1)\n",
    "\n",
    "    time_start = time.time()\n",
    "    nearest_neighbor_minHash.fit(X)\n",
    "    time_end = time.time()\n",
    "    time_fit.append(time_end - time_start)\n",
    "    \n",
    "    time_start = time.time()\n",
    "    nearest_neighbor_minHash_single_core.fit(X)\n",
    "    time_end = time.time()\n",
    "    time_fit_single_core.append(time_end - time_start)\n",
    "xticksBursi = []\n",
    "for i in instances:\n",
    "    xticksBursi.append(str(i))\n"
   ]
  },
  {
   "cell_type": "code",
   "execution_count": 10,
   "metadata": {
    "collapsed": false
   },
   "outputs": [
    {
     "data": {
      "image/png": "[encoded data removed]",
      "text/plain": [
       "<matplotlib.figure.Figure at 0x7f47f3fd0cd0>"
      ]
     },
     "metadata": {},
     "output_type": "display_data"
    }
   ],
   "source": [
    "plotData(data=[time_fit, time_fit_single_core], color=[\"g\", \"b\"], label=[\"multicore\", \"singlecore\"],\n",
    "        xticks=xticksBursi, ylabel=\"Fitting time\", number_of_instances=len(instances),\n",
    "        number_of_features=1, title='Fitting time for multicore vs. singlecore', log=True)"
   ]
  },
  {
   "cell_type": "code",
   "execution_count": null,
   "metadata": {
    "collapsed": true
   },
   "outputs": [],
   "source": []
  }
 ],
 "metadata": {
  "kernelspec": {
   "display_name": "Python 2",
   "language": "python",
   "name": "python2"
  },
  "language_info": {
   "codemirror_mode": {
    "name": "ipython",
    "version": 2
   },
   "file_extension": ".py",
   "mimetype": "text/x-python",
   "name": "python",
   "nbconvert_exporter": "python",
   "pygments_lexer": "ipython2",
   "version": "2.7.6"
  }
 },
 "nbformat": 4,
 "nbformat_minor": 0
}
