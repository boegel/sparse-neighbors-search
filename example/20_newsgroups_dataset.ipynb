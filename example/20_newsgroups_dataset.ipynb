{
 "cells": [
  {
   "cell_type": "markdown",
   "metadata": {},
   "source": [
    "# Benchmark with the 20 newsgroups dataset"
   ]
  },
  {
   "cell_type": "code",
   "execution_count": 1,
   "metadata": {
    "collapsed": false
   },
   "outputs": [],
   "source": [
    "%matplotlib inline\n",
    "from bioinf_learn.util import measure_performance\n",
    "from bioinf_learn.util import plotData\n",
    "from sklearn.datasets import fetch_20newsgroups\n",
    "from sklearn.feature_extraction.text import TfidfVectorizer"
   ]
  },
  {
   "cell_type": "code",
   "execution_count": 2,
   "metadata": {
    "collapsed": false
   },
   "outputs": [],
   "source": [
    "categories = ['alt.atheism', 'talk.religion.misc', 'comp.graphics', 'sci.space']\n",
    "newsgroups_train = fetch_20newsgroups(subset='train', categories=categories)\n",
    "vectorizer = TfidfVectorizer()\n",
    "vectors_training = vectorizer.fit_transform(newsgroups_train.data)\n",
    "\n",
    "newsgroups_test = fetch_20newsgroups(subset='test',remove=('headers', 'footers', 'quotes'), categories=categories)\n",
    "vectors_test = vectorizer.transform(newsgroups_test.data)"
   ]
  },
  {
   "cell_type": "code",
   "execution_count": null,
   "metadata": {
    "collapsed": false
   },
   "outputs": [],
   "source": [
    "n_neighbors_sklearn = 10\n",
    "n_neighbors_minHash = 10\n",
    "returnValuesBursi = measure_performance(vectors_test, n_neighbors_sklearn, n_neighbors_minHash, \n",
    "                                        number_of_hashfunctions=[100, 200, 400, 600, 800, 1000])"
   ]
  },
  {
   "cell_type": "code",
   "execution_count": null,
   "metadata": {
    "collapsed": true
   },
   "outputs": [],
   "source": [
    "plotData(data=returnValuesBursi[9:13], color=[\"r\", \"b\", \"m\", \"g\"], label=[\"sklearn\", \"minHash_exact\", \"minHash_approx\", \"lhsf\"],\n",
    "        xticks=[\"100\", \"200\", \"400\", \"600\", \"800\", \"1000\"], ylabel=\"Time in seconds\", number_of_instances=6,\n",
    "        xlabel=\"Number of projected dimensions. For minHash theses are the number of hash functions, for lshf the reduction by random projection\",\n",
    "         number_of_features=1, title='Query time: Perform one time 50 queries at once')"
   ]
  },
  {
   "cell_type": "code",
   "execution_count": null,
   "metadata": {
    "collapsed": true
   },
   "outputs": [],
   "source": [
    "\n",
    "\n",
    "plotData(data=returnValuesBursi[4:9], color=[\"r\", \"b\", \"m\", \"g\", \"c\"], label=[\"sklearn\", \"minHash_exact\", \"minHash_approx\", \"lhsf\", \"annoy\"],\n",
    "        xticks=[\"100\", \"200\", \"400\", \"600\", \"800\", \"1000\"], ylabel=\"Time in seconds\", \n",
    "         xlabel=\"Number of projected dimensions, only for lhsf and annoy. Rest uses sparse dataset\",\n",
    "         number_of_instances=6,\n",
    "        number_of_features=1, title='Query time: performe 50 times one query')\n",
    "\n"
   ]
  },
  {
   "cell_type": "code",
   "execution_count": null,
   "metadata": {
    "collapsed": true
   },
   "outputs": [],
   "source": [
    "plotData(data=returnValuesBursi[13:], color=[\"g\", \"b\", \"m\", \"c\"], label=[\"lhsf\", \"minHash_exact\", \"minHash_approx\", \"annoy\"],\n",
    "        xticks=[\"100\", \"200\", \"400\", \"600\", \"800\", \"1000\"],\n",
    "         xlabel=\"Number of projected dimensions, only for lhsf and annoy. Rest uses sparse dataset\",\n",
    "         ylabel=\"Accuracy\", number_of_instances=6,\n",
    "        number_of_features=1, title='Accuracy', log=False)"
   ]
  },
  {
   "cell_type": "code",
   "execution_count": null,
   "metadata": {
    "collapsed": true
   },
   "outputs": [],
   "source": [
    "plotData(data=returnValuesBursi[:4], color=[\"r\", \"b\", \"g\", \"c\"], label=[\"sklearn\", \"minHash\", \"lshf\", \"annoy\"],\n",
    "        xticks=[\"100\", \"200\", \"400\", \"600\", \"800\", \"1000\"], \n",
    "         xlabel=\"Number of projected dimensions, only for lhsf and annoy. Rest uses sparse dataset\",\n",
    "         ylabel=\"Time in Seconds\", number_of_instances=6,\n",
    "        number_of_features=1, title='Fitting time', log=False)"
   ]
  },
  {
   "cell_type": "code",
   "execution_count": null,
   "metadata": {
    "collapsed": true
   },
   "outputs": [],
   "source": [
    "\n",
    "\n",
    "n_neighbors_sklearn = 5\n",
    "n_neighbors_minHash = 5\n",
    "returnValuesBursi = measure_performance(datasetBursi, n_neighbors_sklearn, n_neighbors_minHash, \n",
    "                                        number_of_hashfunctions=[100, 200, 400, 600, 800, 1000], size_of_query=None)\n",
    "\n"
   ]
  },
  {
   "cell_type": "code",
   "execution_count": null,
   "metadata": {
    "collapsed": true
   },
   "outputs": [],
   "source": [
    "\n",
    "\n",
    "plotData(data=returnValuesBursi[9:13], color=[\"r\", \"b\", \"m\", \"g\"], label=[\"sklearn\", \"minHash_exact\", \"minHash_approx\", \"lhsf\"],\n",
    "        xticks=[\"100\", \"200\", \"400\", \"600\", \"800\", \"1000\"], ylabel=\"Time in seconds\", number_of_instances=6,\n",
    "        xlabel=\"Number of projected dimensions, only for lhsf. Rest uses sparse dataset\",\n",
    "         number_of_features=1, title='Query time: search for neighbors for all instances, one call for all')\n",
    "\n"
   ]
  },
  {
   "cell_type": "code",
   "execution_count": null,
   "metadata": {
    "collapsed": true
   },
   "outputs": [],
   "source": [
    "plotData(data=returnValuesBursi[4:9], color=[\"r\", \"b\", \"m\", \"g\", \"c\"], label=[\"sklearn\", \"minHash_exact\", \"minHash_approx\", \"lhsf\", \"annoy\"],\n",
    "        xticks=[\"100\", \"200\", \"400\", \"600\", \"800\", \"1000\"], ylabel=\"Time in seconds\", \n",
    "         xlabel=\"Number of projected dimensions, only for lhsf and annoy. Rest uses sparse dataset\",\n",
    "         number_of_instances=6,\n",
    "        number_of_features=1, title='Query time: search for neighbors for all instances, one call per instance')"
   ]
  },
  {
   "cell_type": "code",
   "execution_count": null,
   "metadata": {
    "collapsed": true
   },
   "outputs": [],
   "source": [
    "plotData(data=returnValuesBursi[13:], color=[\"g\", \"b\", \"m\", \"c\"], label=[\"lhsf\", \"minHash_exact\", \"minHash_approx\", \"annoy\"],\n",
    "        xticks=[\"100\", \"200\", \"400\", \"600\", \"800\", \"1000\"],\n",
    "         xlabel=\"Number of projected dimensions, only for lhsf and annoy. Rest uses sparse dataset\",\n",
    "         ylabel=\"Accuracy\", number_of_instances=6,\n",
    "        number_of_features=1, title='Accuracy', log=False)"
   ]
  },
  {
   "cell_type": "code",
   "execution_count": null,
   "metadata": {
    "collapsed": true
   },
   "outputs": [],
   "source": [
    "plotData(data=returnValuesBursi[:4], color=[\"r\", \"b\", \"g\", \"c\"], label=[\"sklearn\", \"minHash\", \"lshf\", \"annoy\"],\n",
    "        xticks=[\"100\", \"200\", \"400\", \"600\", \"800\", \"1000\"],\n",
    "         xlabel=\"Number of projected dimensions, only for lhsf and annoy. Rest uses sparse dataset\",\n",
    "         ylabel=\"Time in Seconds\", number_of_instances=6,\n",
    "        number_of_features=1, title='Fitting time', log=False)"
   ]
  },
  {
   "cell_type": "code",
   "execution_count": null,
   "metadata": {
    "collapsed": true
   },
   "outputs": [],
   "source": []
  },
  {
   "cell_type": "code",
   "execution_count": null,
   "metadata": {
    "collapsed": true
   },
   "outputs": [],
   "source": []
  },
  {
   "cell_type": "code",
   "execution_count": 3,
   "metadata": {
    "collapsed": true
   },
   "outputs": [],
   "source": [
    "benchmarkResults200 = benchmarkNearestNeighorAlgorithms(vectors_training, n_neighbors = 10, reduce_dimensions_to=200)\n",
    "benchmarkResults400 = benchmarkNearestNeighorAlgorithms(vectors_training, n_neighbors = 10, reduce_dimensions_to=400)\n",
    "benchmarkResults800 = benchmarkNearestNeighorAlgorithms(vectors_training, n_neighbors = 10, reduce_dimensions_to=800)\n",
    "benchmarkResults1600 = benchmarkNearestNeighorAlgorithms(vectors_training, n_neighbors = 10, reduce_dimensions_to=1600)"
   ]
  },
  {
   "cell_type": "code",
   "execution_count": null,
   "metadata": {
    "collapsed": true
   },
   "outputs": [],
   "source": [
    "label = [\"sklearn\", \"minHash\", \"minHash_fast\", \"lhsf\", \"annoy\", \"ball tree\", \"KDTree\", \"FLANN\", \"PANNS\", \n",
    "        \"NearPy\", \"KGraph\", \"Nmslib\", \"RPForest\"]\n",
    "xticks=[\"200\", \"400\", \"800\", \"1600\"]\n",
    "xlabel=\"Number of projected dimensions. If dataset could handle sparse data, then no projection is used.\"\n",
    "ylabel=\"Time in seconds\""
   ]
  },
  {
   "cell_type": "markdown",
   "metadata": {},
   "source": [
    "#### Accuracy"
   ]
  },
  {
   "cell_type": "code",
   "execution_count": 10,
   "metadata": {
    "collapsed": false
   },
   "outputs": [
    {
     "data": {
      "image/png": "[encoded data removed]",
      "text/plain": [
       "<matplotlib.figure.Figure at 0x7f8a171d95d0>"
      ]
     },
     "metadata": {},
     "output_type": "display_data"
    }
   ],
   "source": [
    "data = [benchmarkResults200[0], benchmarkResults400[0], benchmarkResults800[0], benchmarkResults1600[0]]\n",
    "title = \"Accuracy for 10-neighbors of all instances for sklearn's 20 newsgroups dataset\"\n",
    "plotDataBenchmark(data=data, label=label, xticks=xticks, xlabel=xlabel, ylabel=ylabel, title=title, log=False)"
   ]
  },
  {
   "cell_type": "markdown",
   "metadata": {},
   "source": [
    "#### Fitting time"
   ]
  },
  {
   "cell_type": "code",
   "execution_count": 11,
   "metadata": {
    "collapsed": false
   },
   "outputs": [
    {
     "data": {
      "image/png": "[encoded data removed]",
      "text/plain": [
       "<matplotlib.figure.Figure at 0x7f8a173f59d0>"
      ]
     },
     "metadata": {},
     "output_type": "display_data"
    }
   ],
   "source": [
    "data = [benchmarkResults200[1], benchmarkResults400[1], benchmarkResults800[1], benchmarkResults1600[1]]\n",
    "title = \"Fitting time for sklearn's 20 newsgroups dataset\"\n",
    "plotDataBenchmark(data=data, label=label, xticks=xticks, xlabel=xlabel, ylabel=ylabel, title=title, log=False)"
   ]
  },
  {
   "cell_type": "markdown",
   "metadata": {},
   "source": [
    "#### Query time for all instances"
   ]
  },
  {
   "cell_type": "code",
   "execution_count": 1,
   "metadata": {
    "collapsed": false
   },
   "outputs": [
    {
     "ename": "NameError",
     "evalue": "name 'benchmarkResults200' is not defined",
     "output_type": "error",
     "traceback": [
      "\u001b[1;31m---------------------------------------------------------------------------\u001b[0m",
      "\u001b[1;31mNameError\u001b[0m                                 Traceback (most recent call last)",
      "\u001b[1;32m<ipython-input-1-51c99c6ac9dd>\u001b[0m in \u001b[0;36m<module>\u001b[1;34m()\u001b[0m\n\u001b[1;32m----> 1\u001b[1;33m \u001b[0mdata\u001b[0m \u001b[1;33m=\u001b[0m \u001b[1;33m[\u001b[0m\u001b[0mbenchmarkResults200\u001b[0m\u001b[1;33m[\u001b[0m\u001b[1;36m2\u001b[0m\u001b[1;33m]\u001b[0m\u001b[1;33m,\u001b[0m \u001b[0mbenchmarkResults400\u001b[0m\u001b[1;33m[\u001b[0m\u001b[1;36m2\u001b[0m\u001b[1;33m]\u001b[0m\u001b[1;33m,\u001b[0m \u001b[0mbenchmarkResults800\u001b[0m\u001b[1;33m[\u001b[0m\u001b[1;36m2\u001b[0m\u001b[1;33m]\u001b[0m\u001b[1;33m,\u001b[0m \u001b[0mbenchmarkResults1600\u001b[0m\u001b[1;33m[\u001b[0m\u001b[1;36m2\u001b[0m\u001b[1;33m]\u001b[0m\u001b[1;33m]\u001b[0m\u001b[1;33m\u001b[0m\u001b[0m\n\u001b[0m\u001b[0;32m      2\u001b[0m \u001b[0mtitle\u001b[0m \u001b[1;33m=\u001b[0m \u001b[1;34m\"Query time for 10-neighbors of all instances for sklearn's 20 newsgroups dataset\"\u001b[0m\u001b[1;33m\u001b[0m\u001b[0m\n\u001b[0;32m      3\u001b[0m \u001b[0mplotDataBenchmark\u001b[0m\u001b[1;33m(\u001b[0m\u001b[0mdata\u001b[0m\u001b[1;33m=\u001b[0m\u001b[0mdata\u001b[0m\u001b[1;33m,\u001b[0m \u001b[0mlabel\u001b[0m\u001b[1;33m=\u001b[0m\u001b[0mlabel\u001b[0m\u001b[1;33m,\u001b[0m \u001b[0mxticks\u001b[0m\u001b[1;33m=\u001b[0m\u001b[0mxticks\u001b[0m\u001b[1;33m,\u001b[0m \u001b[0mxlabel\u001b[0m\u001b[1;33m=\u001b[0m\u001b[0mxlabel\u001b[0m\u001b[1;33m,\u001b[0m \u001b[0mylabel\u001b[0m\u001b[1;33m=\u001b[0m\u001b[0mylabel\u001b[0m\u001b[1;33m,\u001b[0m \u001b[0mtitle\u001b[0m\u001b[1;33m=\u001b[0m\u001b[0mtitle\u001b[0m\u001b[1;33m)\u001b[0m\u001b[1;33m\u001b[0m\u001b[0m\n",
      "\u001b[1;31mNameError\u001b[0m: name 'benchmarkResults200' is not defined"
     ]
    }
   ],
   "source": [
    "data = [benchmarkResults200[2], benchmarkResults400[2], benchmarkResults800[2], benchmarkResults1600[2]]\n",
    "title = \"Query time for 10-neighbors of all instances for sklearn's 20 newsgroups dataset\"\n",
    "plotDataBenchmark(data=data, label=label, xticks=xticks, xlabel=xlabel, ylabel=ylabel, title=title)"
   ]
  },
  {
   "cell_type": "markdown",
   "metadata": {},
   "source": [
    "#### Fitting and query time"
   ]
  },
  {
   "cell_type": "code",
   "execution_count": null,
   "metadata": {
    "collapsed": true
   },
   "outputs": [],
   "source": [
    "for i in xrange(len(benchmarkResults[1])):\n",
    "        benchmarkResults[1][i] += benchmarkResults[2][i]\n",
    "data = [benchmarkResults200[1], benchmarkResults400[1], benchmarkResults800[1], benchmarkResults1600[1]]\n",
    "title = \"Fitting and query time for sklearn's 20 newsgroups dataset\"\n",
    "plotDataBenchmark(data=data, label=label, xticks=xticks, xlabel=xlabel, ylabel=ylabel, title=title, log=False)"
   ]
  }
 ],
 "metadata": {
  "kernelspec": {
   "display_name": "Python 2",
   "language": "python",
   "name": "python2"
  },
  "language_info": {
   "codemirror_mode": {
    "name": "ipython",
    "version": 2
   },
   "file_extension": ".py",
   "mimetype": "text/x-python",
   "name": "python",
   "nbconvert_exporter": "python",
   "pygments_lexer": "ipython2",
   "version": "2.7.6"
  }
 },
 "nbformat": 4,
 "nbformat_minor": 0
}
