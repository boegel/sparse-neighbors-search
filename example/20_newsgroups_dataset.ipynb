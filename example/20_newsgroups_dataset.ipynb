{
 "cells": [
  {
   "cell_type": "markdown",
   "metadata": {},
   "source": [
    "# Benchmark with the 20 newsgroups dataset"
   ]
  },
  {
   "cell_type": "code",
   "execution_count": null,
   "metadata": {
    "collapsed": true
   },
   "outputs": [],
   "source": [
    "%matplotlib inline\n",
    "import time\n",
    "import numpy as np\n",
    "from sklearn.datasets.samples_generator import make_blobs\n",
    "from sklearn.datasets import make_sparse_uncorrelated\n",
    "from sklearn.neighbors import NearestNeighbors\n",
    "from sklearn.neighbors import LSHForest\n",
    "import matplotlib.pyplot as plt\n",
    "from scipy.sparse import csr_matrix\n",
    "from scipy.sparse import coo_matrix\n",
    "import neighborsMinHash as kneighbors\n",
    "from neighborsMinHash.util import create_dataset\n",
    "from neighborsMinHash.util import create_dataset_fixed_nonzero\n",
    "from neighborsMinHash.util import measure_performance\n",
    "from neighborsMinHash.util import plotData\n",
    "\n",
    "\n",
    "import random\n",
    "\n",
    "from scipy.sparse import dok_matrix\n",
    "from scipy.sparse import rand\n",
    "from scipy.sparse import vstack\n",
    "\n",
    "from sklearn.random_projection import SparseRandomProjection\n",
    "\n",
    "import annoy\n",
    "\n",
    "from sklearn.datasets import fetch_20newsgroups\n",
    "from sklearn.feature_extraction.text import TfidfVectorizer"
   ]
  },
  {
   "cell_type": "code",
   "execution_count": null,
   "metadata": {
    "collapsed": true
   },
   "outputs": [],
   "source": [
    "categories = ['alt.atheism', 'talk.religion.misc', 'comp.graphics', 'sci.space']\n",
    "newsgroups_train = fetch_20newsgroups(subset='train', categories=categories)\n",
    "vectorizer = TfidfVectorizer()\n",
    "vectors_training = vectorizer.fit_transform(newsgroups_train.data)\n",
    "\n",
    "newsgroups_test = fetch_20newsgroups(subset='test',remove=('headers', 'footers', 'quotes'), categories=categories)\n",
    "vectors_test = vectorizer.transform(newsgroups_test.data)"
   ]
  },
  {
   "cell_type": "code",
   "execution_count": null,
   "metadata": {
    "collapsed": true
   },
   "outputs": [],
   "source": [
    "n_neighbors_sklearn = 5\n",
    "n_neighbors_minHash = 5\n",
    "returnValuesBursi = measure_performance([vectors_training]*9, n_neighbors_sklearn, n_neighbors_minHash, number_of_hashfunctions=2500, dataset_dense=projected_data)"
   ]
  },
  {
   "cell_type": "markdown",
   "metadata": {},
   "source": [
    "#### Query time: performe 50 times one query"
   ]
  },
  {
   "cell_type": "code",
   "execution_count": null,
   "metadata": {
    "collapsed": true
   },
   "outputs": [],
   "source": [
    "plotData(data=returnValuesBursi[4:9], color=[\"r\", \"b\", \"m\", \"g\", \"c\"], label=[\"sklearn\", \"minHash_exact\", \"minHash_approx\", \"lhsf\", \"annoy\"],\n",
    "        xticks=[\"50\", \"100\", \"200\", \"400\", \"800\", \"1600\", \"3200\", \"6400\", \"12800\"], ylabel=\"Time in seconds\", \n",
    "         xlabel=\"number of projected dimensions\", number_of_instances=9,\n",
    "        number_of_features=1, title='Query time: performe 50 times one query')"
   ]
  },
  {
   "cell_type": "markdown",
   "metadata": {},
   "source": [
    "#### Accuracy for bursi dataset"
   ]
  },
  {
   "cell_type": "code",
   "execution_count": null,
   "metadata": {
    "collapsed": true
   },
   "outputs": [],
   "source": [
    "plotData(data=returnValuesBursi[13:], color=[\"g\", \"b\", \"m\", \"c\"], label=[\"lhsf\", \"minHash_exact\", \"minHash_approx\", \"annoy\"],\n",
    "        xticks=[\"50\", \"100\", \"200\", \"400\", \"800\", \"1600\", \"3200\", \"6400\", \"12800\"], xlabel=\"number of projected dimensions\",\n",
    "         ylabel=\"Accuracy\", number_of_instances=9,\n",
    "        number_of_features=1, title='Accuracy', log=False)"
   ]
  },
  {
   "cell_type": "markdown",
   "metadata": {},
   "source": [
    "#### Fitting time"
   ]
  },
  {
   "cell_type": "code",
   "execution_count": null,
   "metadata": {
    "collapsed": true
   },
   "outputs": [],
   "source": [
    "plotData(data=returnValuesBursi[:4], color=[\"r\", \"b\", \"g\", \"c\"], label=[\"sklearn\", \"minHash\", \"lshf\", \"annoy\"],\n",
    "        xticks=[\"50\", \"100\", \"200\", \"400\", \"800\", \"1600\", \"3200\", \"6400\", \"12800\"], xlabel=\"number of projected dimensions\",\n",
    "         ylabel=\"Time in Seconds\", number_of_instances=9,\n",
    "        number_of_features=1, title='Fitting time', log=False)"
   ]
  }
 ],
 "metadata": {
  "kernelspec": {
   "display_name": "Python 2",
   "language": "python",
   "name": "python2"
  },
  "language_info": {
   "codemirror_mode": {
    "name": "ipython",
    "version": 2
   },
   "file_extension": ".py",
   "mimetype": "text/x-python",
   "name": "python",
   "nbconvert_exporter": "python",
   "pygments_lexer": "ipython2",
   "version": "2.7.6"
  }
 },
 "nbformat": 4,
 "nbformat_minor": 0
}
