{
 "cells": [
  {
   "cell_type": "code",
   "execution_count": 1,
   "metadata": {
    "collapsed": false
   },
   "outputs": [],
   "source": [
    "from sklearn.neighbors import KNeighborsClassifier\n",
    "from sklearn.metrics import accuracy_score\n",
    "\n",
    "from bioinf_learn.neighbors import MinHashClassifier\n",
    "from bioinf_learn.neighbors import WtaHashClassifier\n",
    "from bioinf_learn.util import neighborhood_accuracy"
   ]
  },
  {
   "cell_type": "code",
   "execution_count": 2,
   "metadata": {
    "collapsed": true
   },
   "outputs": [],
   "source": [
    "from eden.converter.rna.rnafold import rnafold_to_eden\n",
    "from eden.converter.fasta import fasta_to_sequence\n",
    "from eden.graph import Vectorizer\n",
    "from itertools import islice\n",
    "import numpy as np\n",
    "from scipy.sparse import vstack\n",
    "\n",
    "def rfam_uri(family_id):\n",
    "    return 'http://rfam.xfam.org/family/%s/alignment?acc=%s&format=fastau&download=0'%(family_id,family_id)\n",
    "\n",
    "def rfam_to_matrix(rfam_id, n_max=50, complexity=2, nbits=10):\n",
    "    seqs = fasta_to_sequence(rfam_uri(rfam_id))\n",
    "    seqs = islice(seqs,n_max)\n",
    "    seqs = list(seqs)\n",
    "    graphs = rnafold_to_eden(seqs)\n",
    "    vectorizer = Vectorizer(complexity=complexity, nbits=nbits, positional=True)\n",
    "    X = vectorizer.transform(graphs)\n",
    "    return X\n",
    "\n",
    "def rfam_data(rfam_ids, n_max=300, complexity=3, nbits=13):\n",
    "    Xs = []\n",
    "    targets = []\n",
    "    for i,rfam_id in enumerate(rfam_ids):\n",
    "        X=rfam_to_matrix(rfam_id, n_max=n_max, complexity=complexity, nbits=nbits)\n",
    "        Xs.append(X)\n",
    "        targets += [i] * X.shape[0]\n",
    "    data_matrix = vstack(Xs, format=\"csr\")\n",
    "    targets = np.array(targets)    \n",
    "    return data_matrix, targets"
   ]
  },
  {
   "cell_type": "code",
   "execution_count": 3,
   "metadata": {
    "collapsed": false
   },
   "outputs": [],
   "source": [
    "rfam_ids=['RF00004','RF00005','RF00015','RF00020','RF00026','RF00169',\n",
    "              'RF00380','RF00386','RF01051','RF01055','RF01234','RF01699',\n",
    "              'RF01701','RF01705','RF01731','RF01734','RF01745','RF01750',\n",
    "              'RF01942','RF01998','RF02005','RF02012','RF02034']\n",
    "X, y = rfam_data(rfam_ids, n_max=50, complexity=3, nbits=16)"
   ]
  },
  {
   "cell_type": "code",
   "execution_count": 32,
   "metadata": {
    "collapsed": true
   },
   "outputs": [],
   "source": [
    "minHash = MinHashClassifier(number_of_hash_functions=100, max_bin_size= 90, shingle_size = 2, #rangeK_wta=50,\n",
    "                      similarity=False, minimal_blocks_in_common=1,\n",
    "                      number_of_cores=4, prune_inverse_index=14, \n",
    "                      store_value_with_least_sigificant_bit=2,\n",
    "                      excess_factor=13, prune_inverse_index_after_instance=0.5, \n",
    "                      remove_hash_function_with_less_entries_as=0,\n",
    "                      shingle=0, block_size=4, cpu_gpu_load_balancing = 0.0, gpu_hashing=1)"
   ]
  },
  {
   "cell_type": "code",
   "execution_count": 33,
   "metadata": {
    "collapsed": false
   },
   "outputs": [],
   "source": [
    "wtaHash = WtaHashClassifier(number_of_hash_functions=168, max_bin_size= 47, shingle_size = 2, rangeK_wta=19,\n",
    "                      similarity=False, minimal_blocks_in_common=1,\n",
    "                      number_of_cores=4, prune_inverse_index=2, \n",
    "                      store_value_with_least_sigificant_bit=1,\n",
    "                      excess_factor=11, prune_inverse_index_after_instance=0.5, \n",
    "                      remove_hash_function_with_less_entries_as=0,\n",
    "                      shingle=0, block_size=1, cpu_gpu_load_balancing = 0.0)"
   ]
  },
  {
   "cell_type": "code",
   "execution_count": 34,
   "metadata": {
    "collapsed": true
   },
   "outputs": [],
   "source": [
    "nearest_NeighborsClassifier = KNeighborsClassifier(n_jobs=4, n_neighbors=10, algorithm='brute', metric='euclidean')"
   ]
  },
  {
   "cell_type": "code",
   "execution_count": 35,
   "metadata": {
    "collapsed": false
   },
   "outputs": [],
   "source": [
    "minHash.fit(X, y)\n",
    "wtaHash.fit(X, y)\n"
   ]
  },
  {
   "cell_type": "code",
   "execution_count": 36,
   "metadata": {
    "collapsed": false
   },
   "outputs": [
    {
     "data": {
      "text/plain": [
       "KNeighborsClassifier(algorithm='brute', leaf_size=30, metric='euclidean',\n",
       "           metric_params=None, n_jobs=4, n_neighbors=10, p=2,\n",
       "           weights='uniform')"
      ]
     },
     "execution_count": 36,
     "metadata": {},
     "output_type": "execute_result"
    }
   ],
   "source": [
    "nearest_NeighborsClassifier.fit(X, y)"
   ]
  },
  {
   "cell_type": "code",
   "execution_count": 37,
   "metadata": {
    "collapsed": true
   },
   "outputs": [],
   "source": [
    "kneighbors_minHash_fast = minHash.kneighbors(X, n_neighbors=10,fast=True,return_distance=False)\n",
    "kneighbors_minHash = minHash.kneighbors(X, n_neighbors=10,fast=False,return_distance=False)\n",
    "kneighbors_wtaHash_fast = wtaHash.kneighbors(X, n_neighbors=10,fast=True,return_distance=False)\n",
    "kneighbors_wtaHash = wtaHash.kneighbors(X, n_neighbors=10,fast=False,return_distance=False)\n"
   ]
  },
  {
   "cell_type": "code",
   "execution_count": 38,
   "metadata": {
    "collapsed": true
   },
   "outputs": [],
   "source": [
    "sklearn_kneighbors = nearest_NeighborsClassifier.kneighbors(X, n_neighbors=10, return_distance=False)"
   ]
  },
  {
   "cell_type": "code",
   "execution_count": 11,
   "metadata": {
    "collapsed": false
   },
   "outputs": [
    {
     "name": "stdout",
     "output_type": "stream",
     "text": [
      "[[   0    2   14 ...,   49    1   34]\n",
      " [   1    4   34 ...,   16   43    5]\n",
      " [   2    0 1047 ...,  821   45  809]\n",
      " ..., \n",
      " [1147 1146 1109 ..., 1107 1135 1104]\n",
      " [1148 1104 1116 ..., 1109 1146 1105]\n",
      " [1149 1117 1146 ..., 1135 1134 1144]]\n"
     ]
    }
   ],
   "source": [
    "print sklearn_kneighbors"
   ]
  },
  {
   "cell_type": "code",
   "execution_count": 39,
   "metadata": {
    "collapsed": false
   },
   "outputs": [
    {
     "name": "stdout",
     "output_type": "stream",
     "text": [
      "Accuracy MinHash fast:  0.200608695652\n",
      "Accuracy MinHash:  0.844434782609\n",
      "Accuracy WTA-Hash fast: 0.262608695652\n",
      "Accuracy WTA-Hash: 0.804086956522\n"
     ]
    }
   ],
   "source": [
    "print \"Accuracy MinHash fast: \", neighborhood_accuracy(kneighbors_minHash_fast, sklearn_kneighbors)\n",
    "print \"Accuracy MinHash: \", neighborhood_accuracy(kneighbors_minHash, sklearn_kneighbors)\n",
    "print \"Accuracy WTA-Hash fast:\", neighborhood_accuracy(kneighbors_wtaHash_fast, sklearn_kneighbors)\n",
    "print \"Accuracy WTA-Hash:\", neighborhood_accuracy(kneighbors_wtaHash, sklearn_kneighbors)"
   ]
  },
  {
   "cell_type": "code",
   "execution_count": 40,
   "metadata": {
    "collapsed": false
   },
   "outputs": [],
   "source": [
    "predict_minHash_fast = minHash.predict(X, n_neighbors=10,fast=True)\n",
    "predict_minHash = minHash.predict(X, n_neighbors=10,fast=False)\n",
    "predict_wtaHash_fast = wtaHash.predict(X, n_neighbors=10,fast=True)\n",
    "predict_wtaHash = wtaHash.predict(X, n_neighbors=10,fast=False)\n"
   ]
  },
  {
   "cell_type": "code",
   "execution_count": 28,
   "metadata": {
    "collapsed": false
   },
   "outputs": [],
   "source": [
    "predict_sklearn = nearest_NeighborsClassifier.predict(X)\n"
   ]
  },
  {
   "cell_type": "code",
   "execution_count": 16,
   "metadata": {
    "collapsed": true
   },
   "outputs": [],
   "source": [
    "predict_proba_minHash_fast = minHash.predict_proba(X, n_neighbors=10,fast=True)\n",
    "predict__proba_minHash = minHash.predict_proba(X, n_neighbors=10,fast=False)\n",
    "predict_proba_wtaHash_fast = wtaHash.predict_proba(X, n_neighbors=10,fast=True)\n",
    "predict_proba_wtaHash = wtaHash.predict_proba(X, n_neighbors=10,fast=False)\n"
   ]
  },
  {
   "cell_type": "code",
   "execution_count": 17,
   "metadata": {
    "collapsed": false
   },
   "outputs": [],
   "source": [
    "predict_proba_sklearn = nearest_NeighborsClassifier.predict_proba(X)"
   ]
  },
  {
   "cell_type": "code",
   "execution_count": 19,
   "metadata": {
    "collapsed": false
   },
   "outputs": [
    {
     "name": "stdout",
     "output_type": "stream",
     "text": [
      "Prediction proba accuracy MinHash Fast 0.719130434783\n",
      "Prediction proba accuracy MinHash 0.939470699433\n",
      "Prediction proba accuracy WTA-Hash Fast 0.740869565217\n",
      "Prediction proba accuracy WTA-Hash 0.927145557656\n"
     ]
    }
   ],
   "source": [
    "accuracy_score_ = 0.0\n",
    "for x, z in zip(predict_proba_minHash_fast, predict_proba_sklearn):\n",
    "#     print x\n",
    "#     print z*10\n",
    "    accuracy_score_ += accuracy_score(x*10, z*10)\n",
    "accuracy_score_ = accuracy_score_ / len(predict__proba_minHash)\n",
    "\n",
    "print \"Prediction proba accuracy MinHash Fast\", accuracy_score_\n",
    "accuracy_score_ = 0.0\n",
    "for x, z in zip(predict__proba_minHash, predict_proba_sklearn):\n",
    "    accuracy_score_ += accuracy_score(x*10, z*10)\n",
    "accuracy_score_ = accuracy_score_ / len(predict__proba_minHash)\n",
    "\n",
    "print \"Prediction proba accuracy MinHash\", accuracy_score_       \n",
    "accuracy_score_ = 0.0\n",
    "for x, z in zip(predict_proba_wtaHash_fast, predict_proba_sklearn):\n",
    "    accuracy_score_ += accuracy_score(x*10, z*10)\n",
    "accuracy_score_ = accuracy_score_ / len(predict__proba_minHash)\n",
    "\n",
    "print \"Prediction proba accuracy WTA-Hash Fast\", accuracy_score_\n",
    "accuracy_score_ = 0.0\n",
    "for x, z in zip(predict_proba_wtaHash, predict_proba_sklearn):\n",
    "    accuracy_score_ += accuracy_score(x*10, z*10)\n",
    "accuracy_score_ = accuracy_score_ / len(predict__proba_minHash)\n",
    "\n",
    "print \"Prediction proba accuracy WTA-Hash\",accuracy_score_\n",
    " "
   ]
  },
  {
   "cell_type": "code",
   "execution_count": 45,
   "metadata": {
    "collapsed": false
   },
   "outputs": [
    {
     "name": "stdout",
     "output_type": "stream",
     "text": [
      "0.411304347826\n",
      "0.573913043478\n",
      "0.479130434783\n",
      "0.594782608696\n"
     ]
    }
   ],
   "source": [
    "print minHash.score(X, y, fast=True)\n",
    "print minHash.score(X, y, fast=False)\n",
    "print wtaHash.score(X, y, fast=True)\n",
    "print wtaHash.score(X, y, fast=False)"
   ]
  },
  {
   "cell_type": "code",
   "execution_count": 23,
   "metadata": {
    "collapsed": false
   },
   "outputs": [
    {
     "name": "stdout",
     "output_type": "stream",
     "text": [
      "0.568695652174\n"
     ]
    }
   ],
   "source": [
    "print nearest_NeighborsClassifier.score(X,y)"
   ]
  },
  {
   "cell_type": "code",
   "execution_count": null,
   "metadata": {
    "collapsed": true
   },
   "outputs": [],
   "source": []
  }
 ],
 "metadata": {
  "kernelspec": {
   "display_name": "Python 2",
   "language": "python",
   "name": "python2"
  },
  "language_info": {
   "codemirror_mode": {
    "name": "ipython",
    "version": 2
   },
   "file_extension": ".py",
   "mimetype": "text/x-python",
   "name": "python",
   "nbconvert_exporter": "python",
   "pygments_lexer": "ipython2",
   "version": "2.7.6"
  }
 },
 "nbformat": 4,
 "nbformat_minor": 0
}
