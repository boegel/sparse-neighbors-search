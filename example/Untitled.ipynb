{
 "cells": [
  {
   "cell_type": "code",
   "execution_count": 1,
   "metadata": {
    "collapsed": false
   },
   "outputs": [],
   "source": [
    "from bioinf_learn import MinHash\n",
    "from bioinf_learn import WtaHash\n",
    "\n",
    "%matplotlib inline\n",
    "%load_ext memory_profiler\n",
    "from bioinf_learn.util import measure_performance\n",
    "from bioinf_learn.util import plotData\n",
    "from bioinf_learn.util import measureMinHashWtaHash\n",
    "import time\n",
    "import numpy as np\n",
    "\n",
    "from eden.converter.graph.gspan import gspan_to_eden\n",
    "from eden.graph import Vectorizer"
   ]
  },
  {
   "cell_type": "code",
   "execution_count": 2,
   "metadata": {
    "collapsed": false
   },
   "outputs": [
    {
     "name": "stdout",
     "output_type": "stream",
     "text": [
      "peak memory: 497.80 MiB, increment: 389.31 MiB\n",
      "CPU times: user 35.8 s, sys: 272 ms, total: 36.1 s\n",
      "Wall time: 36.9 s\n"
     ]
    }
   ],
   "source": [
    "graphs = gspan_to_eden( 'http://www.bioinf.uni-freiburg.de/~costa/bursi.gspan' )\n",
    "vectorizer = Vectorizer( r=2,d=5 )\n",
    "%time %memit datasetBursi = vectorizer.transform( graphs )"
   ]
  },
  {
   "cell_type": "code",
   "execution_count": null,
   "metadata": {
    "collapsed": false
   },
   "outputs": [
    {
     "name": "stdout",
     "output_type": "stream",
     "text": [
      "fitting minHash done\n",
      "fitting minHashGpu done\n",
      "fitting wtaHash done\n",
      "fitting wtaHashGPU done\n",
      "kneighbors minHash fast done\n",
      "kneighbors minHashGpu fast done\n",
      "kneighbors wtaHash fast done\n",
      "kneighbors wtaHashGpu fastdone\n",
      "kneighbors minHash done"
     ]
    }
   ],
   "source": [
    "foo = measureMinHashWtaHash(datasetBursi)"
   ]
  },
  {
   "cell_type": "code",
   "execution_count": null,
   "metadata": {
    "collapsed": true
   },
   "outputs": [],
   "source": [
    "print foo"
   ]
  }
 ],
 "metadata": {
  "kernelspec": {
   "display_name": "Python 2",
   "language": "python",
   "name": "python2"
  },
  "language_info": {
   "codemirror_mode": {
    "name": "ipython",
    "version": 2
   },
   "file_extension": ".py",
   "mimetype": "text/x-python",
   "name": "python",
   "nbconvert_exporter": "python",
   "pygments_lexer": "ipython2",
   "version": "2.7.6"
  }
 },
 "nbformat": 4,
 "nbformat_minor": 0
}
